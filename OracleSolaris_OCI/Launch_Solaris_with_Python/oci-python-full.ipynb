{
 "cells": [
  {
   "cell_type": "markdown",
   "id": "d4ad51ea-3d3f-4f61-8636-fe0967332c86",
   "metadata": {
    "tags": []
   },
   "source": [
    "# Notebook for launching Oracle Solaris on OCI\n",
    "\n",
    "Notebook for Working with the OCI Python API to launch an Oracle Solaris from the Marketplace image. This notebook contains the basic steps needed to find the image in the Marketplace, check if you've agreed to the license and if not how to do this, and finally with all this information how to launch a new instance of Oracle Solaris in OCI using this Marketplace image.\n",
    "\n",
    "First we need to import the needed Python libraries, load the configuration files, and initialize the Python client objects we're going to need.\n",
    "\n",
    "Importing the libraries:"
   ]
  },
  {
   "cell_type": "code",
   "execution_count": 1,
   "id": "ae82c152-63e4-4b22-8ab0-7a2d98ec3bad",
   "metadata": {},
   "outputs": [],
   "source": [
    "import oci\n",
    "from configparser import ConfigParser, DEFAULTSECT\n",
    "from terminaltables import AsciiTable\n",
    "from os.path import expanduser"
   ]
  },
  {
   "cell_type": "markdown",
   "id": "c0d5fcbf-e866-4837-ba17-644da4d136be",
   "metadata": {},
   "source": [
    "Defining variables:"
   ]
  },
  {
   "cell_type": "code",
   "execution_count": 2,
   "id": "55fd6cc4-7d34-4c20-bafe-57a9dd347267",
   "metadata": {},
   "outputs": [],
   "source": [
    "home = expanduser(\"~\")\n",
    "config_file = f'{home}/.oci/config' # The location of your OCI config file\n",
    "rc_file = f'{home}/.oci/oci_compute_rc' # The location of your rc file\n",
    "profile = 'DEFAULT' # The profile you want to load from the rc file\n",
    "market_image_name = 'Oracle Solaris 11.4' # The name of the Oracle Solaris image in the OCI Marketplace"
   ]
  },
  {
   "cell_type": "markdown",
   "id": "1a540b7a-d80f-48f6-b2cc-09a15eb15981",
   "metadata": {},
   "source": [
    "The `config` file is the same file as you would use when using the OCI CLI. It contains information like your tenancy, user, and region information and will be used to initialize the Python clients used to connect to OCI.\n",
    "\n",
    "The `oci_compute_rc` file is a file you will have to create yourself and it hold the information needed to define the instance you want to create. It contains things like the the Compartment ID, Availability Domain, and the VCN name so the instance is created in and connected to the right places and elements in OCI. It looks like this:\n",
    "\n",
    "```\n",
    "[DEFAULT]\n",
    "# Global defaults for oci-compute\n",
    "compartment-id = ocid1.compartment.oc1..xxxxxxxxxxxxxxxxxxxxxxxxxxxxxxxxxxxx\n",
    "shape = VM.Standard2.1\n",
    "availability-domain = <AD-name>\n",
    "vcn-name = <VCN-name>\n",
    "subnet-name = <Subnet-name>\n",
    "ssh-authorized-keys-file = /<directory>/<ssh-guest-key-name>\n",
    "```\n",
    "\n",
    "If you don't know the values of these elements you can find them in the Oracle Cloud Console.\n",
    "\n",
    "Now we load the rc file:"
   ]
  },
  {
   "cell_type": "code",
   "execution_count": 3,
   "id": "195bd2e6-0658-4d42-9977-dddf9192b77f",
   "metadata": {},
   "outputs": [
    {
     "name": "stdout",
     "output_type": "stream",
     "text": [
      "['~/.oci/oci_compute_rc']\n",
      "           compartment-id: ocid1.compartment.oc1..xxxxxxxxxxxxxxxxxxxxxxxxxxxxxxxxxxxxxxxxxxxxxxxxxxxxxxxxxxxx\n",
      "                    shape: VM.Standard2.1\n",
      "      availability-domain: AD-1\n",
      "                 vcn-name: network-01\n",
      "              subnet-name: subnet-01\n",
      " ssh-authorized-keys-file: ~/.oci/ssh-guest-key-20221028.key.pub\n"
     ]
    }
   ],
   "source": [
    "my_instance_config = ConfigParser(interpolation=None)\n",
    "\n",
    "print(my_instance_config.read(rc_file))\n",
    "\n",
    "for key in my_instance_config[profile]:\n",
    "    print(f'{key:>25}: {my_instance_config[profile][key]}')"
   ]
  },
  {
   "cell_type": "markdown",
   "id": "ebc41109-7529-4f9b-8e05-50dd8a4247fc",
   "metadata": {},
   "source": [
    "And the config file using the `oci.config.from_file` function to load it into the right object:"
   ]
  },
  {
   "cell_type": "code",
   "execution_count": 4,
   "id": "ca3858a6-9105-449a-9895-f8c7c70596c4",
   "metadata": {},
   "outputs": [
    {
     "name": "stdout",
     "output_type": "stream",
     "text": [
      "             log_requests: False\n",
      "    additional_user_agent: \n",
      "              pass_phrase: None\n",
      "                     user: ocid1.user.oc1..xxxxxxxxxxxxxxxxxxxxxxxxxxxxxxxxxxxxxxxxxxxxxxxxxxxxxxxxxxxx\n",
      "              fingerprint: 94:79:e9:17:44:23:8e:67:a5:d7:f2:58:9f:aa:db:61\n",
      "                 key_file: ~/.oci/oci_api_key.pem\n",
      "                  tenancy: ocid1.tenancy.oc1..xxxxxxxxxxxxxxxxxxxxxxxxxxxxxxxxxxxxxxxxxxxxxxxxxxxxxxxxxxxx\n",
      "                   region: eu-frankfurt-1\n"
     ]
    }
   ],
   "source": [
    "my_account_config = oci.config.from_file(config_file, profile)\n",
    "\n",
    "for key in my_account_config:\n",
    "    print(f'{key:>25}: {my_account_config[key]}')"
   ]
  },
  {
   "cell_type": "markdown",
   "id": "a7509356-8f1d-41a0-aec1-b42aee6be8a5",
   "metadata": {},
   "source": [
    "And now we initialize the Python client objects using the config file information:"
   ]
  },
  {
   "cell_type": "code",
   "execution_count": 5,
   "id": "50ab6fef-378f-46db-ba8c-47ae7c224e6c",
   "metadata": {},
   "outputs": [],
   "source": [
    "my_compute_client = oci.core.ComputeClient(my_account_config)\n",
    "my_identity_client = oci.identity.IdentityClient(my_account_config)\n",
    "my_virtual_network_client = oci.core.VirtualNetworkClient(my_account_config)\n",
    "my_marketplace_client = oci.marketplace.MarketplaceClient(my_account_config)"
   ]
  },
  {
   "cell_type": "markdown",
   "id": "4352e026-cec7-4779-bb5f-0133dd6236e5",
   "metadata": {
    "tags": []
   },
   "source": [
    "At this point we are ready for the first steps.\n",
    "\n",
    "## Working with the Marketplace\n",
    "\n",
    "The first thing we'll need to do is find the Oracle Solaris listing in the Marketplace. This will allow us to find the list of available Oracle Solaris versions also known as packages. \n",
    "\n",
    "### Getting the details of the Oracle Solaris 11.4 images\n",
    "\n",
    "Using the Marketplace client we load the list of Marketplace listings and search for the listing named `Oracle Solaris 11.4`. This will give us a list with one entry, and we pull this entry out, store it in `listing`, and print it to show you what it looks like. \n",
    "\n",
    "> Note: The `list_listings()` fucntion normally only loads a subset of the total so we use the `oci.pagination.list_call_get_all_results()` function to load all the results in one go.\n",
    "\n",
    "Once we have the listing information we can pull the list of packages associated with Oracle Solaris. Each package is a different version of Oracle Solaris where we order it with newest version first. So if we pull the first package in the list we'll automatically get the most recent version.\n",
    "\n",
    "Then using the information about this package we fetch the full set of data associated with the package."
   ]
  },
  {
   "cell_type": "code",
   "execution_count": 6,
   "id": "ee50d311-6c66-497a-b040-c1cac92fd2fc",
   "metadata": {},
   "outputs": [
    {
     "name": "stdout",
     "output_type": "stream",
     "text": [
      "Listing:\n",
      "{\n",
      "  \"categories\": [\n",
      "    \"Operating Systems\"\n",
      "  ],\n",
      "  \"compatible_architectures\": [\n",
      "    \"X86\"\n",
      "  ],\n",
      "  \"icon\": {\n",
      "    \"content_url\": \"https://objectstorage.eu-frankfurt-1.oraclecloud.com/p/cEyHNruC431YvypjHWa3pYeU8ATum3oOTS_vMSr-a2fIiv1Vucl-fByudYY9D4ah/n/marketplaceprod/b/pacman-prod-consumer-content/o/136471195.png\",\n",
      "    \"file_extension\": \"png\",\n",
      "    \"mime_type\": \"image/png\",\n",
      "    \"name\": \"\"\n",
      "  },\n",
      "  \"id\": \"61750333\",\n",
      "  \"is_featured\": false,\n",
      "  \"is_rover_exportable\": false,\n",
      "  \"listing_type\": \"PARTNER\",\n",
      "  \"name\": \"Oracle Solaris 11.4\",\n",
      "  \"package_type\": \"IMAGE\",\n",
      "  \"pricing_types\": [\n",
      "    \"FREE\"\n",
      "  ],\n",
      "  \"publisher\": {\n",
      "    \"description\": \"With more than 380,000 customers\\u2014including 100 of the Fortune 100\\u2014and with deployments across a wide variety of industries in more than 145 countries around the globe, Oracle offers an optimized and fully integrated stack of business hardware and software systems. Oracle engineers hardware and software to work together in the cloud and in your data center\\u2013from servers and storage, to database and middleware, through applications. Learn more about Oracle http://oracle.com/us/corporate\",\n",
      "    \"id\": \"5190498\",\n",
      "    \"name\": \"Oracle\"\n",
      "  },\n",
      "  \"regions\": null,\n",
      "  \"short_description\": \"The Oracle Solaris 11.4 operating system base image configured for use on Oracle Cloud Infrastructure.   Support for both virtual machines and bare metal is provided.\",\n",
      "  \"supported_operating_systems\": null,\n",
      "  \"tagline\": \"The Oracle Solaris 11.4 operating system\"\n",
      "}\n",
      "\n",
      "The lastest package:\n",
      "{\n",
      "  \"app_catalog_listing_id\": \"ocid1.appcataloglisting.oc1..aaaaaaaa72lfxnjprgn2ei3wlvwrdxxxluolxksbdjl3goyv6zrggsefhfva\",\n",
      "  \"app_catalog_listing_resource_version\": \"11.4.50\",\n",
      "  \"description\": \"\",\n",
      "  \"image_id\": \"ocid1.image.oc1..aaaaaaaaa5tsn4iyzknn4mugs36cwuofwqspvwrr6vct75r4lpplqmtitdvq\",\n",
      "  \"listing_id\": \"61750333\",\n",
      "  \"operating_system\": null,\n",
      "  \"package_type\": \"IMAGE\",\n",
      "  \"pricing\": {\n",
      "    \"currency\": null,\n",
      "    \"international_market_price\": null,\n",
      "    \"pay_go_strategy\": null,\n",
      "    \"rate\": null,\n",
      "    \"type\": \"FREE\"\n",
      "  },\n",
      "  \"regions\": [],\n",
      "  \"resource_id\": \"136289820\",\n",
      "  \"time_created\": \"2022-10-18T00:00:00+00:00\",\n",
      "  \"version\": \"11.4.50\"\n",
      "}\n"
     ]
    }
   ],
   "source": [
    "response = oci.pagination.list_call_get_all_results(my_marketplace_client.list_listings, pricing=['FREE'])\n",
    "listings = []\n",
    "\n",
    "# Searching for Oracle Solaris 11.4 in the listings\n",
    "for listing in response.data:\n",
    "    if market_image_name in listing.name:\n",
    "        listings.append(listing)\n",
    "\n",
    "listing = listings[0]\n",
    "print(f'Listing:\\n{listing}')\n",
    "\n",
    "packages = my_marketplace_client.list_packages(listing.id, sort_by='TIMERELEASED', sort_order='DESC').data\n",
    "package = packages[0]\n",
    "\n",
    "package = my_marketplace_client.get_package(package.listing_id, package.package_version).data\n",
    "print(f'\\nThe lastest package:\\n{package}')"
   ]
  },
  {
   "cell_type": "markdown",
   "id": "9a77cad9-476a-40a6-9f90-38aff4e13a1f",
   "metadata": {},
   "source": [
    "You can actually use this to also list all the listings in the Marketplace, this is a list of the free listings:"
   ]
  },
  {
   "cell_type": "code",
   "execution_count": 7,
   "id": "dfbe38c9-ce1f-4996-babf-db69397920ad",
   "metadata": {},
   "outputs": [
    {
     "name": "stdout",
     "output_type": "stream",
     "text": [
      "+Free Marketplace images----------+-----------------------------------------------------------------------------+\n",
      "| Publisher                       | Name                                                                        |\n",
      "+---------------------------------+-----------------------------------------------------------------------------+\n",
      "| AlmaLinux Foundation            | AlmaLinux OS 8 (AArch64)                                                    |\n",
      "| AlmaLinux Foundation            | AlmaLinux OS 8 (x86_64)                                                     |\n",
      "| AlmaLinux Foundation            | AlmaLinux OS 9 (AArch64)                                                    |\n",
      "| AlmaLinux Foundation            | AlmaLinux OS 9 (x86_64)                                                     |\n",
      "| Ampere Computing LLC            | ONNXRT - Ampere® Optimized Framework - Ubuntu 20.04                         |\n",
      "| Ampere Computing LLC            | PyTorch - Ampere® Optimized Framework - Ubuntu 20.04                        |\n",
      "| Ampere Computing LLC            | TensorFlow - Ampere® Optimized Framework - Ubuntu 20.04                     |\n",
      "| Astera Software                 | Astera DW Builder                                                           |\n",
      "| Ctrl IQ, Inc.                   | Rocky Linux 8.6                                                             |\n",
      "| Ctrl IQ, Inc.                   | Rocky Linux 8.6 (aarch64)                                                   |\n",
      "| Ctrl IQ, Inc.                   | Rocky Linux 9.0 (aarch64)                                                   |\n",
      "| Ctrl IQ, Inc.                   | Rocky Linux 9.0 (x86_64)                                                    |\n",
      "| Curriki                         | Curriki                                                                     |\n",
      "| Curriki                         | CurrikiStudio - App                                                         |\n",
      "| Curriki                         | CurrikiStudio - DB                                                          |\n",
      "| Curriki                         | CurrikiStudio - ElasticSearch                                               |\n",
      "| Flexagon                        | FlexDeploy                                                                  |\n",
      "| OpenMandriva                    | OpenMandriva Lx Cooker (ARM)                                                |\n",
      "| Oracle                          | AI 'all-in-one' Data Science Image Intel/AMD                                |\n",
      "| Oracle                          | AI 'all-in-one' Data Science Image for GPU                                  |\n",
      "| Oracle                          | Autonomous Transaction Processing (ATP) Database Audit Logs Monitoring      |\n",
      "| Oracle                          | BeeGFS Filesystem                                                           |\n",
      "| Oracle                          | BeeGFS ON Demand (BeeOND) Filesystem using 100 Gbps RDMA                    |\n",
      "| Oracle                          | Data Integrator: Classic                                                    |\n",
      "| Oracle                          | Data Integrator: Web Edition                                                |\n",
      "| Oracle                          | Data Integrator: Web Edition (Versions prior to May 2022)                   |\n",
      "| Oracle                          | FoldingATHome GPU Image                                                     |\n",
      "| Oracle                          | Genome Analysis Toolkit                                                     |\n",
      "| Oracle                          | Gluster Filesystem                                                          |\n",
      "| Oracle                          | HPC Cluster                                                                 |\n",
      "| Oracle                          | Julia AI HPC GPU Image                                                      |\n",
      "| Oracle                          | Kali Linux                                                                  |\n",
      "| Oracle                          | Logging Analytics - Quick Start                                             |\n",
      "| Oracle                          | Lustre Filesystem                                                           |\n",
      "| Oracle                          | NFS cluster with active/passive high availability (HA)                      |\n",
      "| Oracle                          | NVIDIA GPU Cloud Machine Image                                              |\n",
      "| Oracle                          | NVIDIA Quadro Virtual Workstation - Windows Server 2016 VM                  |\n",
      "| Oracle                          | NVIDIA Quadro Virtual Workstation - Windows Server 2019 VM                  |\n",
      "| Oracle                          | NVIDIA cuQuantum Appliance                                                  |\n",
      "| Oracle                          | OCI HPC Data Mover / Migration Cluster                                      |\n",
      "| Oracle                          | OCI HPC File System (HFS)                                                   |\n",
      "| Oracle                          | Oracle Access Management                                                    |\n",
      "| Oracle                          | Oracle Database Appliance (ODA) Simulator                                   |\n",
      "| Oracle                          | Oracle Database Sharding                                                    |\n",
      "| Oracle                          | Oracle E-Business Suite 12.2.10 Demo Install Image                          |\n",
      "| Oracle                          | Oracle E-Business Suite 12.2.11 Demo Install Image                          |\n",
      "| Oracle                          | Oracle E-Business Suite 12.2.8 Demo Install Image                           |\n",
      "| Oracle                          | Oracle E-Business Suite 12.2.9  Demo Install Image                          |\n",
      "| Oracle                          | Oracle E-Business Suite Cloud Manager                                       |\n",
      "| Oracle                          | Oracle E-Business Suite Cloud Manager Stack for Demos                       |\n",
      "| Oracle                          | Oracle Enterprise Command Center Framework                                  |\n",
      "| Oracle                          | Oracle Enterprise Manager 13c Workshop                                      |\n",
      "| Oracle                          | Oracle GoldenGate  – Database Migrations                                    |\n",
      "| Oracle                          | Oracle IDCS: Security and Monitoring                                        |\n",
      "| Oracle                          | Oracle Identity Governance                                                  |\n",
      "| Oracle                          | Oracle Identity Management                                                  |\n",
      "| Oracle                          | Oracle Linux 7 - GPU Cluster Networking Image                               |\n",
      "| Oracle                          | Oracle Linux 7 - HPC Cluster Networking Image                               |\n",
      "| Oracle                          | Oracle Linux 7 Arm STIG                                                     |\n",
      "| Oracle                          | Oracle Linux 7 High Performance Computing Image                             |\n",
      "| Oracle                          | Oracle Linux 7 STIG                                                         |\n",
      "| Oracle                          | Oracle Linux KVM Image                                                      |\n",
      "| Oracle                          | Oracle Linux KVM Image (Autonomous Linux)                                   |\n",
      "| Oracle                          | Oracle Linux Storage Appliance                                              |\n",
      "| Oracle                          | Oracle Linux Storage Appliance (Autonomous Linux)                           |\n",
      "| Oracle                          | Oracle NoSQL Single Node Database for Roving Edge Infrastructure            |\n",
      "| Oracle                          | Oracle RDF Graph Server and Query UI                                        |\n",
      "| Oracle                          | Oracle Solaris 11.4                                                         |\n",
      "| Oracle                          | Oracle Spatial Map Visualization Component and Web Map Server (WMS)         |\n",
      "| Oracle                          | Oracle Spatial Network Data Model                                           |\n",
      "| Oracle                          | Oracle Spatial Studio                                                       |\n",
      "| Oracle                          | Oracle Spatial Studio for Roving Edge Infrastructure                        |\n",
      "| Oracle                          | Oracle Spatial Web Services                                                 |\n",
      "| Oracle                          | Oracle Unified Directory                                                    |\n",
      "| Oracle                          | Oracle ZFS Storage                                                          |\n",
      "| Oracle                          | Oracle ZFS-HA Storage Deployment Tool                                       |\n",
      "| Oracle                          | Siebel Cloud Manager (SCM)                                                  |\n",
      "| Oracle                          | Standalone - Simplify Microservices on Converged Oracle Database            |\n",
      "| Oracle                          | Usage2ADW Usage and Cost Reports to Autonomous Database with APEX Reporting |\n",
      "| Oracle                          | Visual Studio Code Remote Workstation                                       |\n",
      "| Prime Strategy Co., Ltd         | KUSANAGI for Oracle Cloud                                                   |\n",
      "| ProtectBox Limited              | ProtectBox                                                                  |\n",
      "| Real Cientifica Cloud Computing | Ubuntu Desktop 20.04 (RDP)                                                  |\n",
      "| Rocket.Chat                     | RocketChat                                                                  |\n",
      "| The FreeBSD Foundation          | FreeBSD                                                                     |\n",
      "| Vendita Technology Group Inc    | Vendita MAS v4.0                                                            |\n",
      "| 上海合合信息科技股份有限公司    | TextPro Invoice Management Solution                                         |\n",
      "+---------------------------------+-----------------------------------------------------------------------------+\n"
     ]
    }
   ],
   "source": [
    "response = oci.pagination.list_call_get_all_results(my_marketplace_client.list_listings, pricing=['FREE'])\n",
    "listings = set()\n",
    "for listing in response.data:\n",
    "    listings.add((listing.publisher.name, listing.name))\n",
    "\n",
    "table = AsciiTable([('Publisher', 'Name')] + sorted(listings))\n",
    "table.title = 'Free Marketplace images'\n",
    "print(table.table)"
   ]
  },
  {
   "cell_type": "markdown",
   "id": "e86f3528-aea2-4315-94e8-cb1e0731ba2f",
   "metadata": {
    "tags": []
   },
   "source": [
    "### Checking for a license agreement for this package\n",
    "\n",
    "Now we have the package information we need we can use it to check if you've already accepted the license. To do this you first need to use the Marketplace client to fetch the list of agreements you have in place against this package, plus we get the list of accepted agreements you have within this compartment, against the package. \n",
    "\n",
    "Then we check if the agreement we fetched is in the list of accepted agreements. If so you're ready for the next step, if not then you need to accept the agreement first.\n",
    "\n",
    "The following code does this and prints out the result:"
   ]
  },
  {
   "cell_type": "code",
   "execution_count": 8,
   "id": "4dabcf7f-574d-4170-9b59-2782479032f1",
   "metadata": {},
   "outputs": [
    {
     "name": "stdout",
     "output_type": "stream",
     "text": [
      "The list of agreements:\n",
      "[{\n",
      "  \"author\": \"ORACLE\",\n",
      "  \"content_url\": \"https://objectstorage.eu-frankfurt-1.oraclecloud.com/p/cEyHNruC431YvypjHWa3pYeU8ATum3oOTS_vMSr-a2fIiv1Vucl-fByudYY9D4ah/n/marketplaceprod/b/pacman-prod-consumer-content/o/58993511.html\",\n",
      "  \"id\": \"58993510\",\n",
      "  \"prompt\": \"I have reviewed and accept the <link>Terms of Use for Oracle Solaris on the Oracle Cloud Infrastructure Marketplace</link>\"\n",
      "}]\n",
      "\n",
      "The list of accepted agreements:\n",
      "[{\n",
      "  \"agreement_id\": \"58993510\",\n",
      "  \"compartment_id\": \"ocid1.compartment.oc1..xxxxxxxxxxxxxxxxxxxxxxxxxxxxxxxxxxxxxxxxxxxxxxxxxxxxxxxxxxxx\",\n",
      "  \"display_name\": \"marketplaceacceptedagreement20221031181133\",\n",
      "  \"id\": \"ocid1.marketplaceacceptedagreement.oc1..xxxxxxxxxxxxxxxxxxxxxxxxxxxxxxxxxxxxxxxxxxxxxxxxxxxxxxxxxxxx\",\n",
      "  \"listing_id\": \"61750333\",\n",
      "  \"package_version\": \"11.4.50\",\n",
      "  \"time_accepted\": \"2022-10-31T18:11:33.995000+00:00\"\n",
      "}]\n",
      "\n",
      "The details of the current accepted agreement:\n",
      "[{\n",
      "  \"agreement_id\": \"58993510\",\n",
      "  \"compartment_id\": \"ocid1.compartment.oc1..xxxxxxxxxxxxxxxxxxxxxxxxxxxxxxxxxxxxxxxxxxxxxxxxxxxxxxxxxxxx\",\n",
      "  \"display_name\": \"marketplaceacceptedagreement20221031181133\",\n",
      "  \"id\": \"ocid1.marketplaceacceptedagreement.oc1..xxxxxxxxxxxxxxxxxxxxxxxxxxxxxxxxxxxxxxxxxxxxxxxxxxxxxxxxxxxx\",\n",
      "  \"listing_id\": \"61750333\",\n",
      "  \"package_version\": \"11.4.50\",\n",
      "  \"time_accepted\": \"2022-10-31T18:11:33.995000+00:00\"\n",
      "}]\n",
      "\n",
      "The agreement was accepted on: 2022-10-31 18:11:33.995000+00:00\n",
      "\n"
     ]
    }
   ],
   "source": [
    "agreements = my_marketplace_client.list_agreements(package.listing_id, package.version).data\n",
    "print(f'The list of agreements:\\n{agreements}\\n')\n",
    "\n",
    "accepted_agreements = my_marketplace_client.list_accepted_agreements(my_instance_config[profile]['compartment-id'], \n",
    "                                                                     listing_id=package.listing_id, \n",
    "                                                                     package_version=package.version).data\n",
    "print(f'The list of accepted agreements:\\n{accepted_agreements}\\n')\n",
    "\n",
    "if accepted_agreements:\n",
    "    print(f'The details of the current accepted agreement:\\n{accepted_agreements}\\n')\n",
    "else:\n",
    "    print('There is currently no agreement in place\\n')\n",
    "\n",
    "not_accepted = []\n",
    "for agreement in agreements:\n",
    "    agreement_match = [accepted_agreement for accepted_agreement in accepted_agreements if agreement.id == accepted_agreement.agreement_id]\n",
    "    if not agreement_match:\n",
    "        not_accepted.append(agreement)\n",
    "        print(f'The agreement was not accepted yet. The terms of the agreement:\\n{agreement}\\n')\n",
    "    else:\n",
    "        print(f'The agreement was accepted on: {agreement_match[0].time_accepted}\\n')"
   ]
  },
  {
   "cell_type": "markdown",
   "id": "f698d436-fc12-4d43-bd2c-a66e6bd0711a",
   "metadata": {
    "tags": []
   },
   "source": [
    "### To accept the agreement for this package\n",
    "\n",
    "If the agreement was not yet accepted, this following code will get the agreement details, then create an accepted agreement details object, and then use this object to accept the agreement:"
   ]
  },
  {
   "cell_type": "code",
   "execution_count": 9,
   "id": "330f841a-2a2c-4fc8-a6f1-62ddb1ed5845",
   "metadata": {},
   "outputs": [
    {
     "name": "stdout",
     "output_type": "stream",
     "text": [
      "Agreements already accepted\n"
     ]
    }
   ],
   "source": [
    "if not_accepted:\n",
    "    for agreement in not_accepted:\n",
    "        agreement_detail = my_marketplace_client.get_agreement(package.listing_id, package.version, agreement.id).data\n",
    "        print(f'The details of the agreement before accepting the license:\\n{agreement_detail}\\n')\n",
    "        \n",
    "        accepted_agreement_details = oci.marketplace.models.CreateAcceptedAgreementDetails(\n",
    "            agreement_id=agreement.id,\n",
    "            compartment_id=my_instance_config[profile]['compartment-id'],\n",
    "            listing_id=package.listing_id,\n",
    "            package_version=package.version,\n",
    "            signature=agreement_detail.signature)\n",
    "        print(f'The details of the agreement acceptment statement:\\n{accepted_agreement_details}\\n')\n",
    "        my_marketplace_client.create_accepted_agreement(accepted_agreement_details)\n",
    "\n",
    "else:\n",
    "    print('Agreements already accepted')"
   ]
  },
  {
   "cell_type": "markdown",
   "id": "6fd7fb34-cf06-4f8e-a453-f11b9e6d2c25",
   "metadata": {},
   "source": [
    "## Provisioning the Oracle Solaris 11.4 image from the Marketplace\n",
    "\n",
    "Now you have all the information about the Marketplace image you need and you've checked if the license has been accepted, you can provision an instance.\n",
    "\n",
    "### Defining the new instance\n",
    "\n",
    "To create the instance we need to define a set of Python variables and objects:\n",
    "\n",
    "* Display Name\n",
    "* Compartment ID\n",
    "* Availability Domain Name\n",
    "* Shape Name\n",
    "* VNIC Details Object\n",
    "* Image Details Object\n",
    "* Metadata Object — That holds info like where the SSH key is located\n",
    "\n",
    "We know the Compartment ID and the Shape as they were defined in the RC file.\n",
    "\n",
    "First, we choose a Display Name for the new instance:"
   ]
  },
  {
   "cell_type": "code",
   "execution_count": 10,
   "id": "0eacbea3-97b5-484a-94b6-2c4aa85bf2cb",
   "metadata": {},
   "outputs": [],
   "source": [
    "new_instance_name = 'provisioning_with_python'"
   ]
  },
  {
   "cell_type": "markdown",
   "id": "6c2f87c9-9727-4ac9-96d7-ea81d8db461b",
   "metadata": {},
   "source": [
    "Then we check the Availability Domain. This way you can define a very simple Availability Domain name, like `AD1` and then use this to find the real Availability Domain name:"
   ]
  },
  {
   "cell_type": "code",
   "execution_count": 11,
   "id": "fd8a13d7-ba4c-42e0-931d-c7883ff82ac7",
   "metadata": {},
   "outputs": [
    {
     "name": "stdout",
     "output_type": "stream",
     "text": [
      "Found availability domain name is ruWb:EU-FRANKFURT-1-AD-1\n"
     ]
    }
   ],
   "source": [
    "availability_domains = oci.pagination.list_call_get_all_results(my_identity_client.list_availability_domains, my_instance_config[profile]['compartment-id']).data\n",
    "ad_match = [ad for ad in availability_domains if my_instance_config[profile]['availability-domain'].upper() in ad.name]\n",
    "if ad_match:\n",
    "    print(f'Found availability domain name is {ad_match[0].name}')\n",
    "else:\n",
    "    print(f\"No AD found matching \\\"{my_instance_config[profile]['availability-domain']}\\\"\")"
   ]
  },
  {
   "cell_type": "markdown",
   "id": "a42023ad-9584-4a18-b1ae-35ce05e07a7c",
   "metadata": {},
   "source": [
    "Next we check if the VCN name and Subnet name given in the RC file are valid and exist in the compartment we've chosen, and using the Subnet information we create a VNIC object we need for the instance:"
   ]
  },
  {
   "cell_type": "code",
   "execution_count": 12,
   "id": "3f282d11-c938-4d87-8db6-fa55f8564ac5",
   "metadata": {},
   "outputs": [
    {
     "name": "stdout",
     "output_type": "stream",
     "text": [
      "Found VCN name is network-01\n",
      "Found Subnet name is subnet-01\n",
      "\n",
      "The VNIC details are:\n",
      "{\n",
      "  \"assign_private_dns_record\": null,\n",
      "  \"assign_public_ip\": null,\n",
      "  \"defined_tags\": null,\n",
      "  \"display_name\": null,\n",
      "  \"freeform_tags\": null,\n",
      "  \"hostname_label\": null,\n",
      "  \"nsg_ids\": null,\n",
      "  \"private_ip\": null,\n",
      "  \"skip_source_dest_check\": null,\n",
      "  \"subnet_id\": \"ocid1.subnet.oc1.eu-frankfurt-1.xxxxxxxxxxxxxxxxxxxxxxxxxxxxxxxxxxxxxxxxxxxxxxxxxxxxxxxxxxxx\",\n",
      "  \"vlan_id\": null\n",
      "}\n"
     ]
    }
   ],
   "source": [
    "vcns = my_virtual_network_client.list_vcns(my_instance_config[profile]['compartment-id'], display_name=my_instance_config[profile]['vcn-name']).data\n",
    "if not vcns:\n",
    "    print('No matching VCN for \"{}\"'.format(my_instance_config[profile]['vcn-name']))\n",
    "else:\n",
    "    vcn = vcns[0]\n",
    "    print(f'Found VCN name is {vcn.display_name}')\n",
    "    subnets = my_virtual_network_client.list_subnets(my_instance_config[profile]['compartment-id'], \n",
    "                                                     vcn_id=vcn.id, \n",
    "                                                     display_name=my_instance_config[profile]['subnet-name']).data\n",
    "    if not subnets:\n",
    "        print('No matching subnet for \"{}\"'.format(my_instance_config[profile]['subnet-name']))\n",
    "    else:\n",
    "        subnet = subnets[0]\n",
    "        print(f'Found Subnet name is {subnet.display_name}')\n",
    "        \n",
    "create_vnic_details = oci.core.models.CreateVnicDetails(subnet_id=subnet.id)\n",
    "print(f'\\nThe VNIC details are:\\n{create_vnic_details}')"
   ]
  },
  {
   "cell_type": "markdown",
   "id": "516c2f8b-d3b1-4c62-94c5-25479bd10088",
   "metadata": {},
   "source": [
    "Now we take the package infromation from the OCI Marketplace and use it to find the information about this image we want to use on the OCI Compute side, so it can use it to provision the instance. \n",
    "\n",
    "We use the `get_app_catalog_listing_resource_version()` function and the Marketplace package information to locate the listing on the OCI Compute side. We can then use the `get_image()` function to create the Image Object, which is then used by the `InstanceSourceViaImageDetails()` function to create the Image Details Obejct needed:"
   ]
  },
  {
   "cell_type": "code",
   "execution_count": 13,
   "id": "471cf46a-325e-4c89-a0ce-07c72b0f2f44",
   "metadata": {},
   "outputs": [
    {
     "name": "stdout",
     "output_type": "stream",
     "text": [
      "The App Catalog listing for the package:\n",
      "{\n",
      "  \"accessible_ports\": [],\n",
      "  \"allowed_actions\": [\n",
      "    \"SNAPSHOT\"\n",
      "  ],\n",
      "  \"available_regions\": [\n",
      "    \"af-johannesburg-1\",\n",
      "    \"ap-chuncheon-1\",\n",
      "    \"ap-hyderabad-1\",\n",
      "    \"ap-melbourne-1\",\n",
      "    \"ap-mumbai-1\",\n",
      "    \"ap-osaka-1\",\n",
      "    \"ap-seoul-1\",\n",
      "    \"ap-singapore-1\",\n",
      "    \"ap-sydney-1\",\n",
      "    \"ap-tokyo-1\",\n",
      "    \"ca-montreal-1\",\n",
      "    \"ca-toronto-1\",\n",
      "    \"eu-amsterdam-1\",\n",
      "    \"eu-frankfurt-1\",\n",
      "    \"eu-madrid-1\",\n",
      "    \"eu-marseille-1\",\n",
      "    \"eu-milan-1\",\n",
      "    \"eu-paris-1\",\n",
      "    \"eu-stockholm-1\",\n",
      "    \"eu-zurich-1\",\n",
      "    \"il-jerusalem-1\",\n",
      "    \"me-abudhabi-1\",\n",
      "    \"me-dubai-1\",\n",
      "    \"me-jeddah-1\",\n",
      "    \"mx-queretaro-1\",\n",
      "    \"sa-santiago-1\",\n",
      "    \"sa-saopaulo-1\",\n",
      "    \"sa-vinhedo-1\",\n",
      "    \"uk-cardiff-1\",\n",
      "    \"uk-london-1\",\n",
      "    \"us-ashburn-1\",\n",
      "    \"us-chicago-1\",\n",
      "    \"us-phoenix-1\",\n",
      "    \"us-sanjose-1\"\n",
      "  ],\n",
      "  \"compatible_shapes\": [\n",
      "    \"VM.Standard.B1.2\",\n",
      "    \"BM.DenseIO2.52\",\n",
      "    \"VM.DenseIO1.16\",\n",
      "    \"VM.Standard.B1.1\",\n",
      "    \"BM.DenseIO1.36\",\n",
      "    \"VM.Standard.B1.4\",\n",
      "    \"BM.GPU3.8\",\n",
      "    \"VM.Standard.E4.Flex\",\n",
      "    \"VM.Standard1.16\",\n",
      "    \"VM.GPU3.4\",\n",
      "    \"BM.Standard1.36\",\n",
      "    \"VM.GPU3.1\",\n",
      "    \"VM.Standard2.24\",\n",
      "    \"VM.GPU2.1\",\n",
      "    \"VM.Standard.B1.16\",\n",
      "    \"VM.GPU3.2\",\n",
      "    \"VM.Standard2.8\",\n",
      "    \"VM.Standard3.Flex\",\n",
      "    \"VM.Standard.E2.1.Micro\",\n",
      "    \"BM.GPU2.2\",\n",
      "    \"VM.Optimized3.Flex\",\n",
      "    \"VM.Standard2.4\",\n",
      "    \"VM.DenseIO2.24\",\n",
      "    \"VM.Standard.B1.8\",\n",
      "    \"VM.Standard1.1\",\n",
      "    \"VM.Standard1.2\",\n",
      "    \"VM.Standard2.1\",\n",
      "    \"VM.Standard.E3.Flex\",\n",
      "    \"VM.Standard2.2\",\n",
      "    \"BM.Standard2.52\",\n",
      "    \"VM.Standard.E2.1\",\n",
      "    \"VM.Standard.E2.2\",\n",
      "    \"VM.Standard.E2.4\",\n",
      "    \"VM.Standard2.16\",\n",
      "    \"BM.GPU4.8\",\n",
      "    \"BM.HPC2.36\",\n",
      "    \"VM.DenseIO1.8\",\n",
      "    \"VM.DenseIO2.8\",\n",
      "    \"VM.DenseIO1.4\",\n",
      "    \"VM.DenseIO2.16\",\n",
      "    \"VM.Standard.E2.8\",\n",
      "    \"VM.Standard1.8\",\n",
      "    \"VM.Standard1.4\"\n",
      "  ],\n",
      "  \"listing_id\": \"ocid1.appcataloglisting.oc1..aaaaaaaa72lfxnjprgn2ei3wlvwrdxxxluolxksbdjl3goyv6zrggsefhfva\",\n",
      "  \"listing_resource_id\": \"ocid1.image.oc1..aaaaaaaaa5tsn4iyzknn4mugs36cwuofwqspvwrr6vct75r4lpplqmtitdvq\",\n",
      "  \"listing_resource_version\": \"11.4.50\",\n",
      "  \"time_published\": \"2022-10-18T20:08:47.817000+00:00\"\n",
      "}\n",
      "\n",
      "The image object for the package:\n",
      "{\n",
      "  \"agent_features\": null,\n",
      "  \"base_image_id\": null,\n",
      "  \"billable_size_in_gbs\": 0,\n",
      "  \"compartment_id\": \"publisherCompartment\",\n",
      "  \"create_image_allowed\": true,\n",
      "  \"defined_tags\": {},\n",
      "  \"display_name\": \"Solaris 11.4.50\",\n",
      "  \"freeform_tags\": {},\n",
      "  \"id\": \"ocid1.image.oc1..aaaaaaaaa5tsn4iyzknn4mugs36cwuofwqspvwrr6vct75r4lpplqmtitdvq\",\n",
      "  \"launch_mode\": \"NATIVE\",\n",
      "  \"launch_options\": {\n",
      "    \"boot_volume_type\": \"ISCSI\",\n",
      "    \"firmware\": \"UEFI_64\",\n",
      "    \"is_consistent_volume_naming_enabled\": false,\n",
      "    \"is_pv_encryption_in_transit_enabled\": false,\n",
      "    \"network_type\": \"VFIO\",\n",
      "    \"remote_data_volume_type\": \"PARAVIRTUALIZED\"\n",
      "  },\n",
      "  \"lifecycle_state\": \"AVAILABLE\",\n",
      "  \"listing_type\": null,\n",
      "  \"operating_system\": \"Custom\",\n",
      "  \"operating_system_version\": \"Custom\",\n",
      "  \"size_in_mbs\": 51200,\n",
      "  \"time_created\": \"2022-10-18T19:30:04.171000+00:00\"\n",
      "}\n",
      "\n",
      "The image details object:\n",
      "{\n",
      "  \"boot_volume_size_in_gbs\": null,\n",
      "  \"boot_volume_vpus_per_gb\": null,\n",
      "  \"image_id\": \"ocid1.image.oc1..aaaaaaaaa5tsn4iyzknn4mugs36cwuofwqspvwrr6vct75r4lpplqmtitdvq\",\n",
      "  \"kms_key_id\": null,\n",
      "  \"source_type\": \"image\"\n",
      "}\n"
     ]
    }
   ],
   "source": [
    "app_catalog_listing_resource_version = my_compute_client.get_app_catalog_listing_resource_version(\n",
    "            package.app_catalog_listing_id,\n",
    "            package.app_catalog_listing_resource_version).data\n",
    "print(f'The App Catalog listing for the package:\\n{app_catalog_listing_resource_version}')\n",
    "    \n",
    "image = my_compute_client.get_image(app_catalog_listing_resource_version.listing_resource_id).data\n",
    "print(f'\\nThe image object for the package:\\n{image}')\n",
    "\n",
    "instance_source_via_image_details = oci.core.models.InstanceSourceViaImageDetails(image_id=image.id)\n",
    "print(f'\\nThe image details object:\\n{instance_source_via_image_details}')"
   ]
  },
  {
   "cell_type": "markdown",
   "id": "7883f335-542a-4a63-afbc-6a4a0e2e1f12",
   "metadata": {},
   "source": [
    "And define the Metadata Object:"
   ]
  },
  {
   "cell_type": "code",
   "execution_count": 14,
   "id": "445a4fa9-591e-45eb-b80d-a1111c4689f1",
   "metadata": {},
   "outputs": [
    {
     "name": "stdout",
     "output_type": "stream",
     "text": [
      "{'ssh_authorized_keys': 'ssh-rsa xxxxxxxxxxxxxxxxxxxxxxxxxxxxxxxxxxxxxxxxxxxxxxxxxxxxxxxxxxxx ssh-key-2022-10-28'}\n"
     ]
    }
   ],
   "source": [
    "metadata = {}\n",
    "with open(my_instance_config[profile]['ssh-authorized-keys-file']) as ssh_authorized_keys:\n",
    "    metadata['ssh_authorized_keys'] = ssh_authorized_keys.read()\n",
    "print(metadata)"
   ]
  },
  {
   "cell_type": "markdown",
   "id": "b36200f5-f722-48b6-8b6c-3b8566d76221",
   "metadata": {},
   "source": [
    "### Launching the instance\n",
    "\n",
    "We finally get to launching the instance. \n",
    "\n",
    "We use the `LaunchInstanceDetails()` function to bundle up all the information needed to launch the instance and then launch it.\n",
    "\n",
    "However because it can take a bit of time before the instance is fully launched OCI provides a `launch_instance_and_wait_for_state()` function that you can use together with a `wait_for_states` value to launch the instance and it will wait with returning until the instance is running."
   ]
  },
  {
   "cell_type": "code",
   "execution_count": 15,
   "id": "94e7e276-6f68-46d4-a4fd-825ca1905548",
   "metadata": {},
   "outputs": [
    {
     "name": "stdout",
     "output_type": "stream",
     "text": [
      "The instance details before launch:\n",
      "{\n",
      "  \"agent_config\": null,\n",
      "  \"availability_config\": null,\n",
      "  \"availability_domain\": \"ruWb:EU-FRANKFURT-1-AD-1\",\n",
      "  \"capacity_reservation_id\": null,\n",
      "  \"compartment_id\": \"ocid1.compartment.oc1..xxxxxxxxxxxxxxxxxxxxxxxxxxxxxxxxxxxxxxxxxxxxxxxxxxxxxxxxxxxx\",\n",
      "  \"create_vnic_details\": {\n",
      "    \"assign_private_dns_record\": null,\n",
      "    \"assign_public_ip\": null,\n",
      "    \"defined_tags\": null,\n",
      "    \"display_name\": null,\n",
      "    \"freeform_tags\": null,\n",
      "    \"hostname_label\": null,\n",
      "    \"nsg_ids\": null,\n",
      "    \"private_ip\": null,\n",
      "    \"skip_source_dest_check\": null,\n",
      "    \"subnet_id\": \"ocid1.subnet.oc1.eu-frankfurt-1.xxxxxxxxxxxxxxxxxxxxxxxxxxxxxxxxxxxxxxxxxxxxxxxxxxxxxxxxxxxx\",\n",
      "    \"vlan_id\": null\n",
      "  },\n",
      "  \"dedicated_vm_host_id\": null,\n",
      "  \"defined_tags\": null,\n",
      "  \"display_name\": \"provisioning_with_python\",\n",
      "  \"extended_metadata\": null,\n",
      "  \"fault_domain\": null,\n",
      "  \"freeform_tags\": null,\n",
      "  \"hostname_label\": null,\n",
      "  \"image_id\": null,\n",
      "  \"instance_options\": null,\n",
      "  \"ipxe_script\": null,\n",
      "  \"is_pv_encryption_in_transit_enabled\": null,\n",
      "  \"launch_options\": null,\n",
      "  \"metadata\": {\n",
      "    \"ssh_authorized_keys\": \"ssh-rsa xxxxxxxxxxxxxxxxxxxxxxxxxxxxxxxxxxxxxxxxxxxxxxxxxxxxxxxxxxxx ssh-key-2022-10-28\"\n",
      "  },\n",
      "  \"platform_config\": null,\n",
      "  \"preemptible_instance_config\": null,\n",
      "  \"shape\": \"VM.Standard2.1\",\n",
      "  \"shape_config\": null,\n",
      "  \"source_details\": {\n",
      "    \"boot_volume_size_in_gbs\": null,\n",
      "    \"boot_volume_vpus_per_gb\": null,\n",
      "    \"image_id\": \"ocid1.image.oc1..aaaaaaaaa5tsn4iyzknn4mugs36cwuofwqspvwrr6vct75r4lpplqmtitdvq\",\n",
      "    \"kms_key_id\": null,\n",
      "    \"source_type\": \"image\"\n",
      "  },\n",
      "  \"subnet_id\": null\n",
      "}\n",
      "\n",
      "The instance is running\n",
      "\n",
      "The instance details now it is running:\n",
      "{\n",
      "  \"agent_config\": {\n",
      "    \"are_all_plugins_disabled\": false,\n",
      "    \"is_management_disabled\": false,\n",
      "    \"is_monitoring_disabled\": false,\n",
      "    \"plugins_config\": null\n",
      "  },\n",
      "  \"availability_config\": {\n",
      "    \"is_live_migration_preferred\": null,\n",
      "    \"recovery_action\": \"RESTORE_INSTANCE\"\n",
      "  },\n",
      "  \"availability_domain\": \"ruWb:EU-FRANKFURT-1-AD-1\",\n",
      "  \"capacity_reservation_id\": null,\n",
      "  \"compartment_id\": \"ocid1.compartment.oc1..xxxxxxxxxxxxxxxxxxxxxxxxxxxxxxxxxxxxxxxxxxxxxxxxxxxxxxxxxxxx\",\n",
      "  \"dedicated_vm_host_id\": null,\n",
      "  \"defined_tags\": {\n",
      "    \"Oracle-Recommended-Tags\": {\n",
      "      \"ResourceType\": \"group\",\n",
      "      \"UtilExempt\": \"minrequired\"\n",
      "    }\n",
      "  },\n",
      "  \"display_name\": \"provisioning_with_python\",\n",
      "  \"extended_metadata\": {},\n",
      "  \"fault_domain\": \"FAULT-DOMAIN-2\",\n",
      "  \"freeform_tags\": {},\n",
      "  \"id\": \"ocid1.instance.oc1.eu-frankfurt-1.xxxxxxxxxxxxxxxxxxxxxxxxxxxxxxxxxxxxxxxxxxxxxxxxxxxxxxxxxxxx\",\n",
      "  \"image_id\": \"ocid1.image.oc1..aaaaaaaaa5tsn4iyzknn4mugs36cwuofwqspvwrr6vct75r4lpplqmtitdvq\",\n",
      "  \"instance_options\": {\n",
      "    \"are_legacy_imds_endpoints_disabled\": false\n",
      "  },\n",
      "  \"ipxe_script\": null,\n",
      "  \"launch_mode\": \"PARAVIRTUALIZED\",\n",
      "  \"launch_options\": {\n",
      "    \"boot_volume_type\": \"PARAVIRTUALIZED\",\n",
      "    \"firmware\": \"UEFI_64\",\n",
      "    \"is_consistent_volume_naming_enabled\": true,\n",
      "    \"is_pv_encryption_in_transit_enabled\": false,\n",
      "    \"network_type\": \"PARAVIRTUALIZED\",\n",
      "    \"remote_data_volume_type\": \"PARAVIRTUALIZED\"\n",
      "  },\n",
      "  \"lifecycle_state\": \"RUNNING\",\n",
      "  \"metadata\": {\n",
      "    \"ssh_authorized_keys\": \"ssh-rsa xxxxxxxxxxxxxxxxxxxxxxxxxxxxxxxxxxxxxxxxxxxxxxxxxxxxxxxxxxxx ssh-key-2022-10-28\"\n",
      "  },\n",
      "  \"platform_config\": null,\n",
      "  \"preemptible_instance_config\": null,\n",
      "  \"region\": \"eu-frankfurt-1\",\n",
      "  \"shape\": \"VM.Standard2.1\",\n",
      "  \"shape_config\": {\n",
      "    \"baseline_ocpu_utilization\": null,\n",
      "    \"gpu_description\": null,\n",
      "    \"gpus\": 0,\n",
      "    \"local_disk_description\": null,\n",
      "    \"local_disks\": 0,\n",
      "    \"local_disks_total_size_in_gbs\": null,\n",
      "    \"max_vnic_attachments\": 2,\n",
      "    \"memory_in_gbs\": 15.0,\n",
      "    \"networking_bandwidth_in_gbps\": 1.0,\n",
      "    \"ocpus\": 1.0,\n",
      "    \"processor_description\": \"2.0 GHz Intel\\u00ae Xeon\\u00ae Platinum 8167M (Skylake)\"\n",
      "  },\n",
      "  \"source_details\": {\n",
      "    \"boot_volume_size_in_gbs\": null,\n",
      "    \"boot_volume_vpus_per_gb\": null,\n",
      "    \"image_id\": \"ocid1.image.oc1..aaaaaaaaa5tsn4iyzknn4mugs36cwuofwqspvwrr6vct75r4lpplqmtitdvq\",\n",
      "    \"kms_key_id\": null,\n",
      "    \"source_type\": \"image\"\n",
      "  },\n",
      "  \"system_tags\": {},\n",
      "  \"time_created\": \"2022-12-08T15:22:08.934000+00:00\",\n",
      "  \"time_maintenance_reboot_due\": null\n",
      "}\n"
     ]
    }
   ],
   "source": [
    "launch_instance_details = oci.core.models.LaunchInstanceDetails(\n",
    "            display_name=new_instance_name,\n",
    "            compartment_id=my_instance_config[profile]['compartment-id'],\n",
    "            availability_domain=ad_match[0].name,\n",
    "            shape=my_instance_config[profile]['shape'],\n",
    "            metadata=metadata,\n",
    "            source_details=instance_source_via_image_details,\n",
    "            create_vnic_details=create_vnic_details)\n",
    "print(f'The instance details before launch:\\n{launch_instance_details}\\n')\n",
    "\n",
    "compute_client_composite_operations = oci.core.ComputeClientCompositeOperations(my_compute_client)\n",
    "response = compute_client_composite_operations.launch_instance_and_wait_for_state(\n",
    "    launch_instance_details,\n",
    "    wait_for_states=[oci.core.models.Instance.LIFECYCLE_STATE_RUNNING])\n",
    "print('The instance is running')\n",
    "\n",
    "instance = response.data\n",
    "print(f'\\nThe instance details now it is running:\\n{instance}')"
   ]
  },
  {
   "cell_type": "markdown",
   "id": "825a5eed-0e0d-4a3a-bfa2-3a875fcf4362",
   "metadata": {},
   "source": [
    "### Getting the instance information\n",
    "\n",
    "Now the instance is running you can get the information about your network so you can connect with your new instance. \n",
    "\n",
    "> Note: The first time the Oracle Solaris image boots it can take a bit of time before all the SMF services are initialized so you may need to wait a bit before connecting to it. \n",
    "\n",
    "It also shows how to get the information about all the instance you have in this compartment."
   ]
  },
  {
   "cell_type": "code",
   "execution_count": 16,
   "id": "baf030a9-50b3-47a4-b2f5-2870aef3c126",
   "metadata": {},
   "outputs": [
    {
     "name": "stdout",
     "output_type": "stream",
     "text": [
      "+Instance provisioned--------+\n",
      "| Private IP | 10.0.0.219    |\n",
      "| Public IP  | xxx.xx.xx.xxx |\n",
      "+------------+---------------+\n",
      "+Compute Instances-----------+------+-------------------------+---------+------------+----------------+\n",
      "| Name                       | AD   | Time Created            | State   | Private IP | Public IP      |\n",
      "+----------------------------+------+-------------------------+---------+------------+----------------+\n",
      "| provisioning_with_python   | AD-1 | 2022-12-08 15:22:08 UTC | Running | 10.0.0.219 | xxx.xx.xx.xxx  |\n",
      "+----------------------------+------+-------------------------+---------+------------+----------------+\n"
     ]
    }
   ],
   "source": [
    "response = oci.pagination.list_call_get_all_results(my_compute_client.list_instances, my_instance_config[profile]['compartment-id'])\n",
    "instances = []\n",
    "for instance in response.data:\n",
    "    if instance.lifecycle_state == 'TERMINATED':\n",
    "        continue\n",
    "    \n",
    "    vnic_attachments = oci.pagination.list_call_get_all_results(my_compute_client.list_vnic_attachments, \n",
    "                                                                compartment_id=my_instance_config[profile]['compartment-id'], \n",
    "                                                                instance_id=instance.id).data\n",
    "\n",
    "    if vnic_attachments:\n",
    "        vnic = None\n",
    "        for vnic_attachment in vnic_attachments:\n",
    "            try:\n",
    "                vnic = my_virtual_network_client.get_vnic(vnic_attachment.vnic_id).data\n",
    "            except oci.exceptions.ServiceError:\n",
    "                vnic = None\n",
    "            if vnic and vnic.is_primary:\n",
    "                break\n",
    "    else:\n",
    "        self._echo_error('Could not retrieve VNIC attachments')\n",
    "\n",
    "    instances.append((\n",
    "        instance.id,\n",
    "        instance.display_name,\n",
    "        instance.availability_domain[-4:],\n",
    "        instance.time_created.strftime(\"%Y-%m-%d %H:%M:%S %Z\"),\n",
    "        instance.lifecycle_state.title(),\n",
    "        vnic.private_ip if vnic else 'None',\n",
    "        vnic.public_ip if vnic else 'None'\n",
    "    ))\n",
    "\n",
    "vnic = table = AsciiTable((('Private IP', vnic.private_ip), ('Public IP', vnic.public_ip)))\n",
    "table.inner_heading_row_border = False\n",
    "table.title = 'Instance provisioned'\n",
    "print(table.table)\n",
    "\n",
    "if instances:\n",
    "    table = AsciiTable([('Name', 'AD', 'Time Created', 'State', 'Private IP', 'Public IP')] + sorted(instance[1:] for instance in instances))\n",
    "    table.title = 'Compute Instances'\n",
    "    print(table.table)\n",
    "else:\n",
    "    print('No instance found')"
   ]
  },
  {
   "cell_type": "markdown",
   "id": "e922e31f-8390-4b64-9df2-60515def88d7",
   "metadata": {},
   "source": [
    "## Other lifecycle actions\n",
    "\n",
    "This is how you can do other lifecycle actions. Again it may take a while for the Oracle Solaris instance to be ready after the initial launch, so you may need to wait a bit if you are testing this."
   ]
  },
  {
   "cell_type": "code",
   "execution_count": 17,
   "id": "5a94c7ea-dbde-4bd2-814b-64464493d667",
   "metadata": {},
   "outputs": [],
   "source": [
    "instance_id = instance.id"
   ]
  },
  {
   "cell_type": "markdown",
   "id": "80b1e5b6-ebb4-4b81-8450-9e1ea51c32b3",
   "metadata": {},
   "source": [
    "Stopping the instance:"
   ]
  },
  {
   "cell_type": "code",
   "execution_count": 18,
   "id": "4992112e-5063-46be-bbcf-dae44201cc53",
   "metadata": {},
   "outputs": [
    {
     "name": "stdout",
     "output_type": "stream",
     "text": [
      "ocid1.instance.oc1.eu-frankfurt-1.xxxxxxxxxxxxxxxxxxxxxxxxxxxxxxxxxxxxxxxxxxxxxxxxxxxxxxxxxxxx\n",
      "Waiting for Stopped state\n",
      "Done\n"
     ]
    }
   ],
   "source": [
    "print(instance_id)\n",
    "\n",
    "compute_client_composite_operations = oci.core.ComputeClientCompositeOperations(my_compute_client)\n",
    "print('Waiting for Stopped state')\n",
    "compute_client_composite_operations.instance_action_and_wait_for_state(\n",
    "    instance_id=instance_id,\n",
    "    action='SOFTSTOP',\n",
    "    wait_for_states=[oci.core.models.Instance.LIFECYCLE_STATE_STOPPED],\n",
    "    # waiter_kwargs={'wait_callback': self._wait_callback}\n",
    ")\n",
    "print('Done')"
   ]
  },
  {
   "cell_type": "markdown",
   "id": "39f28a95-f485-4e7d-8b88-baea5bde58b9",
   "metadata": {},
   "source": [
    "Starting the instance again:"
   ]
  },
  {
   "cell_type": "code",
   "execution_count": 19,
   "id": "c24c7cc7-7a70-4901-b188-20e657486336",
   "metadata": {},
   "outputs": [
    {
     "name": "stdout",
     "output_type": "stream",
     "text": [
      "Waiting for Running state\n",
      "Done\n"
     ]
    }
   ],
   "source": [
    "compute_client_composite_operations = oci.core.ComputeClientCompositeOperations(my_compute_client)\n",
    "print('Waiting for Running state')\n",
    "compute_client_composite_operations.instance_action_and_wait_for_state(\n",
    "    instance_id=instance_id,\n",
    "    action='START',\n",
    "    wait_for_states=[oci.core.models.Instance.LIFECYCLE_STATE_RUNNING],\n",
    ")\n",
    "print('Done')"
   ]
  },
  {
   "cell_type": "markdown",
   "id": "2cb2628e-4ae0-4489-a847-31e3a4c1d0c2",
   "metadata": {},
   "source": [
    "Terminating the instance:"
   ]
  },
  {
   "cell_type": "code",
   "execution_count": 20,
   "id": "ae33af4c-1c45-4687-948a-f11007aeba4a",
   "metadata": {},
   "outputs": [
    {
     "name": "stdout",
     "output_type": "stream",
     "text": [
      "Waiting for termination\n",
      "Done\n"
     ]
    }
   ],
   "source": [
    "compute_client_composite_operations = oci.core.ComputeClientCompositeOperations(my_compute_client)\n",
    "print('Waiting for termination')\n",
    "compute_client_composite_operations.terminate_instance_and_wait_for_state(\n",
    "    instance_id=instance_id,\n",
    "    wait_for_states=[oci.core.models.Instance.LIFECYCLE_STATE_TERMINATED])\n",
    "print('Done')"
   ]
  },
  {
   "cell_type": "code",
   "execution_count": null,
   "id": "2a2028a5-3ec0-42b5-b36a-23ef713a694d",
   "metadata": {},
   "outputs": [],
   "source": []
  }
 ],
 "metadata": {
  "kernelspec": {
   "display_name": "oci-cli",
   "language": "python",
   "name": "oci-cli"
  },
  "language_info": {
   "codemirror_mode": {
    "name": "ipython",
    "version": 3
   },
   "file_extension": ".py",
   "mimetype": "text/x-python",
   "name": "python",
   "nbconvert_exporter": "python",
   "pygments_lexer": "ipython3",
   "version": "3.9.8"
  }
 },
 "nbformat": 4,
 "nbformat_minor": 5
}
