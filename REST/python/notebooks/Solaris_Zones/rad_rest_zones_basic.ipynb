{
 "cells": [
  {
   "cell_type": "markdown",
   "metadata": {},
   "source": [
    "# Notebook for Working with Solaris Zones Through its REST API — Basic Actions\n",
    "\n",
    "This Jupyter Notebook is aimed at showing how you can use the REST interface in Oracle Solaris to work with [Solaris Zones](https://docs.oracle.com/cd/E37838_01/html/E61037/zonesoverview.html) (a.k.a. Solaris Containers). The REST API is layered on top of the [Oracle Solaris Remote Administration Deamon (RAD)](https://docs.oracle.com/cd/E37838_01/html/E68270/gpzxz.html#scrolltoc), and gives access to all the RAD modules through REST. This notebook is using Python to run all the tasks. </br></br>\n",
    "In this notebook we'll show how to connect to the REST interface and how to perform various tasks you can do through the REST API.\n",
    "\n",
    "> *Note 1* — You'll need to enable the `svc:/system/rad:remote` [service](https://docs.oracle.com/cd/E37838_01/html/E68270/gpzpd.html#scrolltoc) to be able to remotely connect. </br> \n",
    "> *Note 2* — If the server doesn't have a certification signed by a public CA then pull in `/etc/certs/localhost/host-ca/hostca.crt` from your server and point to its location in the JSON file below. </br> \n",
    "> *Note 3* — To do actions beyond looking at zones and their configuration, like creating, installing, booting, and deleting a zone, the user you use to connect to the system will need to have either the `Zone Management` and/or `Zone Configuration` RBAC profiles set to be able perform certain tasks. For more info [see *Using Rights Profiles to Install and Manage Zones*](https://docs.oracle.com/cd/E37838_01/html/E61039/zadmt-rightsprofiles.html#scrolltoc).</br>\n",
    "> *Note 4* — This notebook was written with Python 3.7\n",
    "\n",
    "Once these things are set you're ready to start.\n",
    "\n",
    "## Introduction to the Solars Zones API\n",
    "\n",
    "The base URI of the Solaris Zones API is: `api/com.oracle.solaris.rad.zonemgr/1.7/`\n",
    "\n",
    "The API has five main interfaces:\n",
    "\n",
    "- **Zone** — URI: `Zone/` — For operations that affect a single zone, it represents an individual zone. All zone configuration and administrative actions are represented in this interface. \n",
    "- **ZoneManager** — URI: `ZoneManager/` — Manage the zones on this system as whole, for example creating and deleting zones.\n",
    "- **ZoneInfo** — URI: `ZoneInfo/` — Report on the zone from which the RAD/REST service is running. It will give basic information about this zone. This interface is read only.\n",
    "- **MigrationConnection** — URI: `MigrationConnection/` — Information about the migration connection to a particular host. This interface is mostly read only.\n",
    "- **ZoneMigration** — URI: `ZoneMigration/` — This interface represents an ongoing zone migration. A migration may be cancelled at an arbitrary point, for example if the zone is halted and deleted.\n",
    "\n",
    "In general the base interactions with the system when a zone is not specified are done through the `ZoneManager/` interface (for example to get the list of zone or to create a zone), and all the interactions with a specific zone are done through the `Zone/` interface.\n",
    "\n",
    "For the full list of methods for each interface see the [Appendix](#Appendix) at the bottom of the notebook. For documentation on the complete API please install the `system/management/webui/webui-docs` package and access it through the WebUI.\n",
    "\n",
    "Because there are many different things you can do with the Solaris Zones module, this notebook will focus on some basic steps around Solaris Zones management. This includes getting the list of the zones on the system and getting their configuration settings, as well as creating, installing, booting, halting/shutting down, uninstalling, and deleting zones.\n",
    "\n",
    "Other notebooks will cover more advanced topics.\n",
    "\n",
    "---\n",
    "\n",
    "## Imports and Setting Variables\n",
    "\n",
    "First to import all the Python libraries:"
   ]
  },
  {
   "cell_type": "code",
   "execution_count": 1,
   "metadata": {},
   "outputs": [],
   "source": [
    "import requests\n",
    "import json\n",
    "import base64\n",
    "import os\n",
    "import time, datetime\n",
    "import pandas as pd"
   ]
  },
  {
   "cell_type": "markdown",
   "metadata": {},
   "source": [
    "Turning off warnings thrown by Python:"
   ]
  },
  {
   "cell_type": "code",
   "execution_count": 2,
   "metadata": {},
   "outputs": [],
   "source": [
    "import warnings\n",
    "warnings.filterwarnings('ignore')"
   ]
  },
  {
   "cell_type": "markdown",
   "metadata": {},
   "source": [
    "---\n",
    "## Base Functions\n",
    "\n",
    "Next we define the base functions used to make the connection with the REST interface. The first is to establish a session, the second is for the regular GET, PUT, POST, and DELETE methods.\n",
    "\n",
    "The function to establish a session:"
   ]
  },
  {
   "cell_type": "code",
   "execution_count": 3,
   "metadata": {},
   "outputs": [],
   "source": [
    "def rad_rest_login(session_name, server_connection_info, base_authentication_uri):\n",
    "    login_url = 'https://{0}:{1}/{2}'.format(*list(map(server_connection_info.get, ['server_name', 'server_port'])), base_authentication_uri)\n",
    "    print(\"Logging in with this URL: \" + login_url)\n",
    "\n",
    "    try:\n",
    "        response = session_name.post(login_url, json = server_connection_info['config_json'], verify = server_connection_info['cert_location'])\n",
    "    except:\n",
    "        print('no connection')\n",
    "        response = 'empty'\n",
    "    \n",
    "    return response"
   ]
  },
  {
   "cell_type": "markdown",
   "metadata": {},
   "source": [
    "The function to run regular requests:"
   ]
  },
  {
   "cell_type": "code",
   "execution_count": 4,
   "metadata": {},
   "outputs": [],
   "source": [
    "def rad_rest_request(request_type, session_name, server_connection_info, rad_rest_uri, payload = None):\n",
    "    \n",
    "    # Create a list of variables\n",
    "    query_vars = list(map(server_connection_info.get, ['server_name', 'server_port']))\n",
    "    query_vars.append(rad_rest_uri)\n",
    "\n",
    "    # Create query url to be used\n",
    "    query_url = 'https://{0}:{1}/{2}'.format(*query_vars)\n",
    "\n",
    "    response = session_name.request(request_type, query_url, json = payload)\n",
    "    \n",
    "    return response"
   ]
  },
  {
   "cell_type": "markdown",
   "metadata": {},
   "source": [
    "Two extra functions for convenience to convert Solaris timestamps to something human-readable, which might be useful later on:"
   ]
  },
  {
   "cell_type": "code",
   "execution_count": 5,
   "metadata": {},
   "outputs": [],
   "source": [
    "def timestamp_from_solaris_time(value):\n",
    "    return datetime.datetime.fromtimestamp(value/1000)"
   ]
  },
  {
   "cell_type": "code",
   "execution_count": 6,
   "metadata": {},
   "outputs": [],
   "source": [
    "def str_from_solaris_time(value):\n",
    "    return time.strftime('%Y-%m-%d %H:%M:%S', time.localtime(value/1000))"
   ]
  },
  {
   "cell_type": "markdown",
   "metadata": {},
   "source": [
    "---\n",
    "\n",
    "## Load Remote System Connection Information\n",
    "\n",
    "Now define the location of the remote system connection information:"
   ]
  },
  {
   "cell_type": "code",
   "execution_count": 7,
   "metadata": {},
   "outputs": [],
   "source": [
    "config_filename = '../base_login_zone.json'"
   ]
  },
  {
   "cell_type": "markdown",
   "metadata": {},
   "source": [
    "The system specific information is located in a JSON file located in the same directory as the notebook, and is structured like this: </br>\n",
    "\n",
    "```json\n",
    "{\n",
    "    \"server_name\": \"<ip address>\",\n",
    "    \"server_port\": \"<RAD Remote port>\",\n",
    "    \"cert_location\": \"<path_to_cert>\",\n",
    "    \"config_json\": {\n",
    "        \"username\": \"<username>\",\n",
    "        \"password\": \"<password>\",\n",
    "        \"scheme\": \"pam\",\n",
    "        \"preserve\": true,\n",
    "        \"timeout\": -1\n",
    "    }\n",
    "}\n",
    "``` \n",
    "\n",
    "We advise to securely connect to the remote server over HTTPS however this will require the use of a certificate, in many cases the remote server will have a certificate signed by a public CA, if so please set `\"cert_location\": true`. If, for example in the case of a demo system, the certificate isn't signed, download the `/etc/certs/localhost/host-ca/hostca.crt` file from the system you're connecting to and refer to its local location with `\"cert_location\": \"<path_to_cert>\"`. If you don't want to use a certificate at all set `\"cert_location\": false` instead of the location of the cert file. Note this last option doesn't validate that you're connecting to correct server.\n",
    "\n",
    "Loading this system specific information:"
   ]
  },
  {
   "cell_type": "code",
   "execution_count": 8,
   "metadata": {},
   "outputs": [
    {
     "data": {
      "text/plain": [
       "'t8ldom5.us.oracle.com'"
      ]
     },
     "execution_count": 8,
     "metadata": {},
     "output_type": "execute_result"
    }
   ],
   "source": [
    "if config_filename:\n",
    "    with open(config_filename, 'r') as f:\n",
    "        server_connection_info = json.load(f)\n",
    "        \n",
    "server_connection_info['server_name']"
   ]
  },
  {
   "cell_type": "markdown",
   "metadata": {},
   "source": [
    "---\n",
    "---\n",
    "## Connecting to the Solaris Zones Interface\n",
    "\n",
    "In this notebook we'll run through the following basic example steps:\n",
    "\n",
    "* [**Getting the information about the zone you're connecting to**](#Getting-the-Information-about-the-Zone) — You could be connecting to a Global Zone (including an LDom or a Kernel Zone) or a Native Zone, this shows what type of information you'll get.\n",
    "* [**Getting a list of the zones**](#Getting-a-List-of-the-Zones)  — This will show the zones nested in the instance you're connecting to.\n",
    "* [**Getting the zone configuration**](#Getting-a-Zone-Configuration) — This shows how to get the configuration data for a specific zone in the list.\n",
    "* [**Managing the zone state and lifecycle**](#Managing-the-Zone-State-and-Lifecycle)\n",
    "    * [**Booting and halting zones**](#Booting-and-Halting-Zones) — This shows how to check what the state is of the zones, and how to boot and halt a zone.\n",
    "    * [**Creating and deleting a zone**](#Creating-and-Deleting-Zones) — This shows how to create a new zone, how to define it, how to install it and how to uninstall and delete it again.\n",
    "\n",
    "We start with the example on how to connect to the server to get the list of the zones on the system and work from there. \n",
    "\n",
    "### Defining Interface URIs\n",
    "\n",
    "Before we start we define the various URI variables:"
   ]
  },
  {
   "cell_type": "code",
   "execution_count": 9,
   "metadata": {},
   "outputs": [],
   "source": [
    "base_authentication_uri = 'api/authentication/1.0/Session/'\n",
    "\n",
    "base_zone_uri = 'api/com.oracle.solaris.rad.zonemgr/1.7/'\n",
    "zone_manager_uri = '{}ZoneManager/'.format(base_zone_uri)\n",
    "zone_uri = '{}Zone/'.format(base_zone_uri)\n",
    "zone_info_uri = '{}ZoneInfo/'.format(base_zone_uri)\n",
    "migration_connection_uri = '{}MigrationConnection/'.format(base_zone_uri)\n",
    "zone_migration_uri = '{}ZoneMigration/'.format(base_zone_uri)"
   ]
  },
  {
   "cell_type": "markdown",
   "metadata": {},
   "source": [
    "**Note:** In this notebook we won't be using the last two URIs, something for a later notebook, but we've included them for completeness. \n",
    "\n",
    "### Logging in and setting up a session\n",
    "\n",
    "First establish the session and bring in the necessary credentials. Note, we're printing the results to give a better insight on what's coming back, we won't printing all the information comming back from the request just certain parts to give you a feel for it:"
   ]
  },
  {
   "cell_type": "code",
   "execution_count": 10,
   "metadata": {},
   "outputs": [
    {
     "name": "stdout",
     "output_type": "stream",
     "text": [
      "Logging in with this URL: https://t8ldom5.us.oracle.com:6788/api/authentication/1.0/Session/\n",
      "201 \n",
      "\n",
      "{\n",
      "        \"status\": \"success\",\n",
      "        \"payload\": {\n",
      "                \"href\": \"/api/com.oracle.solaris.rad.authentication/1.0/Session/_rad_reference/5632\"\n",
      "        }\n",
      "}\n"
     ]
    }
   ],
   "source": [
    "s = requests.Session()\n",
    "\n",
    "login_answer = rad_rest_login(s, server_connection_info, base_authentication_uri)\n",
    "\n",
    "print(login_answer.status_code, '\\n')\n",
    "print(login_answer.text)"
   ]
  },
  {
   "cell_type": "markdown",
   "metadata": {},
   "source": [
    "---\n",
    "### Getting the Information about the Zone\n",
    "\n",
    "Before looking at the list of zones, we want to quickly look at the info you can get about the current zone you're connecting to. \n",
    "\n",
    "To do this we'll use the `GET` method with the `ZoneInfo` interface and use `?_rad_detail` to query it:<br>\n",
    "`HTTPS://{{server}}:6788/api/com.oracle.solaris.rad.zonemgr/1.7/ZoneInfo/?_rad_detail`\n",
    "\n",
    "This will return the status of the request, and if it succeded the payload will return the `href` and the `ZoneInfo`:"
   ]
  },
  {
   "cell_type": "code",
   "execution_count": 11,
   "metadata": {},
   "outputs": [
    {
     "name": "stdout",
     "output_type": "stream",
     "text": [
      "200 \n",
      "\n",
      "{'status': 'success', 'payload': {'href': 'api/com.oracle.solaris.rad.zonemgr/1.7/ZoneInfo', 'ZoneInfo': {'brand': 'solaris', 'id': 0, 'uuid': None, 'name': 'global', 'isGlobal': True}}}\n"
     ]
    }
   ],
   "source": [
    "zone_info = rad_rest_request('GET', s, server_connection_info, '{}?_rad_detail'.format(zone_info_uri))\n",
    "zone_info_text = json.loads(zone_info.text)\n",
    "\n",
    "print(zone_info.status_code, '\\n')\n",
    "print(zone_info_text)"
   ]
  },
  {
   "cell_type": "markdown",
   "metadata": {},
   "source": [
    "As you can see this will return the `brand`, the `id`, the `uuid`, the `name`, and `isGlobal` values for the zone we're connected to. If in this case this the Global Zone, we're getting all the values you'd expect in that case, like the `id` is `0`, the `name` is `global` and the `isGlobal` is `True`.\n",
    "\n",
    "Also note that this information isn't in the list when using the `Zone/` interface, that interface only shows its \"guest\" zones. This is different than the CLI `zoneadm list -cv` command which will also list the Global Zone.\n",
    "\n",
    "---\n",
    "### Getting a List of the Zones\n",
    "\n",
    "Now we'll get the list of Solaris Zones use `GET` mothod on the `Zone` interface again using `?_rad_detail` to query it:<br>\n",
    "`HTTPS://{{server}}:6788/api/com.oracle.solaris.rad.zonemgr/1.7/Zone/?_rad_detail`\n",
    "\n",
    "This will return a list of dicts, one for each zone containing basic information about the given zone:"
   ]
  },
  {
   "cell_type": "code",
   "execution_count": 12,
   "metadata": {
    "scrolled": true
   },
   "outputs": [
    {
     "name": "stdout",
     "output_type": "stream",
     "text": [
      "200 \n",
      "\n",
      "{'status': 'success', 'payload': [{'href': 'api/com.oracle.solaris.rad.zonemgr/1.7/Zone/test1', 'Zone': {'auxstate': [], 'brand': 'solaris', 'id': -1, 'uuid': 'c5f26d28-0a9d-4c20-a2f3-eb2225de7f7e', 'name': 'test1', 'state': 'installed'}}]}\n"
     ]
    }
   ],
   "source": [
    "zones_list = rad_rest_request('GET', s, server_connection_info, '{}?_rad_detail'.format(zone_uri))\n",
    "zones_list_text = json.loads(zones_list.text)\n",
    "\n",
    "print(zones_list.status_code, '\\n')\n",
    "print(zones_list_text)"
   ]
  },
  {
   "cell_type": "markdown",
   "metadata": {},
   "source": [
    "It's not very easy to read and work with this response so we load it into a Pandas DataFrame which is much easier to read:"
   ]
  },
  {
   "cell_type": "code",
   "execution_count": 13,
   "metadata": {},
   "outputs": [
    {
     "data": {
      "text/html": [
       "<div>\n",
       "<style scoped>\n",
       "    .dataframe tbody tr th:only-of-type {\n",
       "        vertical-align: middle;\n",
       "    }\n",
       "\n",
       "    .dataframe tbody tr th {\n",
       "        vertical-align: top;\n",
       "    }\n",
       "\n",
       "    .dataframe thead th {\n",
       "        text-align: right;\n",
       "    }\n",
       "</style>\n",
       "<table border=\"1\" class=\"dataframe\">\n",
       "  <thead>\n",
       "    <tr style=\"text-align: right;\">\n",
       "      <th></th>\n",
       "      <th>href</th>\n",
       "      <th>Zone.auxstate</th>\n",
       "      <th>Zone.brand</th>\n",
       "      <th>Zone.id</th>\n",
       "      <th>Zone.uuid</th>\n",
       "      <th>Zone.name</th>\n",
       "      <th>Zone.state</th>\n",
       "    </tr>\n",
       "  </thead>\n",
       "  <tbody>\n",
       "    <tr>\n",
       "      <th>0</th>\n",
       "      <td>api/com.oracle.solaris.rad.zonemgr/1.7/Zone/test1</td>\n",
       "      <td>[]</td>\n",
       "      <td>solaris</td>\n",
       "      <td>-1</td>\n",
       "      <td>c5f26d28-0a9d-4c20-a2f3-eb2225de7f7e</td>\n",
       "      <td>test1</td>\n",
       "      <td>installed</td>\n",
       "    </tr>\n",
       "  </tbody>\n",
       "</table>\n",
       "</div>"
      ],
      "text/plain": [
       "                                                href Zone.auxstate Zone.brand  \\\n",
       "0  api/com.oracle.solaris.rad.zonemgr/1.7/Zone/test1            []    solaris   \n",
       "\n",
       "   Zone.id                             Zone.uuid Zone.name Zone.state  \n",
       "0       -1  c5f26d28-0a9d-4c20-a2f3-eb2225de7f7e     test1  installed  "
      ]
     },
     "execution_count": 13,
     "metadata": {},
     "output_type": "execute_result"
    }
   ],
   "source": [
    "zones_list_df = pd.io.json.json_normalize(zones_list_text['payload'])\n",
    "zones_list_df"
   ]
  },
  {
   "cell_type": "markdown",
   "metadata": {},
   "source": [
    "Note again that this doesn't contain an entry for the zone you're connected to.\n",
    "\n",
    "As you can see I'm not using using the usual `DataFrame` function to load the data but instead `io.json.json_normalize` to flatten the nested dictionaires into a single dataframe.\n",
    "\n",
    "Now it's in a Pandas DataFrame you can quickly search for certain things, like for example which zones are currently running (by using `.str.contains('running')` for the values in `Zone.state`):"
   ]
  },
  {
   "cell_type": "code",
   "execution_count": 14,
   "metadata": {},
   "outputs": [
    {
     "data": {
      "text/html": [
       "<div>\n",
       "<style scoped>\n",
       "    .dataframe tbody tr th:only-of-type {\n",
       "        vertical-align: middle;\n",
       "    }\n",
       "\n",
       "    .dataframe tbody tr th {\n",
       "        vertical-align: top;\n",
       "    }\n",
       "\n",
       "    .dataframe thead th {\n",
       "        text-align: right;\n",
       "    }\n",
       "</style>\n",
       "<table border=\"1\" class=\"dataframe\">\n",
       "  <thead>\n",
       "    <tr style=\"text-align: right;\">\n",
       "      <th></th>\n",
       "      <th>href</th>\n",
       "      <th>Zone.auxstate</th>\n",
       "      <th>Zone.brand</th>\n",
       "      <th>Zone.id</th>\n",
       "      <th>Zone.uuid</th>\n",
       "      <th>Zone.name</th>\n",
       "      <th>Zone.state</th>\n",
       "    </tr>\n",
       "  </thead>\n",
       "  <tbody>\n",
       "  </tbody>\n",
       "</table>\n",
       "</div>"
      ],
      "text/plain": [
       "Empty DataFrame\n",
       "Columns: [href, Zone.auxstate, Zone.brand, Zone.id, Zone.uuid, Zone.name, Zone.state]\n",
       "Index: []"
      ]
     },
     "execution_count": 14,
     "metadata": {},
     "output_type": "execute_result"
    }
   ],
   "source": [
    "zones_list_df[zones_list_df['Zone.state'].str.contains('running')]"
   ]
  },
  {
   "cell_type": "markdown",
   "metadata": {},
   "source": [
    "Important, if you want to do something with a specific zone you can use the value in the `href` field. The structure of the resulting URI when using this with a RAD method is like this:<br>\n",
    "`api/com.oracle.solaris.rad.zonemgr/1.7/Zone/{{zonename}}/_rad_method/{{RAD_method}}`\n",
    "\n",
    "How to use it as we'll show now.\n",
    "\n",
    "---\n",
    "### Getting a Zone Configuration\n",
    "\n",
    "We'll now look at getting the configuration of the first zone in the list. To do this we pull the URI from the `href` field in the first row of the dataframe and combine this with the `exportConfig` RAD method. This is done with a `PUT` method which requires we include JSON text, and in this case we want to make sure we could use this result later to create a new zone so we use the JSON text `{'reimport': True}`:"
   ]
  },
  {
   "cell_type": "code",
   "execution_count": 15,
   "metadata": {},
   "outputs": [
    {
     "name": "stdout",
     "output_type": "stream",
     "text": [
      "200 \n",
      "\n",
      "{'status': 'success', 'payload': 'create -Fb\\nset brand=solaris\\nadd anet\\nset linkname=net0\\nset configure-allowed-address=true\\nend\\n'}\n"
     ]
    }
   ],
   "source": [
    "single_zone_uri = zones_list_df['href'][0]\n",
    "\n",
    "json_body = {'reimport': True}\n",
    "\n",
    "single_zone_config = rad_rest_request('PUT', s, server_connection_info, '{}/_rad_method/exportConfig'.format(single_zone_uri), json_body)\n",
    "single_zone_config_text = json.loads(single_zone_config.text)\n",
    "\n",
    "print(single_zone_config.status_code, '\\n')\n",
    "print(single_zone_config_text)"
   ]
  },
  {
   "cell_type": "markdown",
   "metadata": {},
   "source": [
    "The response contains the `status` and the `payload`. To better read the response print out the contents of `payload`:"
   ]
  },
  {
   "cell_type": "code",
   "execution_count": 16,
   "metadata": {},
   "outputs": [
    {
     "name": "stdout",
     "output_type": "stream",
     "text": [
      "create -Fb\n",
      "set brand=solaris\n",
      "add anet\n",
      "set linkname=net0\n",
      "set configure-allowed-address=true\n",
      "end\n",
      "\n"
     ]
    }
   ],
   "source": [
    "print(single_zone_config_text['payload'])"
   ]
  },
  {
   "cell_type": "markdown",
   "metadata": {},
   "source": [
    "This is essentially is the same content as the `zonecfg -z <zonename> export` CLI command. Note that the export produces output in a form suitable for use in a CLI command file and includes only non-default values explicitly set by the user.\n",
    "\n",
    "If for example we'd want to use this to create another on the basis of this zone, we can save this payload to use it at a later point in time.\n",
    "\n",
    "Of course the actual zone configuration is much longer, probably with a bunch of values not being set. To get the full list of the actual zone use the `PUT` method with the same URI for the zone and the use the `getResources` RAD method. \n",
    "\n",
    "The result looks like this:"
   ]
  },
  {
   "cell_type": "code",
   "execution_count": 17,
   "metadata": {},
   "outputs": [
    {
     "name": "stdout",
     "output_type": "stream",
     "text": [
      "200 \n",
      "\n",
      "[{'type': 'global', 'properties': [{'name': 'zonename', 'value': 'test1', 'type': 'PROP_SIMPLE', 'listvalue': None, 'complexvalue': None}, {'name': 'zonepath', 'value': '/system/zones/%{zonename}', 'type': 'PROP_SIMPLE', 'listvalue': None, 'complexvalue': None}, {'name': 'brand', 'value': 'solaris', 'type': 'PROP_SIMPLE', 'listvalue': None, 'complexvalue': None}, {'name': 'autoboot', 'value': 'false', 'type': 'PROP_SIMPLE', 'listvalue': None, 'complexvalue': None}, {'name': 'autoshutdown', 'value': 'shutdown', 'type': 'PROP_SIMPLE', 'listvalue': None, 'complexvalue': None}, {'name': 'bootargs', 'value': '', 'type': 'PROP_SIMPLE', 'listvalue': None, 'complexvalue': None}, {'name': 'file-mac-profile', 'value': '', 'type': 'PROP_SIMPLE', 'listvalue': None, 'complexvalue': None}, {'name': 'pool', 'value': '', 'type': 'PROP_SIMPLE', 'listvalue': None, 'complexvalue': None}, {'name': 'limitpriv', 'value': '', 'type': 'PROP_SIMPLE', 'listvalue': None, 'complexvalue': None}, {'name': 'scheduling-class', 'value': '', 'type': 'PROP_SIMPLE', 'listvalue': None, 'complexvalue': None}, {'name': 'ip-type', 'value': 'exclusive', 'type': 'PROP_SIMPLE', 'listvalue': None, 'complexvalue': None}, {'name': 'hostid', 'value': '', 'type': 'PROP_SIMPLE', 'listvalue': None, 'complexvalue': None}, {'name': 'fs-allowed', 'value': None, 'type': 'PROP_LIST', 'listvalue': [], 'complexvalue': None}, {'name': 'tenant', 'value': '', 'type': 'PROP_SIMPLE', 'listvalue': None, 'complexvalue': None}, {'name': 'global-time', 'value': 'false', 'type': 'PROP_SIMPLE', 'listvalue': None, 'complexvalue': None}, {'name': 'boot-priority', 'value': 'normal', 'type': 'PROP_SIMPLE', 'listvalue': None, 'complexvalue': None}], 'parent': None}, {'type': 'anet', 'properties': [{'name': 'linkname', 'value': 'net0', 'type': 'PROP_SIMPLE', 'listvalue': None, 'complexvalue': None}, {'name': 'lower-link', 'value': 'auto', 'type': 'PROP_SIMPLE', 'listvalue': None, 'complexvalue': None}, {'name': 'allowed-address', 'value': None, 'type': 'PROP_LIST', 'listvalue': [], 'complexvalue': None}, {'name': 'configure-allowed-address', 'value': 'true', 'type': 'PROP_SIMPLE', 'listvalue': None, 'complexvalue': None}, {'name': 'defrouter', 'value': None, 'type': 'PROP_LIST', 'listvalue': [], 'complexvalue': None}, {'name': 'allowed-dhcp-cids', 'value': None, 'type': 'PROP_LIST', 'listvalue': [], 'complexvalue': None}, {'name': 'link-protection', 'value': None, 'type': 'PROP_LIST', 'listvalue': ['mac-nospoof'], 'complexvalue': None}, {'name': 'autopush', 'value': None, 'type': 'PROP_LIST', 'listvalue': [], 'complexvalue': None}, {'name': 'mac-address', 'value': 'auto', 'type': 'PROP_SIMPLE', 'listvalue': None, 'complexvalue': None}, {'name': 'auto-mac-address', 'value': '', 'type': 'PROP_SIMPLE', 'listvalue': None, 'complexvalue': None}, {'name': 'mac-prefix', 'value': '', 'type': 'PROP_SIMPLE', 'listvalue': None, 'complexvalue': None}, {'name': 'mac-slot', 'value': '', 'type': 'PROP_SIMPLE', 'listvalue': None, 'complexvalue': None}, {'name': 'maxbw', 'value': '', 'type': 'PROP_SIMPLE', 'listvalue': None, 'complexvalue': None}, {'name': 'bwshare', 'value': '', 'type': 'PROP_SIMPLE', 'listvalue': None, 'complexvalue': None}, {'name': 'priority', 'value': '', 'type': 'PROP_SIMPLE', 'listvalue': None, 'complexvalue': None}, {'name': 'vlan-id', 'value': '', 'type': 'PROP_SIMPLE', 'listvalue': None, 'complexvalue': None}, {'name': 'rxrings', 'value': '', 'type': 'PROP_SIMPLE', 'listvalue': None, 'complexvalue': None}, {'name': 'txrings', 'value': '', 'type': 'PROP_SIMPLE', 'listvalue': None, 'complexvalue': None}, {'name': 'mtu', 'value': '', 'type': 'PROP_SIMPLE', 'listvalue': None, 'complexvalue': None}, {'name': 'rxfanout', 'value': '', 'type': 'PROP_SIMPLE', 'listvalue': None, 'complexvalue': None}, {'name': 'vsi-typeid', 'value': '', 'type': 'PROP_SIMPLE', 'listvalue': None, 'complexvalue': None}, {'name': 'vsi-vers', 'value': '', 'type': 'PROP_SIMPLE', 'listvalue': None, 'complexvalue': None}, {'name': 'vsi-mgrid', 'value': '', 'type': 'PROP_SIMPLE', 'listvalue': None, 'complexvalue': None}, {'name': 'etsbw-lcl', 'value': '', 'type': 'PROP_SIMPLE', 'listvalue': None, 'complexvalue': None}, {'name': 'cos', 'value': '', 'type': 'PROP_SIMPLE', 'listvalue': None, 'complexvalue': None}, {'name': 'pkey', 'value': '', 'type': 'PROP_SIMPLE', 'listvalue': None, 'complexvalue': None}, {'name': 'linkmode', 'value': '', 'type': 'PROP_SIMPLE', 'listvalue': None, 'complexvalue': None}, {'name': 'evs', 'value': '', 'type': 'PROP_SIMPLE', 'listvalue': None, 'complexvalue': None}, {'name': 'vport', 'value': '', 'type': 'PROP_SIMPLE', 'listvalue': None, 'complexvalue': None}, {'name': 'tmp-id', 'value': '0', 'type': 'PROP_SIMPLE', 'listvalue': None, 'complexvalue': None}, {'name': 'ring-group', 'value': 'auto', 'type': 'PROP_SIMPLE', 'listvalue': None, 'complexvalue': None}], 'parent': None}]\n"
     ]
    }
   ],
   "source": [
    "json_body = {}\n",
    "\n",
    "single_zone_res = rad_rest_request('PUT', s, server_connection_info, '{}/_rad_method/getResources'.format(single_zone_uri), json_body)\n",
    "single_zone_res_text = json.loads(single_zone_res.text)\n",
    "\n",
    "print(single_zone_res.status_code, '\\n')\n",
    "print(single_zone_res_text['payload'])"
   ]
  },
  {
   "cell_type": "markdown",
   "metadata": {},
   "source": [
    "Again this is hard to read and work with so here too we'll pull it into a Pandas DataFrame.\n",
    "\n",
    "Note that the `payload` is a list of nested dicts, one for each type of `Resource`, so we need to do a little bit more work to nicely pull it all into the single dataframe. Plus I add a column that holds the name of the `resoucetype` and the `parent` of the `Resource`:"
   ]
  },
  {
   "cell_type": "code",
   "execution_count": 18,
   "metadata": {},
   "outputs": [
    {
     "data": {
      "text/html": [
       "<div>\n",
       "<style scoped>\n",
       "    .dataframe tbody tr th:only-of-type {\n",
       "        vertical-align: middle;\n",
       "    }\n",
       "\n",
       "    .dataframe tbody tr th {\n",
       "        vertical-align: top;\n",
       "    }\n",
       "\n",
       "    .dataframe thead th {\n",
       "        text-align: right;\n",
       "    }\n",
       "</style>\n",
       "<table border=\"1\" class=\"dataframe\">\n",
       "  <thead>\n",
       "    <tr style=\"text-align: right;\">\n",
       "      <th></th>\n",
       "      <th>name</th>\n",
       "      <th>value</th>\n",
       "      <th>type</th>\n",
       "      <th>listvalue</th>\n",
       "      <th>complexvalue</th>\n",
       "      <th>resourcetype</th>\n",
       "      <th>parent</th>\n",
       "    </tr>\n",
       "  </thead>\n",
       "  <tbody>\n",
       "    <tr>\n",
       "      <th>0</th>\n",
       "      <td>zonename</td>\n",
       "      <td>test1</td>\n",
       "      <td>PROP_SIMPLE</td>\n",
       "      <td>None</td>\n",
       "      <td>None</td>\n",
       "      <td>global</td>\n",
       "      <td>None</td>\n",
       "    </tr>\n",
       "    <tr>\n",
       "      <th>1</th>\n",
       "      <td>zonepath</td>\n",
       "      <td>/system/zones/%{zonename}</td>\n",
       "      <td>PROP_SIMPLE</td>\n",
       "      <td>None</td>\n",
       "      <td>None</td>\n",
       "      <td>global</td>\n",
       "      <td>None</td>\n",
       "    </tr>\n",
       "    <tr>\n",
       "      <th>2</th>\n",
       "      <td>brand</td>\n",
       "      <td>solaris</td>\n",
       "      <td>PROP_SIMPLE</td>\n",
       "      <td>None</td>\n",
       "      <td>None</td>\n",
       "      <td>global</td>\n",
       "      <td>None</td>\n",
       "    </tr>\n",
       "    <tr>\n",
       "      <th>3</th>\n",
       "      <td>autoboot</td>\n",
       "      <td>false</td>\n",
       "      <td>PROP_SIMPLE</td>\n",
       "      <td>None</td>\n",
       "      <td>None</td>\n",
       "      <td>global</td>\n",
       "      <td>None</td>\n",
       "    </tr>\n",
       "    <tr>\n",
       "      <th>4</th>\n",
       "      <td>autoshutdown</td>\n",
       "      <td>shutdown</td>\n",
       "      <td>PROP_SIMPLE</td>\n",
       "      <td>None</td>\n",
       "      <td>None</td>\n",
       "      <td>global</td>\n",
       "      <td>None</td>\n",
       "    </tr>\n",
       "    <tr>\n",
       "      <th>5</th>\n",
       "      <td>bootargs</td>\n",
       "      <td></td>\n",
       "      <td>PROP_SIMPLE</td>\n",
       "      <td>None</td>\n",
       "      <td>None</td>\n",
       "      <td>global</td>\n",
       "      <td>None</td>\n",
       "    </tr>\n",
       "    <tr>\n",
       "      <th>6</th>\n",
       "      <td>file-mac-profile</td>\n",
       "      <td></td>\n",
       "      <td>PROP_SIMPLE</td>\n",
       "      <td>None</td>\n",
       "      <td>None</td>\n",
       "      <td>global</td>\n",
       "      <td>None</td>\n",
       "    </tr>\n",
       "    <tr>\n",
       "      <th>7</th>\n",
       "      <td>pool</td>\n",
       "      <td></td>\n",
       "      <td>PROP_SIMPLE</td>\n",
       "      <td>None</td>\n",
       "      <td>None</td>\n",
       "      <td>global</td>\n",
       "      <td>None</td>\n",
       "    </tr>\n",
       "    <tr>\n",
       "      <th>8</th>\n",
       "      <td>limitpriv</td>\n",
       "      <td></td>\n",
       "      <td>PROP_SIMPLE</td>\n",
       "      <td>None</td>\n",
       "      <td>None</td>\n",
       "      <td>global</td>\n",
       "      <td>None</td>\n",
       "    </tr>\n",
       "    <tr>\n",
       "      <th>9</th>\n",
       "      <td>scheduling-class</td>\n",
       "      <td></td>\n",
       "      <td>PROP_SIMPLE</td>\n",
       "      <td>None</td>\n",
       "      <td>None</td>\n",
       "      <td>global</td>\n",
       "      <td>None</td>\n",
       "    </tr>\n",
       "    <tr>\n",
       "      <th>10</th>\n",
       "      <td>ip-type</td>\n",
       "      <td>exclusive</td>\n",
       "      <td>PROP_SIMPLE</td>\n",
       "      <td>None</td>\n",
       "      <td>None</td>\n",
       "      <td>global</td>\n",
       "      <td>None</td>\n",
       "    </tr>\n",
       "    <tr>\n",
       "      <th>11</th>\n",
       "      <td>hostid</td>\n",
       "      <td></td>\n",
       "      <td>PROP_SIMPLE</td>\n",
       "      <td>None</td>\n",
       "      <td>None</td>\n",
       "      <td>global</td>\n",
       "      <td>None</td>\n",
       "    </tr>\n",
       "    <tr>\n",
       "      <th>12</th>\n",
       "      <td>fs-allowed</td>\n",
       "      <td>None</td>\n",
       "      <td>PROP_LIST</td>\n",
       "      <td>[]</td>\n",
       "      <td>None</td>\n",
       "      <td>global</td>\n",
       "      <td>None</td>\n",
       "    </tr>\n",
       "    <tr>\n",
       "      <th>13</th>\n",
       "      <td>tenant</td>\n",
       "      <td></td>\n",
       "      <td>PROP_SIMPLE</td>\n",
       "      <td>None</td>\n",
       "      <td>None</td>\n",
       "      <td>global</td>\n",
       "      <td>None</td>\n",
       "    </tr>\n",
       "    <tr>\n",
       "      <th>14</th>\n",
       "      <td>global-time</td>\n",
       "      <td>false</td>\n",
       "      <td>PROP_SIMPLE</td>\n",
       "      <td>None</td>\n",
       "      <td>None</td>\n",
       "      <td>global</td>\n",
       "      <td>None</td>\n",
       "    </tr>\n",
       "    <tr>\n",
       "      <th>15</th>\n",
       "      <td>boot-priority</td>\n",
       "      <td>normal</td>\n",
       "      <td>PROP_SIMPLE</td>\n",
       "      <td>None</td>\n",
       "      <td>None</td>\n",
       "      <td>global</td>\n",
       "      <td>None</td>\n",
       "    </tr>\n",
       "    <tr>\n",
       "      <th>0</th>\n",
       "      <td>linkname</td>\n",
       "      <td>net0</td>\n",
       "      <td>PROP_SIMPLE</td>\n",
       "      <td>None</td>\n",
       "      <td>None</td>\n",
       "      <td>anet</td>\n",
       "      <td>None</td>\n",
       "    </tr>\n",
       "    <tr>\n",
       "      <th>1</th>\n",
       "      <td>lower-link</td>\n",
       "      <td>auto</td>\n",
       "      <td>PROP_SIMPLE</td>\n",
       "      <td>None</td>\n",
       "      <td>None</td>\n",
       "      <td>anet</td>\n",
       "      <td>None</td>\n",
       "    </tr>\n",
       "    <tr>\n",
       "      <th>2</th>\n",
       "      <td>allowed-address</td>\n",
       "      <td>None</td>\n",
       "      <td>PROP_LIST</td>\n",
       "      <td>[]</td>\n",
       "      <td>None</td>\n",
       "      <td>anet</td>\n",
       "      <td>None</td>\n",
       "    </tr>\n",
       "    <tr>\n",
       "      <th>3</th>\n",
       "      <td>configure-allowed-address</td>\n",
       "      <td>true</td>\n",
       "      <td>PROP_SIMPLE</td>\n",
       "      <td>None</td>\n",
       "      <td>None</td>\n",
       "      <td>anet</td>\n",
       "      <td>None</td>\n",
       "    </tr>\n",
       "    <tr>\n",
       "      <th>4</th>\n",
       "      <td>defrouter</td>\n",
       "      <td>None</td>\n",
       "      <td>PROP_LIST</td>\n",
       "      <td>[]</td>\n",
       "      <td>None</td>\n",
       "      <td>anet</td>\n",
       "      <td>None</td>\n",
       "    </tr>\n",
       "    <tr>\n",
       "      <th>5</th>\n",
       "      <td>allowed-dhcp-cids</td>\n",
       "      <td>None</td>\n",
       "      <td>PROP_LIST</td>\n",
       "      <td>[]</td>\n",
       "      <td>None</td>\n",
       "      <td>anet</td>\n",
       "      <td>None</td>\n",
       "    </tr>\n",
       "    <tr>\n",
       "      <th>6</th>\n",
       "      <td>link-protection</td>\n",
       "      <td>None</td>\n",
       "      <td>PROP_LIST</td>\n",
       "      <td>[mac-nospoof]</td>\n",
       "      <td>None</td>\n",
       "      <td>anet</td>\n",
       "      <td>None</td>\n",
       "    </tr>\n",
       "    <tr>\n",
       "      <th>7</th>\n",
       "      <td>autopush</td>\n",
       "      <td>None</td>\n",
       "      <td>PROP_LIST</td>\n",
       "      <td>[]</td>\n",
       "      <td>None</td>\n",
       "      <td>anet</td>\n",
       "      <td>None</td>\n",
       "    </tr>\n",
       "    <tr>\n",
       "      <th>8</th>\n",
       "      <td>mac-address</td>\n",
       "      <td>auto</td>\n",
       "      <td>PROP_SIMPLE</td>\n",
       "      <td>None</td>\n",
       "      <td>None</td>\n",
       "      <td>anet</td>\n",
       "      <td>None</td>\n",
       "    </tr>\n",
       "    <tr>\n",
       "      <th>9</th>\n",
       "      <td>auto-mac-address</td>\n",
       "      <td></td>\n",
       "      <td>PROP_SIMPLE</td>\n",
       "      <td>None</td>\n",
       "      <td>None</td>\n",
       "      <td>anet</td>\n",
       "      <td>None</td>\n",
       "    </tr>\n",
       "    <tr>\n",
       "      <th>10</th>\n",
       "      <td>mac-prefix</td>\n",
       "      <td></td>\n",
       "      <td>PROP_SIMPLE</td>\n",
       "      <td>None</td>\n",
       "      <td>None</td>\n",
       "      <td>anet</td>\n",
       "      <td>None</td>\n",
       "    </tr>\n",
       "    <tr>\n",
       "      <th>11</th>\n",
       "      <td>mac-slot</td>\n",
       "      <td></td>\n",
       "      <td>PROP_SIMPLE</td>\n",
       "      <td>None</td>\n",
       "      <td>None</td>\n",
       "      <td>anet</td>\n",
       "      <td>None</td>\n",
       "    </tr>\n",
       "    <tr>\n",
       "      <th>12</th>\n",
       "      <td>maxbw</td>\n",
       "      <td></td>\n",
       "      <td>PROP_SIMPLE</td>\n",
       "      <td>None</td>\n",
       "      <td>None</td>\n",
       "      <td>anet</td>\n",
       "      <td>None</td>\n",
       "    </tr>\n",
       "    <tr>\n",
       "      <th>13</th>\n",
       "      <td>bwshare</td>\n",
       "      <td></td>\n",
       "      <td>PROP_SIMPLE</td>\n",
       "      <td>None</td>\n",
       "      <td>None</td>\n",
       "      <td>anet</td>\n",
       "      <td>None</td>\n",
       "    </tr>\n",
       "    <tr>\n",
       "      <th>14</th>\n",
       "      <td>priority</td>\n",
       "      <td></td>\n",
       "      <td>PROP_SIMPLE</td>\n",
       "      <td>None</td>\n",
       "      <td>None</td>\n",
       "      <td>anet</td>\n",
       "      <td>None</td>\n",
       "    </tr>\n",
       "    <tr>\n",
       "      <th>15</th>\n",
       "      <td>vlan-id</td>\n",
       "      <td></td>\n",
       "      <td>PROP_SIMPLE</td>\n",
       "      <td>None</td>\n",
       "      <td>None</td>\n",
       "      <td>anet</td>\n",
       "      <td>None</td>\n",
       "    </tr>\n",
       "    <tr>\n",
       "      <th>16</th>\n",
       "      <td>rxrings</td>\n",
       "      <td></td>\n",
       "      <td>PROP_SIMPLE</td>\n",
       "      <td>None</td>\n",
       "      <td>None</td>\n",
       "      <td>anet</td>\n",
       "      <td>None</td>\n",
       "    </tr>\n",
       "    <tr>\n",
       "      <th>17</th>\n",
       "      <td>txrings</td>\n",
       "      <td></td>\n",
       "      <td>PROP_SIMPLE</td>\n",
       "      <td>None</td>\n",
       "      <td>None</td>\n",
       "      <td>anet</td>\n",
       "      <td>None</td>\n",
       "    </tr>\n",
       "    <tr>\n",
       "      <th>18</th>\n",
       "      <td>mtu</td>\n",
       "      <td></td>\n",
       "      <td>PROP_SIMPLE</td>\n",
       "      <td>None</td>\n",
       "      <td>None</td>\n",
       "      <td>anet</td>\n",
       "      <td>None</td>\n",
       "    </tr>\n",
       "    <tr>\n",
       "      <th>19</th>\n",
       "      <td>rxfanout</td>\n",
       "      <td></td>\n",
       "      <td>PROP_SIMPLE</td>\n",
       "      <td>None</td>\n",
       "      <td>None</td>\n",
       "      <td>anet</td>\n",
       "      <td>None</td>\n",
       "    </tr>\n",
       "    <tr>\n",
       "      <th>20</th>\n",
       "      <td>vsi-typeid</td>\n",
       "      <td></td>\n",
       "      <td>PROP_SIMPLE</td>\n",
       "      <td>None</td>\n",
       "      <td>None</td>\n",
       "      <td>anet</td>\n",
       "      <td>None</td>\n",
       "    </tr>\n",
       "    <tr>\n",
       "      <th>21</th>\n",
       "      <td>vsi-vers</td>\n",
       "      <td></td>\n",
       "      <td>PROP_SIMPLE</td>\n",
       "      <td>None</td>\n",
       "      <td>None</td>\n",
       "      <td>anet</td>\n",
       "      <td>None</td>\n",
       "    </tr>\n",
       "    <tr>\n",
       "      <th>22</th>\n",
       "      <td>vsi-mgrid</td>\n",
       "      <td></td>\n",
       "      <td>PROP_SIMPLE</td>\n",
       "      <td>None</td>\n",
       "      <td>None</td>\n",
       "      <td>anet</td>\n",
       "      <td>None</td>\n",
       "    </tr>\n",
       "    <tr>\n",
       "      <th>23</th>\n",
       "      <td>etsbw-lcl</td>\n",
       "      <td></td>\n",
       "      <td>PROP_SIMPLE</td>\n",
       "      <td>None</td>\n",
       "      <td>None</td>\n",
       "      <td>anet</td>\n",
       "      <td>None</td>\n",
       "    </tr>\n",
       "    <tr>\n",
       "      <th>24</th>\n",
       "      <td>cos</td>\n",
       "      <td></td>\n",
       "      <td>PROP_SIMPLE</td>\n",
       "      <td>None</td>\n",
       "      <td>None</td>\n",
       "      <td>anet</td>\n",
       "      <td>None</td>\n",
       "    </tr>\n",
       "    <tr>\n",
       "      <th>25</th>\n",
       "      <td>pkey</td>\n",
       "      <td></td>\n",
       "      <td>PROP_SIMPLE</td>\n",
       "      <td>None</td>\n",
       "      <td>None</td>\n",
       "      <td>anet</td>\n",
       "      <td>None</td>\n",
       "    </tr>\n",
       "    <tr>\n",
       "      <th>26</th>\n",
       "      <td>linkmode</td>\n",
       "      <td></td>\n",
       "      <td>PROP_SIMPLE</td>\n",
       "      <td>None</td>\n",
       "      <td>None</td>\n",
       "      <td>anet</td>\n",
       "      <td>None</td>\n",
       "    </tr>\n",
       "    <tr>\n",
       "      <th>27</th>\n",
       "      <td>evs</td>\n",
       "      <td></td>\n",
       "      <td>PROP_SIMPLE</td>\n",
       "      <td>None</td>\n",
       "      <td>None</td>\n",
       "      <td>anet</td>\n",
       "      <td>None</td>\n",
       "    </tr>\n",
       "    <tr>\n",
       "      <th>28</th>\n",
       "      <td>vport</td>\n",
       "      <td></td>\n",
       "      <td>PROP_SIMPLE</td>\n",
       "      <td>None</td>\n",
       "      <td>None</td>\n",
       "      <td>anet</td>\n",
       "      <td>None</td>\n",
       "    </tr>\n",
       "    <tr>\n",
       "      <th>29</th>\n",
       "      <td>tmp-id</td>\n",
       "      <td>0</td>\n",
       "      <td>PROP_SIMPLE</td>\n",
       "      <td>None</td>\n",
       "      <td>None</td>\n",
       "      <td>anet</td>\n",
       "      <td>None</td>\n",
       "    </tr>\n",
       "    <tr>\n",
       "      <th>30</th>\n",
       "      <td>ring-group</td>\n",
       "      <td>auto</td>\n",
       "      <td>PROP_SIMPLE</td>\n",
       "      <td>None</td>\n",
       "      <td>None</td>\n",
       "      <td>anet</td>\n",
       "      <td>None</td>\n",
       "    </tr>\n",
       "  </tbody>\n",
       "</table>\n",
       "</div>"
      ],
      "text/plain": [
       "                         name                      value         type  \\\n",
       "0                    zonename                      test1  PROP_SIMPLE   \n",
       "1                    zonepath  /system/zones/%{zonename}  PROP_SIMPLE   \n",
       "2                       brand                    solaris  PROP_SIMPLE   \n",
       "3                    autoboot                      false  PROP_SIMPLE   \n",
       "4                autoshutdown                   shutdown  PROP_SIMPLE   \n",
       "5                    bootargs                             PROP_SIMPLE   \n",
       "6            file-mac-profile                             PROP_SIMPLE   \n",
       "7                        pool                             PROP_SIMPLE   \n",
       "8                   limitpriv                             PROP_SIMPLE   \n",
       "9            scheduling-class                             PROP_SIMPLE   \n",
       "10                    ip-type                  exclusive  PROP_SIMPLE   \n",
       "11                     hostid                             PROP_SIMPLE   \n",
       "12                 fs-allowed                       None    PROP_LIST   \n",
       "13                     tenant                             PROP_SIMPLE   \n",
       "14                global-time                      false  PROP_SIMPLE   \n",
       "15              boot-priority                     normal  PROP_SIMPLE   \n",
       "0                    linkname                       net0  PROP_SIMPLE   \n",
       "1                  lower-link                       auto  PROP_SIMPLE   \n",
       "2             allowed-address                       None    PROP_LIST   \n",
       "3   configure-allowed-address                       true  PROP_SIMPLE   \n",
       "4                   defrouter                       None    PROP_LIST   \n",
       "5           allowed-dhcp-cids                       None    PROP_LIST   \n",
       "6             link-protection                       None    PROP_LIST   \n",
       "7                    autopush                       None    PROP_LIST   \n",
       "8                 mac-address                       auto  PROP_SIMPLE   \n",
       "9            auto-mac-address                             PROP_SIMPLE   \n",
       "10                 mac-prefix                             PROP_SIMPLE   \n",
       "11                   mac-slot                             PROP_SIMPLE   \n",
       "12                      maxbw                             PROP_SIMPLE   \n",
       "13                    bwshare                             PROP_SIMPLE   \n",
       "14                   priority                             PROP_SIMPLE   \n",
       "15                    vlan-id                             PROP_SIMPLE   \n",
       "16                    rxrings                             PROP_SIMPLE   \n",
       "17                    txrings                             PROP_SIMPLE   \n",
       "18                        mtu                             PROP_SIMPLE   \n",
       "19                   rxfanout                             PROP_SIMPLE   \n",
       "20                 vsi-typeid                             PROP_SIMPLE   \n",
       "21                   vsi-vers                             PROP_SIMPLE   \n",
       "22                  vsi-mgrid                             PROP_SIMPLE   \n",
       "23                  etsbw-lcl                             PROP_SIMPLE   \n",
       "24                        cos                             PROP_SIMPLE   \n",
       "25                       pkey                             PROP_SIMPLE   \n",
       "26                   linkmode                             PROP_SIMPLE   \n",
       "27                        evs                             PROP_SIMPLE   \n",
       "28                      vport                             PROP_SIMPLE   \n",
       "29                     tmp-id                          0  PROP_SIMPLE   \n",
       "30                 ring-group                       auto  PROP_SIMPLE   \n",
       "\n",
       "        listvalue complexvalue resourcetype parent  \n",
       "0            None         None       global   None  \n",
       "1            None         None       global   None  \n",
       "2            None         None       global   None  \n",
       "3            None         None       global   None  \n",
       "4            None         None       global   None  \n",
       "5            None         None       global   None  \n",
       "6            None         None       global   None  \n",
       "7            None         None       global   None  \n",
       "8            None         None       global   None  \n",
       "9            None         None       global   None  \n",
       "10           None         None       global   None  \n",
       "11           None         None       global   None  \n",
       "12             []         None       global   None  \n",
       "13           None         None       global   None  \n",
       "14           None         None       global   None  \n",
       "15           None         None       global   None  \n",
       "0            None         None         anet   None  \n",
       "1            None         None         anet   None  \n",
       "2              []         None         anet   None  \n",
       "3            None         None         anet   None  \n",
       "4              []         None         anet   None  \n",
       "5              []         None         anet   None  \n",
       "6   [mac-nospoof]         None         anet   None  \n",
       "7              []         None         anet   None  \n",
       "8            None         None         anet   None  \n",
       "9            None         None         anet   None  \n",
       "10           None         None         anet   None  \n",
       "11           None         None         anet   None  \n",
       "12           None         None         anet   None  \n",
       "13           None         None         anet   None  \n",
       "14           None         None         anet   None  \n",
       "15           None         None         anet   None  \n",
       "16           None         None         anet   None  \n",
       "17           None         None         anet   None  \n",
       "18           None         None         anet   None  \n",
       "19           None         None         anet   None  \n",
       "20           None         None         anet   None  \n",
       "21           None         None         anet   None  \n",
       "22           None         None         anet   None  \n",
       "23           None         None         anet   None  \n",
       "24           None         None         anet   None  \n",
       "25           None         None         anet   None  \n",
       "26           None         None         anet   None  \n",
       "27           None         None         anet   None  \n",
       "28           None         None         anet   None  \n",
       "29           None         None         anet   None  \n",
       "30           None         None         anet   None  "
      ]
     },
     "execution_count": 18,
     "metadata": {},
     "output_type": "execute_result"
    }
   ],
   "source": [
    "full_single_zone_res_df = pd.DataFrame()\n",
    "\n",
    "for index, entry in enumerate(single_zone_res_text['payload']):\n",
    "    single_zone_res_df = pd.io.json.json_normalize(single_zone_res_text['payload'][index]['properties'])\n",
    "    single_zone_res_df['resourcetype'] = entry['type']\n",
    "    single_zone_res_df['parent'] = entry['parent']\n",
    "    full_single_zone_res_df = pd.concat([full_single_zone_res_df, single_zone_res_df])\n",
    "\n",
    "full_single_zone_res_df"
   ]
  },
  {
   "cell_type": "markdown",
   "metadata": {},
   "source": [
    "**Note:** Some of these properties actually are lists of properties. And also most of these properties are not set to anything, that is to say they are either empty values or an empty list `[]`. \n",
    "\n",
    "To filter those out we can remove the empty lists (by looking for `.str.len()` not being zero for each list) and then the empty values:"
   ]
  },
  {
   "cell_type": "code",
   "execution_count": 19,
   "metadata": {},
   "outputs": [
    {
     "data": {
      "text/html": [
       "<div>\n",
       "<style scoped>\n",
       "    .dataframe tbody tr th:only-of-type {\n",
       "        vertical-align: middle;\n",
       "    }\n",
       "\n",
       "    .dataframe tbody tr th {\n",
       "        vertical-align: top;\n",
       "    }\n",
       "\n",
       "    .dataframe thead th {\n",
       "        text-align: right;\n",
       "    }\n",
       "</style>\n",
       "<table border=\"1\" class=\"dataframe\">\n",
       "  <thead>\n",
       "    <tr style=\"text-align: right;\">\n",
       "      <th></th>\n",
       "      <th>name</th>\n",
       "      <th>value</th>\n",
       "      <th>type</th>\n",
       "      <th>listvalue</th>\n",
       "      <th>complexvalue</th>\n",
       "      <th>resourcetype</th>\n",
       "      <th>parent</th>\n",
       "    </tr>\n",
       "  </thead>\n",
       "  <tbody>\n",
       "    <tr>\n",
       "      <th>0</th>\n",
       "      <td>zonename</td>\n",
       "      <td>test1</td>\n",
       "      <td>PROP_SIMPLE</td>\n",
       "      <td>None</td>\n",
       "      <td>None</td>\n",
       "      <td>global</td>\n",
       "      <td>None</td>\n",
       "    </tr>\n",
       "    <tr>\n",
       "      <th>1</th>\n",
       "      <td>zonepath</td>\n",
       "      <td>/system/zones/%{zonename}</td>\n",
       "      <td>PROP_SIMPLE</td>\n",
       "      <td>None</td>\n",
       "      <td>None</td>\n",
       "      <td>global</td>\n",
       "      <td>None</td>\n",
       "    </tr>\n",
       "    <tr>\n",
       "      <th>2</th>\n",
       "      <td>brand</td>\n",
       "      <td>solaris</td>\n",
       "      <td>PROP_SIMPLE</td>\n",
       "      <td>None</td>\n",
       "      <td>None</td>\n",
       "      <td>global</td>\n",
       "      <td>None</td>\n",
       "    </tr>\n",
       "    <tr>\n",
       "      <th>3</th>\n",
       "      <td>autoboot</td>\n",
       "      <td>false</td>\n",
       "      <td>PROP_SIMPLE</td>\n",
       "      <td>None</td>\n",
       "      <td>None</td>\n",
       "      <td>global</td>\n",
       "      <td>None</td>\n",
       "    </tr>\n",
       "    <tr>\n",
       "      <th>4</th>\n",
       "      <td>autoshutdown</td>\n",
       "      <td>shutdown</td>\n",
       "      <td>PROP_SIMPLE</td>\n",
       "      <td>None</td>\n",
       "      <td>None</td>\n",
       "      <td>global</td>\n",
       "      <td>None</td>\n",
       "    </tr>\n",
       "    <tr>\n",
       "      <th>10</th>\n",
       "      <td>ip-type</td>\n",
       "      <td>exclusive</td>\n",
       "      <td>PROP_SIMPLE</td>\n",
       "      <td>None</td>\n",
       "      <td>None</td>\n",
       "      <td>global</td>\n",
       "      <td>None</td>\n",
       "    </tr>\n",
       "    <tr>\n",
       "      <th>14</th>\n",
       "      <td>global-time</td>\n",
       "      <td>false</td>\n",
       "      <td>PROP_SIMPLE</td>\n",
       "      <td>None</td>\n",
       "      <td>None</td>\n",
       "      <td>global</td>\n",
       "      <td>None</td>\n",
       "    </tr>\n",
       "    <tr>\n",
       "      <th>15</th>\n",
       "      <td>boot-priority</td>\n",
       "      <td>normal</td>\n",
       "      <td>PROP_SIMPLE</td>\n",
       "      <td>None</td>\n",
       "      <td>None</td>\n",
       "      <td>global</td>\n",
       "      <td>None</td>\n",
       "    </tr>\n",
       "    <tr>\n",
       "      <th>0</th>\n",
       "      <td>linkname</td>\n",
       "      <td>net0</td>\n",
       "      <td>PROP_SIMPLE</td>\n",
       "      <td>None</td>\n",
       "      <td>None</td>\n",
       "      <td>anet</td>\n",
       "      <td>None</td>\n",
       "    </tr>\n",
       "    <tr>\n",
       "      <th>1</th>\n",
       "      <td>lower-link</td>\n",
       "      <td>auto</td>\n",
       "      <td>PROP_SIMPLE</td>\n",
       "      <td>None</td>\n",
       "      <td>None</td>\n",
       "      <td>anet</td>\n",
       "      <td>None</td>\n",
       "    </tr>\n",
       "    <tr>\n",
       "      <th>3</th>\n",
       "      <td>configure-allowed-address</td>\n",
       "      <td>true</td>\n",
       "      <td>PROP_SIMPLE</td>\n",
       "      <td>None</td>\n",
       "      <td>None</td>\n",
       "      <td>anet</td>\n",
       "      <td>None</td>\n",
       "    </tr>\n",
       "    <tr>\n",
       "      <th>6</th>\n",
       "      <td>link-protection</td>\n",
       "      <td>None</td>\n",
       "      <td>PROP_LIST</td>\n",
       "      <td>[mac-nospoof]</td>\n",
       "      <td>None</td>\n",
       "      <td>anet</td>\n",
       "      <td>None</td>\n",
       "    </tr>\n",
       "    <tr>\n",
       "      <th>8</th>\n",
       "      <td>mac-address</td>\n",
       "      <td>auto</td>\n",
       "      <td>PROP_SIMPLE</td>\n",
       "      <td>None</td>\n",
       "      <td>None</td>\n",
       "      <td>anet</td>\n",
       "      <td>None</td>\n",
       "    </tr>\n",
       "    <tr>\n",
       "      <th>29</th>\n",
       "      <td>tmp-id</td>\n",
       "      <td>0</td>\n",
       "      <td>PROP_SIMPLE</td>\n",
       "      <td>None</td>\n",
       "      <td>None</td>\n",
       "      <td>anet</td>\n",
       "      <td>None</td>\n",
       "    </tr>\n",
       "    <tr>\n",
       "      <th>30</th>\n",
       "      <td>ring-group</td>\n",
       "      <td>auto</td>\n",
       "      <td>PROP_SIMPLE</td>\n",
       "      <td>None</td>\n",
       "      <td>None</td>\n",
       "      <td>anet</td>\n",
       "      <td>None</td>\n",
       "    </tr>\n",
       "  </tbody>\n",
       "</table>\n",
       "</div>"
      ],
      "text/plain": [
       "                         name                      value         type  \\\n",
       "0                    zonename                      test1  PROP_SIMPLE   \n",
       "1                    zonepath  /system/zones/%{zonename}  PROP_SIMPLE   \n",
       "2                       brand                    solaris  PROP_SIMPLE   \n",
       "3                    autoboot                      false  PROP_SIMPLE   \n",
       "4                autoshutdown                   shutdown  PROP_SIMPLE   \n",
       "10                    ip-type                  exclusive  PROP_SIMPLE   \n",
       "14                global-time                      false  PROP_SIMPLE   \n",
       "15              boot-priority                     normal  PROP_SIMPLE   \n",
       "0                    linkname                       net0  PROP_SIMPLE   \n",
       "1                  lower-link                       auto  PROP_SIMPLE   \n",
       "3   configure-allowed-address                       true  PROP_SIMPLE   \n",
       "6             link-protection                       None    PROP_LIST   \n",
       "8                 mac-address                       auto  PROP_SIMPLE   \n",
       "29                     tmp-id                          0  PROP_SIMPLE   \n",
       "30                 ring-group                       auto  PROP_SIMPLE   \n",
       "\n",
       "        listvalue complexvalue resourcetype parent  \n",
       "0            None         None       global   None  \n",
       "1            None         None       global   None  \n",
       "2            None         None       global   None  \n",
       "3            None         None       global   None  \n",
       "4            None         None       global   None  \n",
       "10           None         None       global   None  \n",
       "14           None         None       global   None  \n",
       "15           None         None       global   None  \n",
       "0            None         None         anet   None  \n",
       "1            None         None         anet   None  \n",
       "3            None         None         anet   None  \n",
       "6   [mac-nospoof]         None         anet   None  \n",
       "8            None         None         anet   None  \n",
       "29           None         None         anet   None  \n",
       "30           None         None         anet   None  "
      ]
     },
     "execution_count": 19,
     "metadata": {},
     "output_type": "execute_result"
    }
   ],
   "source": [
    "full_single_zone_res_df = full_single_zone_res_df[full_single_zone_res_df['listvalue'].str.len() != 0]\n",
    "full_single_zone_res_df[full_single_zone_res_df['value'] != '']"
   ]
  },
  {
   "cell_type": "markdown",
   "metadata": {},
   "source": [
    "**Note:** The way we built the dataframe resulted in each property having its own index. This means you can either grab a specific row using `.iloc[]`, in this case the first row:"
   ]
  },
  {
   "cell_type": "code",
   "execution_count": 20,
   "metadata": {},
   "outputs": [
    {
     "data": {
      "text/plain": [
       "name               zonename\n",
       "value                 test1\n",
       "type            PROP_SIMPLE\n",
       "listvalue              None\n",
       "complexvalue           None\n",
       "resourcetype         global\n",
       "parent                 None\n",
       "Name: 0, dtype: object"
      ]
     },
     "execution_count": 20,
     "metadata": {},
     "output_type": "execute_result"
    }
   ],
   "source": [
    "full_single_zone_res_df.iloc[0]"
   ]
  },
  {
   "cell_type": "markdown",
   "metadata": {},
   "source": [
    "Or you can the a certain row from each property using `.loc[]`, for example the first row of each:"
   ]
  },
  {
   "cell_type": "code",
   "execution_count": 21,
   "metadata": {},
   "outputs": [
    {
     "data": {
      "text/html": [
       "<div>\n",
       "<style scoped>\n",
       "    .dataframe tbody tr th:only-of-type {\n",
       "        vertical-align: middle;\n",
       "    }\n",
       "\n",
       "    .dataframe tbody tr th {\n",
       "        vertical-align: top;\n",
       "    }\n",
       "\n",
       "    .dataframe thead th {\n",
       "        text-align: right;\n",
       "    }\n",
       "</style>\n",
       "<table border=\"1\" class=\"dataframe\">\n",
       "  <thead>\n",
       "    <tr style=\"text-align: right;\">\n",
       "      <th></th>\n",
       "      <th>name</th>\n",
       "      <th>value</th>\n",
       "      <th>type</th>\n",
       "      <th>listvalue</th>\n",
       "      <th>complexvalue</th>\n",
       "      <th>resourcetype</th>\n",
       "      <th>parent</th>\n",
       "    </tr>\n",
       "  </thead>\n",
       "  <tbody>\n",
       "    <tr>\n",
       "      <th>0</th>\n",
       "      <td>zonename</td>\n",
       "      <td>test1</td>\n",
       "      <td>PROP_SIMPLE</td>\n",
       "      <td>None</td>\n",
       "      <td>None</td>\n",
       "      <td>global</td>\n",
       "      <td>None</td>\n",
       "    </tr>\n",
       "    <tr>\n",
       "      <th>0</th>\n",
       "      <td>linkname</td>\n",
       "      <td>net0</td>\n",
       "      <td>PROP_SIMPLE</td>\n",
       "      <td>None</td>\n",
       "      <td>None</td>\n",
       "      <td>anet</td>\n",
       "      <td>None</td>\n",
       "    </tr>\n",
       "  </tbody>\n",
       "</table>\n",
       "</div>"
      ],
      "text/plain": [
       "       name  value         type listvalue complexvalue resourcetype parent\n",
       "0  zonename  test1  PROP_SIMPLE      None         None       global   None\n",
       "0  linkname   net0  PROP_SIMPLE      None         None         anet   None"
      ]
     },
     "execution_count": 21,
     "metadata": {},
     "output_type": "execute_result"
    }
   ],
   "source": [
    "full_single_zone_res_df.loc[0]"
   ]
  },
  {
   "cell_type": "markdown",
   "metadata": {},
   "source": [
    "For this notebook we wanted to only show how to get configuration values of a specific zone, changing the values and making these changes active is for another time. \n",
    "\n",
    "---\n",
    "### Managing the Zone State and Lifecycle\n",
    "\n",
    "Now we're going to look at how to manage an individual zone, how to get its current state and how to manage its lifecycle. I.e. how to create/boot/halt/delete a zone.\n",
    "\n",
    "#### Booting and Halting Zones\n",
    "\n",
    "First we'll use the zone we've been working with up to now and get its state. Again using the same URI we pulled from the `href` column, adding `?_rad_detail`, and pulling the `state` from the `payload` and `Zone` dicts:"
   ]
  },
  {
   "cell_type": "code",
   "execution_count": 22,
   "metadata": {},
   "outputs": [
    {
     "name": "stdout",
     "output_type": "stream",
     "text": [
      "installed\n"
     ]
    }
   ],
   "source": [
    "zones_status = rad_rest_request('GET', s, server_connection_info, '{}?_rad_detail'.format(single_zone_uri))\n",
    "print(json.loads(zones_status.text)['payload']['Zone']['state'])"
   ]
  },
  {
   "cell_type": "markdown",
   "metadata": {},
   "source": [
    "For this example we're expecting the result to be `installed` as this will allow us to then boot the zone. \n",
    "\n",
    "If the `state` is indeed `installed` then we can use the `PUT` method in combination with the `boot` RAD method (equivalent to `zoneadm -z <zonename> boot`), again sending an empty JSON text with it:"
   ]
  },
  {
   "cell_type": "code",
   "execution_count": 23,
   "metadata": {},
   "outputs": [
    {
     "name": "stdout",
     "output_type": "stream",
     "text": [
      "200 \n",
      "\n",
      "{'status': 'success', 'payload': {'code': 'NONE', 'str': '', 'stdout': None, 'stderr': None}}\n"
     ]
    }
   ],
   "source": [
    "json_body = {}\n",
    "\n",
    "single_zone_boot = rad_rest_request('PUT', s, server_connection_info, '{}/_rad_method/boot'.format(single_zone_uri), json_body)\n",
    "\n",
    "print(single_zone_boot.status_code, '\\n')\n",
    "print(json.loads(single_zone_boot.text))"
   ]
  },
  {
   "cell_type": "markdown",
   "metadata": {},
   "source": [
    "If all is well this will take a few moments and should return a `200` and `'status': 'success'`. \n",
    "\n",
    "If not, for example if the zone is already running it will return a `503`, and the `stterr` in the `payload` will say something like `error: zone is already booted\\nzoneadm: zone test1: call to zoneadmd(8) failed: zoneadmd(8) returned an error 5 (operation not allowed in the current zone state)\\n`. Again identical to the response you'd get on the CLI `zoneadm -z <zonename> boot` command.\n",
    "\n",
    "The JSON text will allow you to send boot options if you'd like. These options would be expressed in a list of strings, for example if you'd like to force a suspended Kernel Zone to do a new boot and come up to single user mode you'd send this:\n",
    "```json\n",
    "{\n",
    "    'options': [\n",
    "        '-R', '-s' \n",
    "    ]\n",
    "}\n",
    "```\n",
    "\n",
    "But for this case we're just booting an installed zone with no options, so we only send:\n",
    "```json\n",
    "{}\n",
    "```\n",
    "\n",
    "We can check if the zone is now running by again looking at the `state` in the respose of the `?_rad_detail` call:"
   ]
  },
  {
   "cell_type": "code",
   "execution_count": 24,
   "metadata": {},
   "outputs": [
    {
     "name": "stdout",
     "output_type": "stream",
     "text": [
      "running\n"
     ]
    }
   ],
   "source": [
    "zones_status = rad_rest_request('GET', s, server_connection_info, '{}?_rad_detail'.format(single_zone_uri))\n",
    "print(json.loads(zones_status.text)['payload']['Zone']['state'])"
   ]
  },
  {
   "cell_type": "markdown",
   "metadata": {},
   "source": [
    "This should now return `running`.\n",
    "\n",
    "For this example we won't do anything with the zone at the moment so we'll halt it using the `halt` RAD method which is equivalent to the `zoneadm -z <zonename> halt` CLI command. \n",
    "\n",
    "Normally you'd probably want to use the `shutdown` RAD method for a cleaner shut down of the zone.\n",
    "\n",
    "This is done with the `PUT` method and only requires the empty JSON text to be sent along as we don't need extra options:"
   ]
  },
  {
   "cell_type": "code",
   "execution_count": 25,
   "metadata": {},
   "outputs": [
    {
     "name": "stdout",
     "output_type": "stream",
     "text": [
      "200 \n",
      "\n",
      "{'status': 'success', 'payload': {'code': 'NONE', 'str': '', 'stdout': None, 'stderr': None}}\n"
     ]
    }
   ],
   "source": [
    "json_body = {}\n",
    "\n",
    "single_zone_halt = rad_rest_request('PUT', s, server_connection_info, '{}/_rad_method/halt'.format(single_zone_uri), json_body)\n",
    "\n",
    "print(single_zone_halt.status_code, '\\n')\n",
    "print(json.loads(single_zone_halt.text))"
   ]
  },
  {
   "cell_type": "markdown",
   "metadata": {},
   "source": [
    "This again should return as `success` indicating the `halt` command completed, bringing the zone state back to `installed`.\n",
    "\n",
    "Again we check if this is indeed the case:"
   ]
  },
  {
   "cell_type": "code",
   "execution_count": 26,
   "metadata": {},
   "outputs": [
    {
     "name": "stdout",
     "output_type": "stream",
     "text": [
      "installed\n"
     ]
    }
   ],
   "source": [
    "zones_status = rad_rest_request('GET', s, server_connection_info, '{}?_rad_detail'.format(single_zone_uri))\n",
    "print(json.loads(zones_status.text)['payload']['Zone']['state'])"
   ]
  },
  {
   "cell_type": "markdown",
   "metadata": {},
   "source": [
    "And the zone is back in the `installed` state.\n",
    "\n",
    "---\n",
    "#### Creating and Deleting Zones\n",
    "\n",
    "Next we'll show how a zone can be created and installed from scratch. This is a bit more involved as you don't have a zone to start with, so there's nothing to refer to when using the `Zone/` interface. \n",
    "\n",
    "In order to do this first step and create a new zone using the `ZoneManager/` interface together with the `create` or `importConfig` RAD methods. The first is equivalent to the plain `zonecfg -z <zonename> create` CLI command, and the second is equivalent to the `zonecfg -z <zonename> -f <command_file>` CLI command. Where the `<command_file>` is the list of `zonecfg` commands.\n",
    "\n",
    "When using `create` you'll get a \"vanilla\" zone, with no customizations so the JSON text would be empty, and when using `importConfig` you'll have to supply it with a string containing the `zonecfg` commands in the same format as the output from the `exportConfig` method we used at the top of this notebook.\n",
    "\n",
    "Either method uses a `PUT` method and will require at least the name of the new zone so we define this first:"
   ]
  },
  {
   "cell_type": "code",
   "execution_count": 27,
   "metadata": {},
   "outputs": [],
   "source": [
    "new_zone = 'test2'"
   ]
  },
  {
   "cell_type": "markdown",
   "metadata": {},
   "source": [
    "In this example we'll be using the `importConfig` RAD method. In this case the `autoboot` will also be set to `true` in addition to the base template settings:"
   ]
  },
  {
   "cell_type": "code",
   "execution_count": 28,
   "metadata": {},
   "outputs": [],
   "source": [
    "zone_config = 'create -b\\nset brand=solaris\\nset autoboot=true\\nadd anet\\nset linkname=net0\\nset configure-allowed-address=true\\nend\\n'"
   ]
  },
  {
   "cell_type": "markdown",
   "metadata": {},
   "source": [
    "When using `importConfig` there is also the `'noexecute'` boolean value that has to be set as part of the JSON text. If `'noexecute'` is set to `True` the `importConfig` will only verify the given command file contents.\n",
    "\n",
    "After this we can go ahead and import the config and thereby create the new zone:"
   ]
  },
  {
   "cell_type": "code",
   "execution_count": 29,
   "metadata": {},
   "outputs": [
    {
     "name": "stdout",
     "output_type": "stream",
     "text": [
      "200 \n",
      "\n",
      "{'status': 'success', 'payload': {'code': 'NONE', 'str': '', 'stdout': None, 'stderr': None}}\n"
     ]
    }
   ],
   "source": [
    "json_body = {'configuration': [zone_config], 'name': new_zone, 'noexecute': False}\n",
    "\n",
    "single_zone_create = rad_rest_request('PUT', s, server_connection_info, '{}/_rad_method/importConfig'.format(zone_manager_uri), json_body)\n",
    "\n",
    "print(single_zone_create.status_code, '\\n')\n",
    "print(json.loads(single_zone_create.text))"
   ]
  },
  {
   "cell_type": "markdown",
   "metadata": {},
   "source": [
    "This should return the status `success`, and now we can check if it's now in the list of zones:"
   ]
  },
  {
   "cell_type": "code",
   "execution_count": 30,
   "metadata": {},
   "outputs": [
    {
     "name": "stdout",
     "output_type": "stream",
     "text": [
      "200\n"
     ]
    },
    {
     "data": {
      "text/html": [
       "<div>\n",
       "<style scoped>\n",
       "    .dataframe tbody tr th:only-of-type {\n",
       "        vertical-align: middle;\n",
       "    }\n",
       "\n",
       "    .dataframe tbody tr th {\n",
       "        vertical-align: top;\n",
       "    }\n",
       "\n",
       "    .dataframe thead th {\n",
       "        text-align: right;\n",
       "    }\n",
       "</style>\n",
       "<table border=\"1\" class=\"dataframe\">\n",
       "  <thead>\n",
       "    <tr style=\"text-align: right;\">\n",
       "      <th></th>\n",
       "      <th>href</th>\n",
       "      <th>Zone.auxstate</th>\n",
       "      <th>Zone.brand</th>\n",
       "      <th>Zone.id</th>\n",
       "      <th>Zone.uuid</th>\n",
       "      <th>Zone.name</th>\n",
       "      <th>Zone.state</th>\n",
       "    </tr>\n",
       "  </thead>\n",
       "  <tbody>\n",
       "    <tr>\n",
       "      <th>0</th>\n",
       "      <td>api/com.oracle.solaris.rad.zonemgr/1.7/Zone/test1</td>\n",
       "      <td>[]</td>\n",
       "      <td>solaris</td>\n",
       "      <td>-1</td>\n",
       "      <td>c5f26d28-0a9d-4c20-a2f3-eb2225de7f7e</td>\n",
       "      <td>test1</td>\n",
       "      <td>installed</td>\n",
       "    </tr>\n",
       "    <tr>\n",
       "      <th>1</th>\n",
       "      <td>api/com.oracle.solaris.rad.zonemgr/1.7/Zone/test2</td>\n",
       "      <td>[]</td>\n",
       "      <td>solaris</td>\n",
       "      <td>-1</td>\n",
       "      <td>None</td>\n",
       "      <td>test2</td>\n",
       "      <td>configured</td>\n",
       "    </tr>\n",
       "  </tbody>\n",
       "</table>\n",
       "</div>"
      ],
      "text/plain": [
       "                                                href Zone.auxstate Zone.brand  \\\n",
       "0  api/com.oracle.solaris.rad.zonemgr/1.7/Zone/test1            []    solaris   \n",
       "1  api/com.oracle.solaris.rad.zonemgr/1.7/Zone/test2            []    solaris   \n",
       "\n",
       "   Zone.id                             Zone.uuid Zone.name  Zone.state  \n",
       "0       -1  c5f26d28-0a9d-4c20-a2f3-eb2225de7f7e     test1   installed  \n",
       "1       -1                                  None     test2  configured  "
      ]
     },
     "execution_count": 30,
     "metadata": {},
     "output_type": "execute_result"
    }
   ],
   "source": [
    "zones_list = rad_rest_request('GET', s, server_connection_info, '{}?_rad_detail'.format(zone_uri))\n",
    "print(zones_list.status_code)\n",
    "\n",
    "zones_list_df = pd.io.json.json_normalize(json.loads(zones_list.text)['payload'])\n",
    "zones_list_df"
   ]
  },
  {
   "cell_type": "markdown",
   "metadata": {},
   "source": [
    "This should show the state of the new zone as `configured`.\n",
    "\n",
    "To further work with this new zone we'll pull its `href` from the dataframe:"
   ]
  },
  {
   "cell_type": "code",
   "execution_count": 31,
   "metadata": {},
   "outputs": [],
   "source": [
    "single_zone_uri = zones_list_df[zones_list_df['Zone.name'] == new_zone].iloc[0]['href']"
   ]
  },
  {
   "cell_type": "markdown",
   "metadata": {},
   "source": [
    "**Note:** using `.iloc[0]` helps pull out the string in the `href` field, even though this is a dataframe with a single row and column.\n",
    "\n",
    "The next step is to install the zone using the `install` RAD method. \n",
    "\n",
    "In this example we want to pass an `sc_profile.xml` file with the system configuration of the new zone with things like it's hostname and IP address so we won't have to set these at first boot. To do this we'll point to a copy of the XML file local to the server, and use the `'options:' []` field in the JSON text we're sending along with the `PUT` method. \n",
    "\n",
    "Note that this method will actually wait until the full zone is installed, so this may take a while:"
   ]
  },
  {
   "cell_type": "code",
   "execution_count": 32,
   "metadata": {},
   "outputs": [
    {
     "name": "stdout",
     "output_type": "stream",
     "text": [
      "200 \n",
      "\n",
      "{'status': 'success', 'payload': {'code': 'NONE', 'str': '', 'stdout': \"The following ZFS file system(s) have been created:\\n    rpool/VARSHARE/zones/test2\\nProgress being logged to /var/log/zones/zoneadm.20201216T182115Z.test2.install\\n       Image: Preparing at /system/zones/test2/root.\\n\\n Install Log: /system/volatile/install.21831/install_log\\n AI Manifest: /tmp/manifest.xml.Vi1bca\\n  SC Profile: /export/home/demo/sc_profile.xml\\n    Zonename: test2\\nInstallation: Starting ...\\n\\n        Creating IPS image\\n         Startup: Retrieving catalog 'solaris' ... Done\\n         Startup: Retrieving catalog 'cr-labtech' ... Done\\n         Startup: Retrieving catalog 'solarisstudio' ... Done\\n         Startup: Caching catalogs ... Done\\n         Startup: Finished processing linked images.\\n         Startup: Refreshing catalog 'solaris' ... Done\\n         Startup: Refreshing catalog 'cr-labtech' ... Done\\n         Startup: Refreshing catalog 'solarisstudio' ... Done\\n        Installing packages from:\\n            solaris\\n                origin:  http://ipkg.us.oracle.com/solaris11/support/\\n            cr-labtech\\n                origin:  http://scapen-pkg-1.us.oracle.com/cr-labtech/\\n            solarisstudio\\n                origin:  http://ipkg.us.oracle.com/solarisstudio/support/\\n         Startup: Refreshing catalog 'solaris' ... Done\\n         Startup: Refreshing catalog 'cr-labtech' ... Done\\n         Startup: Refreshing catalog 'solarisstudio' ... Done\\n        Planning: Solver setup ... Done\\n        Planning: Running solver ... Done\\n        Planning: Finding local manifests ... Done\\n        Planning: Fetching manifests:   0/411  0% complete\\n        Planning: Fetching manifests: 411/411  100% complete\\n        Planning: Package planning ... Done\\n        Planning: Merging actions ... Done\\n        Planning: Checking for conflicting actions ... Done\\n        Planning: Consolidating action changes ... Done\\n        Planning: Evaluating mediators ... Done\\n        Planning: Planning completed in 116.36 seconds\\n        Download:     0/60332 items    0.0/492.6MB  0% complete \\n        Download:  1698/60332 items    8.1/492.6MB  1% complete (1.7M/s)\\n        Download:  3875/60332 items   21.2/492.6MB  4% complete (2.1M/s)\\n        Download:  6526/60332 items   34.8/492.6MB  7% complete (2.7M/s)\\n        Download:  9426/60332 items  117.6/492.6MB  23% complete (9.6M/s)\\n        Download: 10804/60332 items  146.8/492.6MB  29% complete (11.2M/s)\\n        Download: 14432/60332 items  160.5/492.6MB  32% complete (4.3M/s)\\n        Download: 18672/60332 items  199.9/492.6MB  40% complete (4.5M/s)\\n        Download: 22842/60332 items  225.7/492.6MB  45% complete (5.3M/s)\\n        Download: 26413/60332 items  260.7/492.6MB  52% complete (5.8M/s)\\n        Download: 27289/60332 items  269.4/492.6MB  54% complete (4.4M/s)\\n        Download: 28601/60332 items  280.9/492.6MB  57% complete (2.1M/s)\\n        Download: 29420/60332 items  289.7/492.6MB  58% complete (2.0M/s)\\n        Download: 30492/60332 items  302.5/492.6MB  61% complete (2.1M/s)\\n        Download: 31828/60332 items  310.6/492.6MB  63% complete (2.1M/s)\\n        Download: 33149/60332 items  320.1/492.6MB  64% complete (1.8M/s)\\n        Download: 34351/60332 items  334.8/492.6MB  67% complete (2.4M/s)\\n        Download: 36281/60332 items  341.0/492.6MB  69% complete (2.1M/s)\\n        Download: 37562/60332 items  349.4/492.6MB  70% complete (1.5M/s)\\n        Download: 39057/60332 items  359.9/492.6MB  73% complete (1.9M/s)\\n        Download: 40719/60332 items  363.3/492.6MB  73% complete (1.4M/s)\\n        Download: 42568/60332 items  366.6/492.6MB  74% complete (688k/s)\\n        Download: 44277/60332 items  376.3/492.6MB  76% complete (1.3M/s)\\n        Download: 46588/60332 items  397.9/492.6MB  80% complete (3.1M/s)\\n        Download: 48906/60332 items  405.8/492.6MB  82% complete (2.9M/s)\\n        Download: 50809/60332 items  419.4/492.6MB  85% complete (2.1M/s)\\n        Download: 51310/60332 items  438.6/492.6MB  89% complete (3.3M/s)\\n        Download: 53942/60332 items  451.0/492.6MB  91% complete (3.1M/s)\\n        Download: 55952/60332 items  460.4/492.6MB  93% complete (2.1M/s)\\n        Download: 57466/60332 items  475.0/492.6MB  96% complete (2.4M/s)\\n        Download: 60067/60332 items  490.6/492.6MB  99% complete (3.0M/s)\\n        Download: Completed 492.59 MB in 151.00 seconds (3.2M/s)\\n         Actions:     1/88187 actions (Installing new actions)\\n         Actions: 18177/88187 actions (Installing new actions)\\n         Actions: 20475/88187 actions (Installing new actions)\\n         Actions: 23346/88187 actions (Installing new actions)\\n         Actions: 26091/88187 actions (Installing new actions)\\n         Actions: 29441/88187 actions (Installing new actions)\\n         Actions: 30782/88187 actions (Installing new actions)\\n         Actions: 33884/88187 actions (Installing new actions)\\n         Actions: 35743/88187 actions (Installing new actions)\\n         Actions: 37707/88187 actions (Installing new actions)\\n         Actions: 40559/88187 actions (Installing new actions)\\n         Actions: 42476/88187 actions (Installing new actions)\\n         Actions: 44132/88187 actions (Installing new actions)\\n         Actions: 46105/88187 actions (Installing new actions)\\n         Actions: 48862/88187 actions (Installing new actions)\\n         Actions: 51107/88187 actions (Installing new actions)\\n         Actions: 53050/88187 actions (Installing new actions)\\n         Actions: 54681/88187 actions (Installing new actions)\\n         Actions: 56816/88187 actions (Installing new actions)\\n         Actions: 59972/88187 actions (Installing new actions)\\n         Actions: 61919/88187 actions (Installing new actions)\\n         Actions: 63661/88187 actions (Installing new actions)\\n         Actions: 65990/88187 actions (Installing new actions)\\n         Actions: 68365/88187 actions (Installing new actions)\\n         Actions: 70869/88187 actions (Installing new actions)\\n         Actions: 72717/88187 actions (Installing new actions)\\n         Actions: 74719/88187 actions (Installing new actions)\\n         Actions: 79637/88187 actions (Installing new actions)\\n         Actions: Completed 88187 actions in 143.67 seconds.\\n         Done\\nInstallation: Succeeded\\n done.\\n\\n        Done: Installation completed in 710.919 seconds.\\n\\n\\n  Next Steps: Boot the zone, then log into the zone console (zlogin -C)\\n\\n              to complete the configuration process.\\n\\nLog saved in non-global zone as /system/zones/test2/root/var/log/zones/zoneadm.20201216T182115Z.test2.install\\n\", 'stderr': None}}\n"
     ]
    }
   ],
   "source": [
    "json_body = {'options': ['-c', '/export/home/demo/sc_profile.xml']}\n",
    "\n",
    "single_zone_install = rad_rest_request('PUT', s, server_connection_info, '{}/_rad_method/install'.format(single_zone_uri), json_body)\n",
    "\n",
    "print(single_zone_install.status_code, '\\n')\n",
    "print(json.loads(single_zone_install.text))"
   ]
  },
  {
   "cell_type": "markdown",
   "metadata": {},
   "source": [
    "As you can see this returns the full text output to `stdout` that you would normally get on the CLI. To get a better look at it and make it more readable we print it out:"
   ]
  },
  {
   "cell_type": "code",
   "execution_count": 33,
   "metadata": {},
   "outputs": [
    {
     "name": "stdout",
     "output_type": "stream",
     "text": [
      "The following ZFS file system(s) have been created:\n",
      "    rpool/VARSHARE/zones/test2\n",
      "Progress being logged to /var/log/zones/zoneadm.20201216T182115Z.test2.install\n",
      "       Image: Preparing at /system/zones/test2/root.\n",
      "\n",
      " Install Log: /system/volatile/install.21831/install_log\n",
      " AI Manifest: /tmp/manifest.xml.Vi1bca\n",
      "  SC Profile: /export/home/demo/sc_profile.xml\n",
      "    Zonename: test2\n",
      "Installation: Starting ...\n",
      "\n",
      "        Creating IPS image\n",
      "         Startup: Retrieving catalog 'solaris' ... Done\n",
      "         Startup: Retrieving catalog 'cr-labtech' ... Done\n",
      "         Startup: Retrieving catalog 'solarisstudio' ... Done\n",
      "         Startup: Caching catalogs ... Done\n",
      "         Startup: Finished processing linked images.\n",
      "         Startup: Refreshing catalog 'solaris' ... Done\n",
      "         Startup: Refreshing catalog 'cr-labtech' ... Done\n",
      "         Startup: Refreshing catalog 'solarisstudio' ... Done\n",
      "        Installing packages from:\n",
      "            solaris\n",
      "                origin:  http://ipkg.us.oracle.com/solaris11/support/\n",
      "            cr-labtech\n",
      "                origin:  http://scapen-pkg-1.us.oracle.com/cr-labtech/\n",
      "            solarisstudio\n",
      "                origin:  http://ipkg.us.oracle.com/solarisstudio/support/\n",
      "         Startup: Refreshing catalog 'solaris' ... Done\n",
      "         Startup: Refreshing catalog 'cr-labtech' ... Done\n",
      "         Startup: Refreshing catalog 'solarisstudio' ... Done\n",
      "        Planning: Solver setup ... Done\n",
      "        Planning: Running solver ... Done\n",
      "        Planning: Finding local manifests ... Done\n",
      "        Planning: Fetching manifests:   0/411  0% complete\n",
      "        Planning: Fetching manifests: 411/411  100% complete\n",
      "        Planning: Package planning ... Done\n",
      "        Planning: Merging actions ... Done\n",
      "        Planning: Checking for conflicting actions ... Done\n",
      "        Planning: Consolidating action changes ... Done\n",
      "        Planning: Evaluating mediators ... Done\n",
      "        Planning: Planning completed in 116.36 seconds\n",
      "        Download:     0/60332 items    0.0/492.6MB  0% complete \n",
      "        Download:  1698/60332 items    8.1/492.6MB  1% complete (1.7M/s)\n",
      "        Download:  3875/60332 items   21.2/492.6MB  4% complete (2.1M/s)\n",
      "        Download:  6526/60332 items   34.8/492.6MB  7% complete (2.7M/s)\n",
      "        Download:  9426/60332 items  117.6/492.6MB  23% complete (9.6M/s)\n",
      "        Download: 10804/60332 items  146.8/492.6MB  29% complete (11.2M/s)\n",
      "        Download: 14432/60332 items  160.5/492.6MB  32% complete (4.3M/s)\n",
      "        Download: 18672/60332 items  199.9/492.6MB  40% complete (4.5M/s)\n",
      "        Download: 22842/60332 items  225.7/492.6MB  45% complete (5.3M/s)\n",
      "        Download: 26413/60332 items  260.7/492.6MB  52% complete (5.8M/s)\n",
      "        Download: 27289/60332 items  269.4/492.6MB  54% complete (4.4M/s)\n",
      "        Download: 28601/60332 items  280.9/492.6MB  57% complete (2.1M/s)\n",
      "        Download: 29420/60332 items  289.7/492.6MB  58% complete (2.0M/s)\n",
      "        Download: 30492/60332 items  302.5/492.6MB  61% complete (2.1M/s)\n",
      "        Download: 31828/60332 items  310.6/492.6MB  63% complete (2.1M/s)\n",
      "        Download: 33149/60332 items  320.1/492.6MB  64% complete (1.8M/s)\n",
      "        Download: 34351/60332 items  334.8/492.6MB  67% complete (2.4M/s)\n",
      "        Download: 36281/60332 items  341.0/492.6MB  69% complete (2.1M/s)\n",
      "        Download: 37562/60332 items  349.4/492.6MB  70% complete (1.5M/s)\n",
      "        Download: 39057/60332 items  359.9/492.6MB  73% complete (1.9M/s)\n",
      "        Download: 40719/60332 items  363.3/492.6MB  73% complete (1.4M/s)\n",
      "        Download: 42568/60332 items  366.6/492.6MB  74% complete (688k/s)\n",
      "        Download: 44277/60332 items  376.3/492.6MB  76% complete (1.3M/s)\n",
      "        Download: 46588/60332 items  397.9/492.6MB  80% complete (3.1M/s)\n",
      "        Download: 48906/60332 items  405.8/492.6MB  82% complete (2.9M/s)\n",
      "        Download: 50809/60332 items  419.4/492.6MB  85% complete (2.1M/s)\n",
      "        Download: 51310/60332 items  438.6/492.6MB  89% complete (3.3M/s)\n",
      "        Download: 53942/60332 items  451.0/492.6MB  91% complete (3.1M/s)\n",
      "        Download: 55952/60332 items  460.4/492.6MB  93% complete (2.1M/s)\n",
      "        Download: 57466/60332 items  475.0/492.6MB  96% complete (2.4M/s)\n",
      "        Download: 60067/60332 items  490.6/492.6MB  99% complete (3.0M/s)\n",
      "        Download: Completed 492.59 MB in 151.00 seconds (3.2M/s)\n",
      "         Actions:     1/88187 actions (Installing new actions)\n",
      "         Actions: 18177/88187 actions (Installing new actions)\n",
      "         Actions: 20475/88187 actions (Installing new actions)\n",
      "         Actions: 23346/88187 actions (Installing new actions)\n",
      "         Actions: 26091/88187 actions (Installing new actions)\n",
      "         Actions: 29441/88187 actions (Installing new actions)\n",
      "         Actions: 30782/88187 actions (Installing new actions)\n",
      "         Actions: 33884/88187 actions (Installing new actions)\n",
      "         Actions: 35743/88187 actions (Installing new actions)\n",
      "         Actions: 37707/88187 actions (Installing new actions)\n",
      "         Actions: 40559/88187 actions (Installing new actions)\n",
      "         Actions: 42476/88187 actions (Installing new actions)\n",
      "         Actions: 44132/88187 actions (Installing new actions)\n",
      "         Actions: 46105/88187 actions (Installing new actions)\n",
      "         Actions: 48862/88187 actions (Installing new actions)\n",
      "         Actions: 51107/88187 actions (Installing new actions)\n",
      "         Actions: 53050/88187 actions (Installing new actions)\n",
      "         Actions: 54681/88187 actions (Installing new actions)\n",
      "         Actions: 56816/88187 actions (Installing new actions)\n",
      "         Actions: 59972/88187 actions (Installing new actions)\n",
      "         Actions: 61919/88187 actions (Installing new actions)\n",
      "         Actions: 63661/88187 actions (Installing new actions)\n",
      "         Actions: 65990/88187 actions (Installing new actions)\n",
      "         Actions: 68365/88187 actions (Installing new actions)\n",
      "         Actions: 70869/88187 actions (Installing new actions)\n",
      "         Actions: 72717/88187 actions (Installing new actions)\n",
      "         Actions: 74719/88187 actions (Installing new actions)\n",
      "         Actions: 79637/88187 actions (Installing new actions)\n",
      "         Actions: Completed 88187 actions in 143.67 seconds.\n",
      "         Done\n",
      "Installation: Succeeded\n",
      " done.\n",
      "\n",
      "        Done: Installation completed in 710.919 seconds.\n",
      "\n",
      "\n",
      "  Next Steps: Boot the zone, then log into the zone console (zlogin -C)\n",
      "\n",
      "              to complete the configuration process.\n",
      "\n",
      "Log saved in non-global zone as /system/zones/test2/root/var/log/zones/zoneadm.20201216T182115Z.test2.install\n",
      "\n"
     ]
    }
   ],
   "source": [
    "print(json.loads(single_zone_install.text)['payload']['stdout'])"
   ]
  },
  {
   "cell_type": "markdown",
   "metadata": {},
   "source": [
    "Now the zone is installed this should also be reflected in the status of the zone:"
   ]
  },
  {
   "cell_type": "code",
   "execution_count": 34,
   "metadata": {},
   "outputs": [
    {
     "name": "stdout",
     "output_type": "stream",
     "text": [
      "installed\n"
     ]
    }
   ],
   "source": [
    "zones_status = rad_rest_request('GET', s, server_connection_info, '{}?_rad_detail'.format(single_zone_uri))\n",
    "print(json.loads(zones_status.text)['payload']['Zone']['state'])"
   ]
  },
  {
   "cell_type": "markdown",
   "metadata": {},
   "source": [
    "We can also pull in the full list of zones and it should now be part of this list too:"
   ]
  },
  {
   "cell_type": "code",
   "execution_count": 35,
   "metadata": {},
   "outputs": [
    {
     "data": {
      "text/html": [
       "<div>\n",
       "<style scoped>\n",
       "    .dataframe tbody tr th:only-of-type {\n",
       "        vertical-align: middle;\n",
       "    }\n",
       "\n",
       "    .dataframe tbody tr th {\n",
       "        vertical-align: top;\n",
       "    }\n",
       "\n",
       "    .dataframe thead th {\n",
       "        text-align: right;\n",
       "    }\n",
       "</style>\n",
       "<table border=\"1\" class=\"dataframe\">\n",
       "  <thead>\n",
       "    <tr style=\"text-align: right;\">\n",
       "      <th></th>\n",
       "      <th>href</th>\n",
       "      <th>Zone.auxstate</th>\n",
       "      <th>Zone.brand</th>\n",
       "      <th>Zone.id</th>\n",
       "      <th>Zone.uuid</th>\n",
       "      <th>Zone.name</th>\n",
       "      <th>Zone.state</th>\n",
       "    </tr>\n",
       "  </thead>\n",
       "  <tbody>\n",
       "    <tr>\n",
       "      <th>0</th>\n",
       "      <td>api/com.oracle.solaris.rad.zonemgr/1.7/Zone/test1</td>\n",
       "      <td>[]</td>\n",
       "      <td>solaris</td>\n",
       "      <td>-1</td>\n",
       "      <td>c5f26d28-0a9d-4c20-a2f3-eb2225de7f7e</td>\n",
       "      <td>test1</td>\n",
       "      <td>installed</td>\n",
       "    </tr>\n",
       "    <tr>\n",
       "      <th>1</th>\n",
       "      <td>api/com.oracle.solaris.rad.zonemgr/1.7/Zone/test2</td>\n",
       "      <td>[]</td>\n",
       "      <td>solaris</td>\n",
       "      <td>-1</td>\n",
       "      <td>None</td>\n",
       "      <td>test2</td>\n",
       "      <td>installed</td>\n",
       "    </tr>\n",
       "  </tbody>\n",
       "</table>\n",
       "</div>"
      ],
      "text/plain": [
       "                                                href Zone.auxstate Zone.brand  \\\n",
       "0  api/com.oracle.solaris.rad.zonemgr/1.7/Zone/test1            []    solaris   \n",
       "1  api/com.oracle.solaris.rad.zonemgr/1.7/Zone/test2            []    solaris   \n",
       "\n",
       "   Zone.id                             Zone.uuid Zone.name Zone.state  \n",
       "0       -1  c5f26d28-0a9d-4c20-a2f3-eb2225de7f7e     test1  installed  \n",
       "1       -1                                  None     test2  installed  "
      ]
     },
     "execution_count": 35,
     "metadata": {},
     "output_type": "execute_result"
    }
   ],
   "source": [
    "zones_list = rad_rest_request('GET', s, server_connection_info, '{}?_rad_detail'.format(zone_uri))\n",
    "zones_list_df = pd.io.json.json_normalize(json.loads(zones_list.text)['payload'])\n",
    "zones_list_df"
   ]
  },
  {
   "cell_type": "markdown",
   "metadata": {},
   "source": [
    "To now fully check everything is working we can boot the new zone:"
   ]
  },
  {
   "cell_type": "code",
   "execution_count": 36,
   "metadata": {},
   "outputs": [
    {
     "name": "stdout",
     "output_type": "stream",
     "text": [
      "200 \n",
      "\n",
      "{'status': 'success', 'payload': {'code': 'NONE', 'str': '', 'stdout': None, 'stderr': None}}\n"
     ]
    }
   ],
   "source": [
    "json_body = {}\n",
    "\n",
    "single_zone_boot = rad_rest_request('PUT', s, server_connection_info, '{}/_rad_method/boot'.format(single_zone_uri), json_body)\n",
    "\n",
    "print(single_zone_boot.status_code, '\\n')\n",
    "print(json.loads(single_zone_boot.text))"
   ]
  },
  {
   "cell_type": "markdown",
   "metadata": {},
   "source": [
    "Finally we can check if the zone is indeed up and running:"
   ]
  },
  {
   "cell_type": "code",
   "execution_count": 37,
   "metadata": {},
   "outputs": [
    {
     "data": {
      "text/html": [
       "<div>\n",
       "<style scoped>\n",
       "    .dataframe tbody tr th:only-of-type {\n",
       "        vertical-align: middle;\n",
       "    }\n",
       "\n",
       "    .dataframe tbody tr th {\n",
       "        vertical-align: top;\n",
       "    }\n",
       "\n",
       "    .dataframe thead th {\n",
       "        text-align: right;\n",
       "    }\n",
       "</style>\n",
       "<table border=\"1\" class=\"dataframe\">\n",
       "  <thead>\n",
       "    <tr style=\"text-align: right;\">\n",
       "      <th></th>\n",
       "      <th>href</th>\n",
       "      <th>Zone.auxstate</th>\n",
       "      <th>Zone.brand</th>\n",
       "      <th>Zone.id</th>\n",
       "      <th>Zone.uuid</th>\n",
       "      <th>Zone.name</th>\n",
       "      <th>Zone.state</th>\n",
       "    </tr>\n",
       "  </thead>\n",
       "  <tbody>\n",
       "    <tr>\n",
       "      <th>0</th>\n",
       "      <td>api/com.oracle.solaris.rad.zonemgr/1.7/Zone/test1</td>\n",
       "      <td>[]</td>\n",
       "      <td>solaris</td>\n",
       "      <td>-1</td>\n",
       "      <td>c5f26d28-0a9d-4c20-a2f3-eb2225de7f7e</td>\n",
       "      <td>test1</td>\n",
       "      <td>installed</td>\n",
       "    </tr>\n",
       "    <tr>\n",
       "      <th>1</th>\n",
       "      <td>api/com.oracle.solaris.rad.zonemgr/1.7/Zone/test2</td>\n",
       "      <td>[]</td>\n",
       "      <td>solaris</td>\n",
       "      <td>21</td>\n",
       "      <td>None</td>\n",
       "      <td>test2</td>\n",
       "      <td>running</td>\n",
       "    </tr>\n",
       "  </tbody>\n",
       "</table>\n",
       "</div>"
      ],
      "text/plain": [
       "                                                href Zone.auxstate Zone.brand  \\\n",
       "0  api/com.oracle.solaris.rad.zonemgr/1.7/Zone/test1            []    solaris   \n",
       "1  api/com.oracle.solaris.rad.zonemgr/1.7/Zone/test2            []    solaris   \n",
       "\n",
       "   Zone.id                             Zone.uuid Zone.name Zone.state  \n",
       "0       -1  c5f26d28-0a9d-4c20-a2f3-eb2225de7f7e     test1  installed  \n",
       "1       21                                  None     test2    running  "
      ]
     },
     "execution_count": 37,
     "metadata": {},
     "output_type": "execute_result"
    }
   ],
   "source": [
    "zones_list = rad_rest_request('GET', s, server_connection_info, '{}?_rad_detail'.format(zone_uri))\n",
    "zones_list_df = pd.io.json.json_normalize(json.loads(zones_list.text)['payload'])\n",
    "zones_list_df"
   ]
  },
  {
   "cell_type": "markdown",
   "metadata": {},
   "source": [
    "Now we're done we can halt, uninstall, and delete the new zone with the following requests. Note we're printing out the `status_code` for each request to verify we end up with all `200`s:"
   ]
  },
  {
   "cell_type": "code",
   "execution_count": 38,
   "metadata": {},
   "outputs": [
    {
     "name": "stdout",
     "output_type": "stream",
     "text": [
      "Halting the zone: 200 \n",
      "\n",
      "Uninstalling the zone: 200 \n",
      "\n",
      "Deleting the zone: 200 \n",
      "\n"
     ]
    }
   ],
   "source": [
    "json_body = {}\n",
    "json_body_uninstall = {\"options\": ['-F']}\n",
    "json_body_delete = {'name': new_zone}\n",
    "\n",
    "single_zone_halt = rad_rest_request('PUT', s, server_connection_info, '{}/_rad_method/halt'.format(single_zone_uri), json_body)\n",
    "print('Halting the zone:', single_zone_halt.status_code, '\\n')\n",
    "\n",
    "single_zone_uninstall = rad_rest_request('PUT', s, server_connection_info, '{}/_rad_method/uninstall'.format(single_zone_uri), json_body_uninstall)\n",
    "print('Uninstalling the zone:', single_zone_uninstall.status_code, '\\n')\n",
    "\n",
    "single_zone_delete = rad_rest_request('PUT', s, server_connection_info, '{}/_rad_method/delete'.format(zone_manager_uri), json_body_delete)\n",
    "print('Deleting the zone:', single_zone_delete.status_code, '\\n')"
   ]
  },
  {
   "cell_type": "markdown",
   "metadata": {},
   "source": [
    "And now we're back to where we started:"
   ]
  },
  {
   "cell_type": "code",
   "execution_count": 39,
   "metadata": {},
   "outputs": [
    {
     "data": {
      "text/html": [
       "<div>\n",
       "<style scoped>\n",
       "    .dataframe tbody tr th:only-of-type {\n",
       "        vertical-align: middle;\n",
       "    }\n",
       "\n",
       "    .dataframe tbody tr th {\n",
       "        vertical-align: top;\n",
       "    }\n",
       "\n",
       "    .dataframe thead th {\n",
       "        text-align: right;\n",
       "    }\n",
       "</style>\n",
       "<table border=\"1\" class=\"dataframe\">\n",
       "  <thead>\n",
       "    <tr style=\"text-align: right;\">\n",
       "      <th></th>\n",
       "      <th>href</th>\n",
       "      <th>Zone.auxstate</th>\n",
       "      <th>Zone.brand</th>\n",
       "      <th>Zone.id</th>\n",
       "      <th>Zone.uuid</th>\n",
       "      <th>Zone.name</th>\n",
       "      <th>Zone.state</th>\n",
       "    </tr>\n",
       "  </thead>\n",
       "  <tbody>\n",
       "    <tr>\n",
       "      <th>0</th>\n",
       "      <td>api/com.oracle.solaris.rad.zonemgr/1.7/Zone/test1</td>\n",
       "      <td>[]</td>\n",
       "      <td>solaris</td>\n",
       "      <td>-1</td>\n",
       "      <td>c5f26d28-0a9d-4c20-a2f3-eb2225de7f7e</td>\n",
       "      <td>test1</td>\n",
       "      <td>installed</td>\n",
       "    </tr>\n",
       "  </tbody>\n",
       "</table>\n",
       "</div>"
      ],
      "text/plain": [
       "                                                href Zone.auxstate Zone.brand  \\\n",
       "0  api/com.oracle.solaris.rad.zonemgr/1.7/Zone/test1            []    solaris   \n",
       "\n",
       "   Zone.id                             Zone.uuid Zone.name Zone.state  \n",
       "0       -1  c5f26d28-0a9d-4c20-a2f3-eb2225de7f7e     test1  installed  "
      ]
     },
     "execution_count": 39,
     "metadata": {},
     "output_type": "execute_result"
    }
   ],
   "source": [
    "zones_list = rad_rest_request('GET', s, server_connection_info, '{}?_rad_detail'.format(zone_uri))\n",
    "zones_list_df = pd.io.json.json_normalize(json.loads(zones_list.text)['payload'])\n",
    "zones_list_df"
   ]
  },
  {
   "cell_type": "markdown",
   "metadata": {},
   "source": [
    "This end the notebook. Find the full list of RAD methods in the Appendix below."
   ]
  },
  {
   "cell_type": "markdown",
   "metadata": {},
   "source": [
    "---\n",
    "## Appendix\n",
    "\n",
    "### List of Methods for each Interface\n",
    "\n",
    "- **ZoneManager** — URI: `ZoneManager/` — Manage the zones on this system, for example create and delete zones. The RAD/REST methods on this interface are:\n",
    "    - **PUT create**\n",
    "    - **PUT delete**\n",
    "    - **PUT createConfig**\n",
    "    - **PUT importConfig**\n",
    "    - **PUT connectRemote**\n",
    "    - **PUT initEvacuate**\n",
    "    - **PUT evacuate**\n",
    "    - **PUT cancelEvacuate**\n",
    "- **Zone** — URI: `Zone/` — For operations that affect a single zone, it represents an individual zone. All zone configuration and administrative actions are represented in this interface. The RAD/REST methods on this interface are:\n",
    "    - **PUT cancelConfig**\n",
    "    - **PUT exportConfig**\n",
    "    - **PUT update**\n",
    "    - **PUT editConfig**\n",
    "    - **PUT commitConfig**\n",
    "    - **PUT configIsLive**\n",
    "    - **PUT configIsStale**\n",
    "    - **PUT addResource**\n",
    "    - **PUT reloadConfig**\n",
    "    - **PUT removeResources**\n",
    "    - **PUT getResources**\n",
    "    - **PUT getResourceProperties**\n",
    "    - **PUT setResourceProperties**\n",
    "    - **PUT clearResourceProperties**\n",
    "    - **PUT apply**\n",
    "    - **PUT attach**\n",
    "    - **PUT boot**\n",
    "    - **PUT clone**\n",
    "    - **PUT detach**\n",
    "    - **PUT halt**\n",
    "    - **PUT install**\n",
    "    - **PUT mark**\n",
    "    - **PUT migrate**\n",
    "    - **PUT move**\n",
    "    - **PUT rename**\n",
    "    - **PUT ready**\n",
    "    - **PUT reboot**\n",
    "    - **PUT savecore**\n",
    "    - **PUT shutdown**\n",
    "    - **PUT suspend**\n",
    "    - **PUT uninstall**\n",
    "    - **PUT verify**\n",
    "    - **PUT prepareForMigration**\n",
    "    - **PUT initMigration**"
   ]
  }
 ],
 "metadata": {
  "kernelspec": {
   "display_name": "oracle-solaris-rest",
   "language": "python",
   "name": "oracle-solaris-rest"
  },
  "language_info": {
   "codemirror_mode": {
    "name": "ipython",
    "version": 3
   },
   "file_extension": ".py",
   "mimetype": "text/x-python",
   "name": "python",
   "nbconvert_exporter": "python",
   "pygments_lexer": "ipython3",
   "version": "3.7.6"
  }
 },
 "nbformat": 4,
 "nbformat_minor": 4
}
