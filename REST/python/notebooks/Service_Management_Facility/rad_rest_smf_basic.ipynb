{
 "cells": [
  {
   "cell_type": "markdown",
   "metadata": {},
   "source": [
    "# Notebook for Working with SMF Through its REST API — Basic Actions\n",
    "\n",
    "This Jupyter Notebook is aimed at showing how you can use the REST interface in Oracle Solaris to work with the [Solaris Managment Facility](https://docs.oracle.com/cd/E37838_01/html/E60998/gmteb.html#scrolltoc) (SMF). The REST API is layered on top of the [Oracle Solaris Remote Administration Deamon (RAD)](https://docs.oracle.com/cd/E37838_01/html/E68270/gpzxz.html#scrolltoc), and gives access to all the RAD modules through REST. This notebook is using Python to run all the tasks. </br></br>\n",
    "In this notebook we'll show how to connect to the REST interface and how to perform the various tasks you can do through REST.\n",
    "\n",
    "> *Note 1* — You'll need to enable the `svc:/system/rad:remote` [service](https://docs.oracle.com/cd/E37838_01/html/E68270/gpzpd.html#scrolltoc) to be able to remotely connect. </br> \n",
    "> *Note 2* — If the server doesn't have a certification signed by a public CA then pull in `/etc/certs/localhost/host-ca/hostca.crt` from your server and point to its location in the JSON file below. </br> \n",
    "> *Note 3* — To do actions beyond looking at the services, like enabling or disabling a service, the user you use to connect to the system will need to have either the `Service Management` or `Service Operator` RBAC profiles set to be able perform these tasks. For more info [see `smf_security(7)`](https://docs.oracle.com/cd/E88353_01/html/E37853/smf-security-7.html#scrolltoc).</br>\n",
    "> *Note 4* — This notebook was written with Python 3.7\n",
    "\n",
    "Here are the steps on what to do.\n",
    "\n",
    "## Introduction to the SMF API\n",
    "\n",
    "The base URI of the Compliance API is: `api/com.oracle.solaris.rad.smf/1.0/`\n",
    "\n",
    "The API has three main interfaces:\n",
    "\n",
    "- **Master** — URI: `Master/` — This is a top-level object providing access to all services and instances on the system, this way you can find the services you're looking for.\n",
    "- **Service** — URI: `Service/` — This object allows interaction with a specific SMF service, to get information about it, get its property groups, and properties, and edit them.\n",
    "- **Instance** — URI: `Instance/` — This object represents an SMF instance, and allows interaction with the running instance.\n",
    "\n",
    "\n",
    "The latter two interfaces, **Service** and **Instance**, are derived from a common **Entity** interface (URI: `Entity/`). They inherit most of their methods from **Entity**.  \n",
    "\n",
    "Because there are many different things you can do through SMF, this notebook will focus how to use Master, Service, and Instance interfaces to do a basic lookup of a specific service, to discover its property groups, change one of its properties, and enable or disable the service. \n",
    "\n",
    "In this case we'll be looking at the `svc:/application/security/compliance:default` service which will run Compliance Assessments at a scheduled cadence.\n",
    "\n",
    "In the second half of the notebook we'll be altering Property Values and turning a service instance on and off, make sure the user you're using to connect to the server has the `Service Management` or `Service Operator` RBAC profiles set to be able to run these steps.\n",
    "\n",
    "---\n",
    "\n",
    "## Imports and Setting Variables\n",
    "\n",
    "First to import all the Python libraries:"
   ]
  },
  {
   "cell_type": "code",
   "execution_count": 1,
   "metadata": {},
   "outputs": [],
   "source": [
    "import requests\n",
    "import json\n",
    "import base64\n",
    "import os\n",
    "import time, datetime\n",
    "import pandas as pd"
   ]
  },
  {
   "cell_type": "markdown",
   "metadata": {},
   "source": [
    "Turning off warnings thrown by Python:"
   ]
  },
  {
   "cell_type": "code",
   "execution_count": 2,
   "metadata": {},
   "outputs": [],
   "source": [
    "import warnings\n",
    "warnings.filterwarnings('ignore')"
   ]
  },
  {
   "cell_type": "markdown",
   "metadata": {},
   "source": [
    "---\n",
    "## Base Functions\n",
    "\n",
    "Next we define the base functions used to make the connection with the REST interface. The first is to establish a session, the second is for the regular GET, PUT, POST, and DELETE methods.\n",
    "\n",
    "The function to establish a session:"
   ]
  },
  {
   "cell_type": "code",
   "execution_count": 3,
   "metadata": {},
   "outputs": [],
   "source": [
    "def rad_rest_login(session_name, server_connection_info, base_authentication_uri):\n",
    "    login_url = 'https://{0}:{1}/{2}'.format(*list(map(server_connection_info.get, ['server_name', 'server_port'])), base_authentication_uri)\n",
    "    print(\"Logging in with this URL: \" + login_url)\n",
    "\n",
    "    try:\n",
    "        response = session_name.post(login_url, json = server_connection_info['config_json'], verify = server_connection_info['cert_location'])\n",
    "    except:\n",
    "        print('no connection')\n",
    "        response = 'empty'\n",
    "    \n",
    "    return response"
   ]
  },
  {
   "cell_type": "markdown",
   "metadata": {},
   "source": [
    "The function to run regular requests:"
   ]
  },
  {
   "cell_type": "code",
   "execution_count": 4,
   "metadata": {},
   "outputs": [],
   "source": [
    "def rad_rest_request(request_type, session_name, server_connection_info, rad_rest_uri, payload = None):\n",
    "    \n",
    "    # Create a list of variables\n",
    "    query_vars = list(map(server_connection_info.get, ['server_name', 'server_port']))\n",
    "    query_vars.append(rad_rest_uri)\n",
    "\n",
    "    # Create query url to be used\n",
    "    query_url = 'https://{0}:{1}/{2}'.format(*query_vars)\n",
    "\n",
    "    response = session_name.request(request_type, query_url, json = payload)\n",
    "    \n",
    "    return response"
   ]
  },
  {
   "cell_type": "markdown",
   "metadata": {},
   "source": [
    "Two extra functions for convenience to convert Solaris timestamps to something human-readable, which might be useful later on:"
   ]
  },
  {
   "cell_type": "code",
   "execution_count": 5,
   "metadata": {},
   "outputs": [],
   "source": [
    "def timestamp_from_solaris_time(value):\n",
    "    return datetime.datetime.fromtimestamp(value/1000)"
   ]
  },
  {
   "cell_type": "code",
   "execution_count": 6,
   "metadata": {},
   "outputs": [],
   "source": [
    "def str_from_solaris_time(value):\n",
    "    return time.strftime('%Y-%m-%d %H:%M:%S', time.localtime(value/1000))"
   ]
  },
  {
   "cell_type": "markdown",
   "metadata": {},
   "source": [
    "---\n",
    "\n",
    "## Load Remote System Connection Information\n",
    "\n",
    "Now define the location of the remote system connection information:"
   ]
  },
  {
   "cell_type": "code",
   "execution_count": 7,
   "metadata": {},
   "outputs": [],
   "source": [
    "config_filename = '../base_login_info.json'"
   ]
  },
  {
   "cell_type": "markdown",
   "metadata": {},
   "source": [
    "The system specific information is located in a JSON file located in the same directory as the notebook, and is structured like this: </br>\n",
    "\n",
    "```json\n",
    "{\n",
    "    \"server_name\": \"<ip address>\",\n",
    "    \"server_port\": \"<RAD Remote port>\",\n",
    "    \"cert_location\": \"<path_to_cert>\",\n",
    "    \"config_json\": {\n",
    "        \"username\": \"<username>\",\n",
    "        \"password\": \"<password>\",\n",
    "        \"scheme\": \"pam\",\n",
    "        \"preserve\": true,\n",
    "        \"timeout\": -1\n",
    "    }\n",
    "}\n",
    "``` \n",
    "\n",
    "We advise to securely connect to the remote server over https however this will require the use of a certificate, in many cases the remote server will have a certificate signed by a public CA, if so please set `\"cert_location\": true`. If, for example in the case of a demo system, the certificate isn't signed download the `/etc/certs/localhost/host-ca/hostca.crt` file and refer to it's location with `\"cert_location\": \"<path_to_cert>\"`. If you don't want to use a certificate at all set `\"cert_location\": false` instead of the location of the cert file. Note this last option doesn't validate that you're connecting to correct server.\n",
    "\n",
    "Loading this system specific information:"
   ]
  },
  {
   "cell_type": "code",
   "execution_count": 8,
   "metadata": {},
   "outputs": [
    {
     "data": {
      "text/plain": [
       "'t8ldom3.us.oracle.com'"
      ]
     },
     "execution_count": 8,
     "metadata": {},
     "output_type": "execute_result"
    }
   ],
   "source": [
    "if config_filename:\n",
    "    with open(config_filename, 'r') as f:\n",
    "        server_connection_info = json.load(f)\n",
    "        \n",
    "server_connection_info['server_name']"
   ]
  },
  {
   "cell_type": "markdown",
   "metadata": {},
   "source": [
    "---\n",
    "---\n",
    "## Connecting to the SMF Interface\n",
    "\n",
    "We start with the example on how to connect to the server to get the list of services on the system and work with this. \n",
    "\n",
    "### Defining Interface URIs\n",
    "\n",
    "Before we start we define the various URI variables:"
   ]
  },
  {
   "cell_type": "code",
   "execution_count": 9,
   "metadata": {},
   "outputs": [],
   "source": [
    "base_authentication_uri = 'api/authentication/1.0/Session/'\n",
    "\n",
    "base_smf_uri = 'api/com.oracle.solaris.rad.smf/1.0/'\n",
    "smf_master_uri = '{}Master/'.format(base_smf_uri)\n",
    "smf_instance_uri = '{}Instance/'.format(base_smf_uri)\n",
    "smf_service_uri = '{}Service/'.format(base_smf_uri)\n",
    "smf_entity_uri = '{}Entity/'.format(base_smf_uri)"
   ]
  },
  {
   "cell_type": "markdown",
   "metadata": {},
   "source": [
    "### Logging in and setting up a session\n",
    "\n",
    "First establish the session and bring in the necessary credentials. Note we're printing the results to give a better insight on what's coming back, we won't be doing this for every request just a few to give you a feel:"
   ]
  },
  {
   "cell_type": "code",
   "execution_count": 10,
   "metadata": {},
   "outputs": [
    {
     "name": "stdout",
     "output_type": "stream",
     "text": [
      "Logging in with this URL: https://t8ldom3.us.oracle.com:6788/api/authentication/1.0/Session/\n",
      "201\n",
      "{\n",
      "        \"status\": \"success\",\n",
      "        \"payload\": {\n",
      "                \"href\": \"/api/com.oracle.solaris.rad.authentication/1.0/Session/_rad_reference/3328\"\n",
      "        }\n",
      "}\n"
     ]
    }
   ],
   "source": [
    "s = requests.Session()\n",
    "\n",
    "login_answer = rad_rest_login(s, server_connection_info, base_authentication_uri)\n",
    "\n",
    "# printing the answers coming back to show the proces.\n",
    "print(login_answer.status_code)\n",
    "print(login_answer.text)"
   ]
  },
  {
   "cell_type": "markdown",
   "metadata": {},
   "source": [
    "---\n",
    "### Getting the List of SMF Services\n",
    "\n",
    "To get to the list of SMF services use the `instances` method added to the Master interface using the `GET` method:<br>\n",
    "`https://{{server}}:6788/api/com.oracle.solaris.rad.smf/1.0/Master/instances`\n",
    "\n",
    "This will return a list of dicts, one for each service containing basic information about the given service:"
   ]
  },
  {
   "cell_type": "code",
   "execution_count": 11,
   "metadata": {
    "scrolled": true
   },
   "outputs": [
    {
     "name": "stdout",
     "output_type": "stream",
     "text": [
      "200 \n",
      "\n",
      "{'status': 'success', 'payload': [{'fmri': 'svc:/application/cups/in-lpd:default', 'objectName': 'api/com.oracle.solaris.rad.smf/1.0/Instance/application%2Fcups%2Fin-lpd,default', 'stime': 1601400264140, 'state': 'ONLINE'}, {'fmri': 'svc:/application/cups/scheduler:default', 'objectName': 'api/com.oracle.solaris.rad.smf/1.0/Instance/application%2Fcups%2Fscheduler,default', 'stime': 1601392118664, 'state': 'ONLINE'}, {'fmri': 'svc:/application/desktop-cache/desktop-mime-cache:default', 'objectName': 'api/com.oracle.solaris.rad.smf/1.0/Instance/application%2Fdesktop-cache%2Fdesktop-mime-cache,default', 'stime': 1601392633844, 'state': 'ONLINE'}, {'fmri': 'svc:/application/desktop-cache/docbook-dtds-update:default', 'objectName': 'api/com.oracle.solaris.rad.smf/1.0/Instance/application%2Fdesktop-cache%2Fdocbook-dtds-update,default', 'stime': 1601392118963, 'state': 'ONLINE'}, {'fmri': 'svc:/application/desktop-cache/docbook-style-dsssl-update:default', 'objectName': 'api/com.oracle.solaris.rad.smf/1.0/Instance/application%2Fdesktop-cache%2Fdocbook-style-dsssl-update,default', 'stime': 1601392621985, 'state': 'ONLINE'}, {'fmri': 'svc:/application/desktop-cache/docbook-style-xsl-update:default', 'objectName': 'api/com.oracle.solaris.rad.smf/1.0/Instance/application%2Fdesktop-cache%2Fdocbook-style-xsl-update,default', 'stime': 1601392509136, 'state': 'ONLINE'}, {'fmri': 'svc:/application/desktop-cache/gconf-cache:default', 'objectName': 'api/com.oracle.solaris.rad.smf/1.0/Instance/application%2Fdesktop-cache%2Fgconf-cache,default', 'stime': 1601392445862, 'state': 'ONLINE'}, {'fmri': 'svc:/application/desktop-cache/gio-module-cache:default', 'objectName': 'api/com.oracle.solaris.rad.smf/1.0/Instance/application%2Fdesktop-cache%2Fgio-module-cache,default', 'stime': 1601392650212, 'state': 'ONLINE'}, {'fmri': 'svc:/application/desktop-cache/glib-compile-schemas:default', 'objectName': 'api/com.oracle.solaris.rad.smf/1.0/Instance/application%2Fdesktop-cache%2Fglib-compile-schemas,default', 'stime': 1601392682240, 'state': 'ONLINE'}, {'fmri': 'svc:/application/desktop-cache/gtk3-input-method-cache:default', 'objectName': 'api/com.oracle.solaris.rad.smf/1.0/Instance/application%2Fdesktop-cache%2Fgtk3-input-method-cache,default', 'stime': 1601392799749, 'state': 'ONLINE'}, {'fmri': 'svc:/application/desktop-cache/icon-cache:default', 'objectName': 'api/com.oracle.solaris.rad.smf/1.0/Instance/application%2Fdesktop-cache%2Ficon-cache,default', 'stime': 1601392369021, 'state': 'ONLINE'}, {'fmri': 'svc:/application/desktop-cache/input-method-cache:default', 'objectName': 'api/com.oracle.solaris.rad.smf/1.0/Instance/application%2Fdesktop-cache%2Finput-method-cache,default', 'stime': 1601392814301, 'state': 'ONLINE'}, {'fmri': 'svc:/application/desktop-cache/mime-types-cache:default', 'objectName': 'api/com.oracle.solaris.rad.smf/1.0/Instance/application%2Fdesktop-cache%2Fmime-types-cache,default', 'stime': 1601392649395, 'state': 'ONLINE'}, {'fmri': 'svc:/application/desktop-cache/pixbuf-loaders-installer:default', 'objectName': 'api/com.oracle.solaris.rad.smf/1.0/Instance/application%2Fdesktop-cache%2Fpixbuf-loaders-installer,default', 'stime': 1601392474768, 'state': 'ONLINE'}, {'fmri': 'svc:/application/font/fc-cache:default', 'objectName': 'api/com.oracle.solaris.rad.smf/1.0/Instance/application%2Ffont%2Ffc-cache,default', 'stime': 1601392497763, 'state': 'ONLINE'}, {'fmri': 'svc:/application/graphical-login/gdm:default', 'objectName': 'api/com.oracle.solaris.rad.smf/1.0/Instance/application%2Fgraphical-login%2Fgdm,default', 'stime': 1601392628360, 'state': 'ONLINE'}, {'fmri': 'svc:/application/man-index:default', 'objectName': 'api/com.oracle.solaris.rad.smf/1.0/Instance/application%2Fman-index,default', 'stime': 1601392114729, 'state': 'ONLINE'}, {'fmri': 'svc:/application/management/net-snmp:default', 'objectName': 'api/com.oracle.solaris.rad.smf/1.0/Instance/application%2Fmanagement%2Fnet-snmp,default', 'stime': 1601392511760, 'state': 'DISABLED'}, {'fmri': 'svc:/application/odoc-import:default', 'objectName': 'api/com.oracle.solaris.rad.smf/1.0/Instance/application%2Fodoc-import,default', 'stime': 1601392595090, 'state': 'ONLINE'}, {'fmri': 'svc:/application/opengl/ogl-select:default', 'objectName': 'api/com.oracle.solaris.rad.smf/1.0/Instance/application%2Fopengl%2Fogl-select,default', 'stime': 1601392538043, 'state': 'ONLINE'}, {'fmri': 'svc:/application/pkg/depot:default', 'objectName': 'api/com.oracle.solaris.rad.smf/1.0/Instance/application%2Fpkg%2Fdepot,default', 'stime': 1601392548363, 'state': 'DISABLED'}, {'fmri': 'svc:/application/pkg/dynamic-mirror:default', 'objectName': 'api/com.oracle.solaris.rad.smf/1.0/Instance/application%2Fpkg%2Fdynamic-mirror,default', 'stime': 1601392573025, 'state': 'DISABLED'}, {'fmri': 'svc:/application/pkg/mirror:default', 'objectName': 'api/com.oracle.solaris.rad.smf/1.0/Instance/application%2Fpkg%2Fmirror,default', 'stime': 1601392588179, 'state': 'DISABLED'}, {'fmri': 'svc:/application/pkg/repositories-setup:default', 'objectName': 'api/com.oracle.solaris.rad.smf/1.0/Instance/application%2Fpkg%2Frepositories-setup,default', 'stime': 1601393019854, 'state': 'ONLINE'}, {'fmri': 'svc:/application/pkg/server:default', 'objectName': 'api/com.oracle.solaris.rad.smf/1.0/Instance/application%2Fpkg%2Fserver,default', 'stime': 1601392394281, 'state': 'ONLINE'}, {'fmri': 'svc:/application/pkg/sysrepo-cache-compact:default', 'objectName': 'api/com.oracle.solaris.rad.smf/1.0/Instance/application%2Fpkg%2Fsysrepo-cache-compact,default', 'stime': 1601392786772, 'state': 'DISABLED'}, {'fmri': 'svc:/application/pkg/system-repository:default', 'objectName': 'api/com.oracle.solaris.rad.smf/1.0/Instance/application%2Fpkg%2Fsystem-repository,default', 'stime': 1601392615254, 'state': 'DISABLED'}, {'fmri': 'svc:/application/pkg/zones-proxyd:default', 'objectName': 'api/com.oracle.solaris.rad.smf/1.0/Instance/application%2Fpkg%2Fzones-proxyd,default', 'stime': 1601392623530, 'state': 'DISABLED'}, {'fmri': 'svc:/application/security/compliance:default', 'objectName': 'api/com.oracle.solaris.rad.smf/1.0/Instance/application%2Fsecurity%2Fcompliance,default', 'stime': 1601392788457, 'state': 'DISABLED'}, {'fmri': 'svc:/application/security/compliance:generate-guide', 'objectName': 'api/com.oracle.solaris.rad.smf/1.0/Instance/application%2Fsecurity%2Fcompliance,generate-guide', 'stime': 1601392329733, 'state': 'ONLINE'}, {'fmri': 'svc:/application/security/tcsd:default', 'objectName': 'api/com.oracle.solaris.rad.smf/1.0/Instance/application%2Fsecurity%2Ftcsd,default', 'stime': 1601392641913, 'state': 'DISABLED'}, {'fmri': 'svc:/application/security/tpmfod:default', 'objectName': 'api/com.oracle.solaris.rad.smf/1.0/Instance/application%2Fsecurity%2Ftpmfod,default', 'stime': 1601392648817, 'state': 'DISABLED'}, {'fmri': 'svc:/application/stats/oracle-database-stats:default', 'objectName': 'api/com.oracle.solaris.rad.smf/1.0/Instance/application%2Fstats%2Foracle-database-stats,default', 'stime': 1601394092364, 'state': 'DISABLED'}, {'fmri': 'svc:/application/stats/oracle-database-stats:orcl', 'objectName': 'api/com.oracle.solaris.rad.smf/1.0/Instance/application%2Fstats%2Foracle-database-stats,orcl', 'stime': 1601392772688, 'state': 'DISABLED'}, {'fmri': 'svc:/application/texinfo-update:default', 'objectName': 'api/com.oracle.solaris.rad.smf/1.0/Instance/application%2Ftexinfo-update,default', 'stime': 1601392105632, 'state': 'ONLINE'}, {'fmri': 'svc:/application/time-slider:default', 'objectName': 'api/com.oracle.solaris.rad.smf/1.0/Instance/application%2Ftime-slider,default', 'stime': 1601392892961, 'state': 'DISABLED'}, {'fmri': 'svc:/application/time-slider/plugin:rsync', 'objectName': 'api/com.oracle.solaris.rad.smf/1.0/Instance/application%2Ftime-slider%2Fplugin,rsync', 'stime': 1601392942236, 'state': 'DISABLED'}, {'fmri': 'svc:/application/time-slider/plugin:zfs-send', 'objectName': 'api/com.oracle.solaris.rad.smf/1.0/Instance/application%2Ftime-slider%2Fplugin,zfs-send', 'stime': 1601392967919, 'state': 'DISABLED'}, {'fmri': 'svc:/application/x11/xvnc-inetd:default', 'objectName': 'api/com.oracle.solaris.rad.smf/1.0/Instance/application%2Fx11%2Fxvnc-inetd,default', 'stime': 1601392768931, 'state': 'DISABLED'}, {'fmri': 'svc:/ldoms/agents:default', 'objectName': 'api/com.oracle.solaris.rad.smf/1.0/Instance/ldoms%2Fagents,default', 'stime': 1601392667022, 'state': 'ONLINE'}, {'fmri': 'svc:/ldoms/ldmd:default', 'objectName': 'api/com.oracle.solaris.rad.smf/1.0/Instance/ldoms%2Fldmd,default', 'stime': 1601392326666, 'state': 'DISABLED'}, {'fmri': 'svc:/ldoms/ldmd_dir:default', 'objectName': 'api/com.oracle.solaris.rad.smf/1.0/Instance/ldoms%2Fldmd_dir,default', 'stime': 1601393010156, 'state': 'ONLINE'}, {'fmri': 'svc:/ldoms/vntsd:default', 'objectName': 'api/com.oracle.solaris.rad.smf/1.0/Instance/ldoms%2Fvntsd,default', 'stime': 1601392201027, 'state': 'DISABLED'}, {'fmri': 'svc:/milestone/config:default', 'objectName': 'api/com.oracle.solaris.rad.smf/1.0/Instance/milestone%2Fconfig,default', 'stime': 1601392278086, 'state': 'ONLINE'}, {'fmri': 'svc:/milestone/devices:default', 'objectName': 'api/com.oracle.solaris.rad.smf/1.0/Instance/milestone%2Fdevices,default', 'stime': 1601392920028, 'state': 'ONLINE'}, {'fmri': 'svc:/milestone/goals:default', 'objectName': 'api/com.oracle.solaris.rad.smf/1.0/Instance/milestone%2Fgoals,default', 'stime': 1601392124291, 'state': 'ONLINE'}, {'fmri': 'svc:/milestone/immutable-setup:default', 'objectName': 'api/com.oracle.solaris.rad.smf/1.0/Instance/milestone%2Fimmutable-setup,default', 'stime': 1601392662238, 'state': 'ONLINE'}, {'fmri': 'svc:/milestone/multi-user:default', 'objectName': 'api/com.oracle.solaris.rad.smf/1.0/Instance/milestone%2Fmulti-user,default', 'stime': 1601392891240, 'state': 'ONLINE'}, {'fmri': 'svc:/milestone/multi-user-server:default', 'objectName': 'api/com.oracle.solaris.rad.smf/1.0/Instance/milestone%2Fmulti-user-server,default', 'stime': 1601392989739, 'state': 'ONLINE'}, {'fmri': 'svc:/milestone/name-services:default', 'objectName': 'api/com.oracle.solaris.rad.smf/1.0/Instance/milestone%2Fname-services,default', 'stime': 1601392531217, 'state': 'ONLINE'}, {'fmri': 'svc:/milestone/network:default', 'objectName': 'api/com.oracle.solaris.rad.smf/1.0/Instance/milestone%2Fnetwork,default', 'stime': 1601393016997, 'state': 'ONLINE'}, {'fmri': 'svc:/milestone/self-assembly-complete:default', 'objectName': 'api/com.oracle.solaris.rad.smf/1.0/Instance/milestone%2Fself-assembly-complete,default', 'stime': 1601392509958, 'state': 'ONLINE'}, {'fmri': 'svc:/milestone/single-user:default', 'objectName': 'api/com.oracle.solaris.rad.smf/1.0/Instance/milestone%2Fsingle-user,default', 'stime': 1601392188365, 'state': 'ONLINE'}, {'fmri': 'svc:/milestone/unconfig:default', 'objectName': 'api/com.oracle.solaris.rad.smf/1.0/Instance/milestone%2Funconfig,default', 'stime': 1601392870654, 'state': 'ONLINE'}, {'fmri': 'svc:/network/chargen:dgram', 'objectName': 'api/com.oracle.solaris.rad.smf/1.0/Instance/network%2Fchargen,dgram', 'stime': 1601392782096, 'state': 'DISABLED'}, {'fmri': 'svc:/network/chargen:stream', 'objectName': 'api/com.oracle.solaris.rad.smf/1.0/Instance/network%2Fchargen,stream', 'stime': 1601392793825, 'state': 'DISABLED'}, {'fmri': 'svc:/network/connectx/unified-driver-post-upgrade:default', 'objectName': 'api/com.oracle.solaris.rad.smf/1.0/Instance/network%2Fconnectx%2Funified-driver-post-upgrade,default', 'stime': 1601392680572, 'state': 'ONLINE'}, {'fmri': 'svc:/network/datalink-management:default', 'objectName': 'api/com.oracle.solaris.rad.smf/1.0/Instance/network%2Fdatalink-management,default', 'stime': 1601392337498, 'state': 'ONLINE'}, {'fmri': 'svc:/network/daytime:dgram', 'objectName': 'api/com.oracle.solaris.rad.smf/1.0/Instance/network%2Fdaytime,dgram', 'stime': 1601392807280, 'state': 'DISABLED'}, {'fmri': 'svc:/network/daytime:stream', 'objectName': 'api/com.oracle.solaris.rad.smf/1.0/Instance/network%2Fdaytime,stream', 'stime': 1601392818374, 'state': 'DISABLED'}, {'fmri': 'svc:/network/dhcp/client:default', 'objectName': 'api/com.oracle.solaris.rad.smf/1.0/Instance/network%2Fdhcp%2Fclient,default', 'stime': 1601392957980, 'state': 'ONLINE'}, {'fmri': 'svc:/network/dhcp/relay:ipv4', 'objectName': 'api/com.oracle.solaris.rad.smf/1.0/Instance/network%2Fdhcp%2Frelay,ipv4', 'stime': 1601392346045, 'state': 'DISABLED'}, {'fmri': 'svc:/network/dhcp/relay:ipv6', 'objectName': 'api/com.oracle.solaris.rad.smf/1.0/Instance/network%2Fdhcp%2Frelay,ipv6', 'stime': 1601392353321, 'state': 'DISABLED'}, {'fmri': 'svc:/network/dhcp/server:ipv4', 'objectName': 'api/com.oracle.solaris.rad.smf/1.0/Instance/network%2Fdhcp%2Fserver,ipv4', 'stime': 1601392361568, 'state': 'DISABLED'}, {'fmri': 'svc:/network/dhcp/server:ipv6', 'objectName': 'api/com.oracle.solaris.rad.smf/1.0/Instance/network%2Fdhcp%2Fserver,ipv6', 'stime': 1601392368209, 'state': 'DISABLED'}, {'fmri': 'svc:/network/diagnostics:default', 'objectName': 'api/com.oracle.solaris.rad.smf/1.0/Instance/network%2Fdiagnostics,default', 'stime': 1601392376498, 'state': 'DISABLED'}, {'fmri': 'svc:/network/discard:dgram', 'objectName': 'api/com.oracle.solaris.rad.smf/1.0/Instance/network%2Fdiscard,dgram', 'stime': 1601392827557, 'state': 'DISABLED'}, {'fmri': 'svc:/network/discard:stream', 'objectName': 'api/com.oracle.solaris.rad.smf/1.0/Instance/network%2Fdiscard,stream', 'stime': 1601392839639, 'state': 'DISABLED'}, {'fmri': 'svc:/network/dlmp:default', 'objectName': 'api/com.oracle.solaris.rad.smf/1.0/Instance/network%2Fdlmp,default', 'stime': 1601392391761, 'state': 'DISABLED'}, {'fmri': 'svc:/network/dns/client:default', 'objectName': 'api/com.oracle.solaris.rad.smf/1.0/Instance/network%2Fdns%2Fclient,default', 'stime': 1601392268105, 'state': 'ONLINE'}, {'fmri': 'svc:/network/dns/multicast:default', 'objectName': 'api/com.oracle.solaris.rad.smf/1.0/Instance/network%2Fdns%2Fmulticast,default', 'stime': 1601392571302, 'state': 'DISABLED'}, {'fmri': 'svc:/network/dns/server:default', 'objectName': 'api/com.oracle.solaris.rad.smf/1.0/Instance/network%2Fdns%2Fserver,default', 'stime': 1601392400773, 'state': 'DISABLED'}, {'fmri': 'svc:/network/echo:dgram', 'objectName': 'api/com.oracle.solaris.rad.smf/1.0/Instance/network%2Fecho,dgram', 'stime': 1601392850699, 'state': 'DISABLED'}, {'fmri': 'svc:/network/echo:stream', 'objectName': 'api/com.oracle.solaris.rad.smf/1.0/Instance/network%2Fecho,stream', 'stime': 1601392859211, 'state': 'DISABLED'}, {'fmri': 'svc:/network/eoib/eoib-post-upgrade:default', 'objectName': 'api/com.oracle.solaris.rad.smf/1.0/Instance/network%2Feoib%2Feoib-post-upgrade,default', 'stime': 1601392954894, 'state': 'ONLINE'}, {'fmri': 'svc:/network/evs-controller:default', 'objectName': 'api/com.oracle.solaris.rad.smf/1.0/Instance/network%2Fevs-controller,default', 'stime': 1601392430118, 'state': 'ONLINE'}, {'fmri': 'svc:/network/finger:default', 'objectName': 'api/com.oracle.solaris.rad.smf/1.0/Instance/network%2Ffinger,default', 'stime': 1601392871592, 'state': 'DISABLED'}, {'fmri': 'svc:/network/firewall:default', 'objectName': 'api/com.oracle.solaris.rad.smf/1.0/Instance/network%2Ffirewall,default', 'stime': 1601392381313, 'state': 'DISABLED'}, {'fmri': 'svc:/network/firewall/ftp-proxy:default', 'objectName': 'api/com.oracle.solaris.rad.smf/1.0/Instance/network%2Ffirewall%2Fftp-proxy,default', 'stime': 1601392429993, 'state': 'DISABLED'}, {'fmri': 'svc:/network/firewall/pflog:default', 'objectName': 'api/com.oracle.solaris.rad.smf/1.0/Instance/network%2Ffirewall%2Fpflog,default', 'stime': 1601392437956, 'state': 'DISABLED'}, {'fmri': 'svc:/network/ftp:default', 'objectName': 'api/com.oracle.solaris.rad.smf/1.0/Instance/network%2Fftp,default', 'stime': 1601392451198, 'state': 'DISABLED'}, {'fmri': 'svc:/network/http:apache24', 'objectName': 'api/com.oracle.solaris.rad.smf/1.0/Instance/network%2Fhttp,apache24', 'stime': 1601392462677, 'state': 'DISABLED'}, {'fmri': 'svc:/network/ib/ib-management:default', 'objectName': 'api/com.oracle.solaris.rad.smf/1.0/Instance/network%2Fib%2Fib-management,default', 'stime': 1601392880491, 'state': 'ONLINE'}, {'fmri': 'svc:/network/ilomconfig-interconnect:default', 'objectName': 'api/com.oracle.solaris.rad.smf/1.0/Instance/network%2Filomconfig-interconnect,default', 'stime': 1601392405660, 'state': 'ONLINE'}, {'fmri': 'svc:/network/inetd:default', 'objectName': 'api/com.oracle.solaris.rad.smf/1.0/Instance/network%2Finetd,default', 'stime': 1601400215539, 'state': 'ONLINE'}, {'fmri': 'svc:/network/initial:default', 'objectName': 'api/com.oracle.solaris.rad.smf/1.0/Instance/network%2Finitial,default', 'stime': 1601392092955, 'state': 'ONLINE'}, {'fmri': 'svc:/network/install:default', 'objectName': 'api/com.oracle.solaris.rad.smf/1.0/Instance/network%2Finstall,default', 'stime': 1601392465661, 'state': 'ONLINE'}, {'fmri': 'svc:/network/ip-interface-management:default', 'objectName': 'api/com.oracle.solaris.rad.smf/1.0/Instance/network%2Fip-interface-management,default', 'stime': 1601392996503, 'state': 'ONLINE'}, {'fmri': 'svc:/network/ipmievd:default', 'objectName': 'api/com.oracle.solaris.rad.smf/1.0/Instance/network%2Fipmievd,default', 'stime': 1601392470993, 'state': 'DISABLED'}, {'fmri': 'svc:/network/ipmp:default', 'objectName': 'api/com.oracle.solaris.rad.smf/1.0/Instance/network%2Fipmp,default', 'stime': 1601392315231, 'state': 'ONLINE'}, {'fmri': 'svc:/network/ipsec/ike:default', 'objectName': 'api/com.oracle.solaris.rad.smf/1.0/Instance/network%2Fipsec%2Fike,default', 'stime': 1601392288785, 'state': 'DISABLED'}, {'fmri': 'svc:/network/ipsec/ike:ikev2', 'objectName': 'api/com.oracle.solaris.rad.smf/1.0/Instance/network%2Fipsec%2Fike,ikev2', 'stime': 1601392295786, 'state': 'DISABLED'}, {'fmri': 'svc:/network/ipsec/ipsecalgs:default', 'objectName': 'api/com.oracle.solaris.rad.smf/1.0/Instance/network%2Fipsec%2Fipsecalgs,default', 'stime': 1601392140673, 'state': 'ONLINE'}, {'fmri': 'svc:/network/ipsec/manual-key:default', 'objectName': 'api/com.oracle.solaris.rad.smf/1.0/Instance/network%2Fipsec%2Fmanual-key,default', 'stime': 1601392374292, 'state': 'DISABLED'}, {'fmri': 'svc:/network/ipsec/policy:default', 'objectName': 'api/com.oracle.solaris.rad.smf/1.0/Instance/network%2Fipsec%2Fpolicy,default', 'stime': 1601392260732, 'state': 'ONLINE'}, {'fmri': 'svc:/network/ipsec/policy:logger', 'objectName': 'api/com.oracle.solaris.rad.smf/1.0/Instance/network%2Fipsec%2Fpolicy,logger', 'stime': 1601392478956, 'state': 'DISABLED'}, {'fmri': 'svc:/network/iptun:default', 'objectName': 'api/com.oracle.solaris.rad.smf/1.0/Instance/network%2Fiptun,default', 'stime': 1601393004055, 'state': 'ONLINE'}, {'fmri': 'svc:/network/iscsi/initiator:default', 'objectName': 'api/com.oracle.solaris.rad.smf/1.0/Instance/network%2Fiscsi%2Finitiator,default', 'stime': 1601392572703, 'state': 'ONLINE'}, {'fmri': 'svc:/network/kz-migr:stream', 'objectName': 'api/com.oracle.solaris.rad.smf/1.0/Instance/network%2Fkz-migr,stream', 'stime': 1601392881201, 'state': 'DISABLED'}, {'fmri': 'svc:/network/ldap/client:default', 'objectName': 'api/com.oracle.solaris.rad.smf/1.0/Instance/network%2Fldap%2Fclient,default', 'stime': 1601392503789, 'state': 'ONLINE'}, {'fmri': 'svc:/network/loadbalancer/ilb:default', 'objectName': 'api/com.oracle.solaris.rad.smf/1.0/Instance/network%2Floadbalancer%2Filb,default', 'stime': 1601392490209, 'state': 'DISABLED'}, {'fmri': 'svc:/network/login:rlogin', 'objectName': 'api/com.oracle.solaris.rad.smf/1.0/Instance/network%2Flogin,rlogin', 'stime': 1601392890398, 'state': 'DISABLED'}, {'fmri': 'svc:/network/loopback:default', 'objectName': 'api/com.oracle.solaris.rad.smf/1.0/Instance/network%2Floopback,default', 'stime': 1601392234175, 'state': 'ONLINE'}, {'fmri': 'svc:/network/nfs/cbd:default', 'objectName': 'api/com.oracle.solaris.rad.smf/1.0/Instance/network%2Fnfs%2Fcbd,default', 'stime': 1601400039627, 'state': 'ONLINE'}, {'fmri': 'svc:/network/nfs/cleanup:default', 'objectName': 'api/com.oracle.solaris.rad.smf/1.0/Instance/network%2Fnfs%2Fcleanup,default', 'stime': 1601392046245, 'state': 'ONLINE'}, {'fmri': 'svc:/network/nfs/cleanup-upgrade:default', 'objectName': 'api/com.oracle.solaris.rad.smf/1.0/Instance/network%2Fnfs%2Fcleanup-upgrade,default', 'stime': 1601392958485, 'state': 'ONLINE'}, {'fmri': 'svc:/network/nfs/client:default', 'objectName': 'api/com.oracle.solaris.rad.smf/1.0/Instance/network%2Fnfs%2Fclient,default', 'stime': 1601393019222, 'state': 'DISABLED'}, {'fmri': 'svc:/network/nfs/fedfs-client:default', 'objectName': 'api/com.oracle.solaris.rad.smf/1.0/Instance/network%2Fnfs%2Ffedfs-client,default', 'stime': 1601392123853, 'state': 'ONLINE'}, {'fmri': 'svc:/network/nfs/mapid:default', 'objectName': 'api/com.oracle.solaris.rad.smf/1.0/Instance/network%2Fnfs%2Fmapid,default', 'stime': 1601400083041, 'state': 'ONLINE'}, {'fmri': 'svc:/network/nfs/nlockmgr:default', 'objectName': 'api/com.oracle.solaris.rad.smf/1.0/Instance/network%2Fnfs%2Fnlockmgr,default', 'stime': 1601400001536, 'state': 'ONLINE'}, {'fmri': 'svc:/network/nfs/rquota:default', 'objectName': 'api/com.oracle.solaris.rad.smf/1.0/Instance/network%2Fnfs%2Frquota,default', 'stime': 1601392900067, 'state': 'DISABLED'}, {'fmri': 'svc:/network/nfs/server:default', 'objectName': 'api/com.oracle.solaris.rad.smf/1.0/Instance/network%2Fnfs%2Fserver,default', 'stime': 1601392682281, 'state': 'DISABLED'}, {'fmri': 'svc:/network/nfs/status:default', 'objectName': 'api/com.oracle.solaris.rad.smf/1.0/Instance/network%2Fnfs%2Fstatus,default', 'stime': 1601399943083, 'state': 'ONLINE'}, {'fmri': 'svc:/network/nis/client:default', 'objectName': 'api/com.oracle.solaris.rad.smf/1.0/Instance/network%2Fnis%2Fclient,default', 'stime': 1601392483099, 'state': 'DISABLED'}, {'fmri': 'svc:/network/nis/domain:default', 'objectName': 'api/com.oracle.solaris.rad.smf/1.0/Instance/network%2Fnis%2Fdomain,default', 'stime': 1601392484488, 'state': 'ONLINE'}, {'fmri': 'svc:/network/npiv_config:default', 'objectName': 'api/com.oracle.solaris.rad.smf/1.0/Instance/network%2Fnpiv_config,default', 'stime': 1601392890030, 'state': 'ONLINE'}, {'fmri': 'svc:/network/ntp:default', 'objectName': 'api/com.oracle.solaris.rad.smf/1.0/Instance/network%2Fntp,default', 'stime': 1601392805223, 'state': 'ONLINE'}, {'fmri': 'svc:/network/physical:default', 'objectName': 'api/com.oracle.solaris.rad.smf/1.0/Instance/network%2Fphysical,default', 'stime': 1601392925153, 'state': 'ONLINE'}, {'fmri': 'svc:/network/physical:upgrade', 'objectName': 'api/com.oracle.solaris.rad.smf/1.0/Instance/network%2Fphysical,upgrade', 'stime': 1601392252837, 'state': 'ONLINE'}, {'fmri': 'svc:/network/rexec:default', 'objectName': 'api/com.oracle.solaris.rad.smf/1.0/Instance/network%2Frexec,default', 'stime': 1601392914341, 'state': 'DISABLED'}, {'fmri': 'svc:/network/routing-setup:default', 'objectName': 'api/com.oracle.solaris.rad.smf/1.0/Instance/network%2Frouting-setup,default', 'stime': 1601392064938, 'state': 'ONLINE'}, {'fmri': 'svc:/network/routing/legacy-routing:ipv4', 'objectName': 'api/com.oracle.solaris.rad.smf/1.0/Instance/network%2Frouting%2Flegacy-routing,ipv4', 'stime': 1601392529195, 'state': 'DISABLED'}, {'fmri': 'svc:/network/routing/legacy-routing:ipv6', 'objectName': 'api/com.oracle.solaris.rad.smf/1.0/Instance/network%2Frouting%2Flegacy-routing,ipv6', 'stime': 1601392538009, 'state': 'DISABLED'}, {'fmri': 'svc:/network/routing/ndp:default', 'objectName': 'api/com.oracle.solaris.rad.smf/1.0/Instance/network%2Frouting%2Fndp,default', 'stime': 1601392326981, 'state': 'ONLINE'}, {'fmri': 'svc:/network/routing/ripng:default', 'objectName': 'api/com.oracle.solaris.rad.smf/1.0/Instance/network%2Frouting%2Fripng,default', 'stime': 1601392545898, 'state': 'DISABLED'}, {'fmri': 'svc:/network/routing/route:default', 'objectName': 'api/com.oracle.solaris.rad.smf/1.0/Instance/network%2Frouting%2Froute,default', 'stime': 1601392552170, 'state': 'DISABLED'}, {'fmri': 'svc:/network/rpc/bind:default', 'objectName': 'api/com.oracle.solaris.rad.smf/1.0/Instance/network%2Frpc%2Fbind,default', 'stime': 1601392367035, 'state': 'ONLINE'}, {'fmri': 'svc:/network/rpc/gss:default', 'objectName': 'api/com.oracle.solaris.rad.smf/1.0/Instance/network%2Frpc%2Fgss,default', 'stime': 1601392520843, 'state': 'ONLINE'}, {'fmri': 'svc:/network/rpc/rstat:default', 'objectName': 'api/com.oracle.solaris.rad.smf/1.0/Instance/network%2Frpc%2Frstat,default', 'stime': 1601392710371, 'state': 'DISABLED'}, {'fmri': 'svc:/network/rpc/rusers:default', 'objectName': 'api/com.oracle.solaris.rad.smf/1.0/Instance/network%2Frpc%2Frusers,default', 'stime': 1601392928806, 'state': 'DISABLED'}, {'fmri': 'svc:/network/rpc/smserver:default', 'objectName': 'api/com.oracle.solaris.rad.smf/1.0/Instance/network%2Frpc%2Fsmserver,default', 'stime': 1601400241586, 'state': 'ONLINE'}, {'fmri': 'svc:/network/rpc/spray:default', 'objectName': 'api/com.oracle.solaris.rad.smf/1.0/Instance/network%2Frpc%2Fspray,default', 'stime': 1601392941323, 'state': 'DISABLED'}, {'fmri': 'svc:/network/rpc/wall:default', 'objectName': 'api/com.oracle.solaris.rad.smf/1.0/Instance/network%2Frpc%2Fwall,default', 'stime': 1601392950270, 'state': 'DISABLED'}, {'fmri': 'svc:/network/sctp/congestion-control:cubic', 'objectName': 'api/com.oracle.solaris.rad.smf/1.0/Instance/network%2Fsctp%2Fcongestion-control,cubic', 'stime': 1601392732507, 'state': 'ONLINE'}, {'fmri': 'svc:/network/sctp/congestion-control:highspeed', 'objectName': 'api/com.oracle.solaris.rad.smf/1.0/Instance/network%2Fsctp%2Fcongestion-control,highspeed', 'stime': 1601392723159, 'state': 'ONLINE'}, {'fmri': 'svc:/network/sctp/congestion-control:newreno', 'objectName': 'api/com.oracle.solaris.rad.smf/1.0/Instance/network%2Fsctp%2Fcongestion-control,newreno', 'stime': 1601392721330, 'state': 'ONLINE'}, {'fmri': 'svc:/network/sctp/congestion-control:vegas', 'objectName': 'api/com.oracle.solaris.rad.smf/1.0/Instance/network%2Fsctp%2Fcongestion-control,vegas', 'stime': 1601392714236, 'state': 'ONLINE'}, {'fmri': 'svc:/network/security/kadmin:default', 'objectName': 'api/com.oracle.solaris.rad.smf/1.0/Instance/network%2Fsecurity%2Fkadmin,default', 'stime': 1601392574759, 'state': 'DISABLED'}, {'fmri': 'svc:/network/security/krb5_prop:default', 'objectName': 'api/com.oracle.solaris.rad.smf/1.0/Instance/network%2Fsecurity%2Fkrb5_prop,default', 'stime': 1601392581283, 'state': 'DISABLED'}, {'fmri': 'svc:/network/security/krb5kdc:default', 'objectName': 'api/com.oracle.solaris.rad.smf/1.0/Instance/network%2Fsecurity%2Fkrb5kdc,default', 'stime': 1601392587116, 'state': 'DISABLED'}, {'fmri': 'svc:/network/security/ktkt_warn:default', 'objectName': 'api/com.oracle.solaris.rad.smf/1.0/Instance/network%2Fsecurity%2Fktkt_warn,default', 'stime': 1601392959941, 'state': 'DISABLED'}, {'fmri': 'svc:/network/sendmail-client:default', 'objectName': 'api/com.oracle.solaris.rad.smf/1.0/Instance/network%2Fsendmail-client,default', 'stime': 1601392706001, 'state': 'ONLINE'}, {'fmri': 'svc:/network/service:default', 'objectName': 'api/com.oracle.solaris.rad.smf/1.0/Instance/network%2Fservice,default', 'stime': 1601392508160, 'state': 'ONLINE'}, {'fmri': 'svc:/network/shares:default', 'objectName': 'api/com.oracle.solaris.rad.smf/1.0/Instance/network%2Fshares,default', 'stime': 1601392936290, 'state': 'ONLINE'}, {'fmri': 'svc:/network/shell:default', 'objectName': 'api/com.oracle.solaris.rad.smf/1.0/Instance/network%2Fshell,default', 'stime': 1601392971096, 'state': 'DISABLED'}, {'fmri': 'svc:/network/smb:default', 'objectName': 'api/com.oracle.solaris.rad.smf/1.0/Instance/network%2Fsmb,default', 'stime': 1601392965800, 'state': 'ONLINE'}, {'fmri': 'svc:/network/smb/client:default', 'objectName': 'api/com.oracle.solaris.rad.smf/1.0/Instance/network%2Fsmb%2Fclient,default', 'stime': 1601392401030, 'state': 'DISABLED'}, {'fmri': 'svc:/network/smb/client2:default', 'objectName': 'api/com.oracle.solaris.rad.smf/1.0/Instance/network%2Fsmb%2Fclient2,default', 'stime': 1601392635569, 'state': 'ONLINE'}, {'fmri': 'svc:/network/smb/server:default', 'objectName': 'api/com.oracle.solaris.rad.smf/1.0/Instance/network%2Fsmb%2Fserver,default', 'stime': 1601392628520, 'state': 'DISABLED'}, {'fmri': 'svc:/network/smtp:sendmail', 'objectName': 'api/com.oracle.solaris.rad.smf/1.0/Instance/network%2Fsmtp,sendmail', 'stime': 1601392754835, 'state': 'ONLINE'}, {'fmri': 'svc:/network/socket-config:default', 'objectName': 'api/com.oracle.solaris.rad.smf/1.0/Instance/network%2Fsocket-config,default', 'stime': 1601392725603, 'state': 'ONLINE'}, {'fmri': 'svc:/network/socket-filter:pf_divert', 'objectName': 'api/com.oracle.solaris.rad.smf/1.0/Instance/network%2Fsocket-filter,pf_divert', 'stime': 1601392651362, 'state': 'DISABLED'}, {'fmri': 'svc:/network/ssh:default', 'objectName': 'api/com.oracle.solaris.rad.smf/1.0/Instance/network%2Fssh,default', 'stime': 1601392261649, 'state': 'ONLINE'}, {'fmri': 'svc:/network/talk:default', 'objectName': 'api/com.oracle.solaris.rad.smf/1.0/Instance/network%2Ftalk,default', 'stime': 1601392982249, 'state': 'DISABLED'}, {'fmri': 'svc:/network/tcp/congestion-control:cubic', 'objectName': 'api/com.oracle.solaris.rad.smf/1.0/Instance/network%2Ftcp%2Fcongestion-control,cubic', 'stime': 1601392707522, 'state': 'ONLINE'}, {'fmri': 'svc:/network/tcp/congestion-control:dctcp', 'objectName': 'api/com.oracle.solaris.rad.smf/1.0/Instance/network%2Ftcp%2Fcongestion-control,dctcp', 'stime': 1601392719823, 'state': 'ONLINE'}, {'fmri': 'svc:/network/tcp/congestion-control:highspeed', 'objectName': 'api/com.oracle.solaris.rad.smf/1.0/Instance/network%2Ftcp%2Fcongestion-control,highspeed', 'stime': 1601392698191, 'state': 'ONLINE'}, {'fmri': 'svc:/network/tcp/congestion-control:newreno', 'objectName': 'api/com.oracle.solaris.rad.smf/1.0/Instance/network%2Ftcp%2Fcongestion-control,newreno', 'stime': 1601392715991, 'state': 'ONLINE'}, {'fmri': 'svc:/network/tcp/congestion-control:vegas', 'objectName': 'api/com.oracle.solaris.rad.smf/1.0/Instance/network%2Ftcp%2Fcongestion-control,vegas', 'stime': 1601392709384, 'state': 'ONLINE'}, {'fmri': 'svc:/network/tcp/tcpkey:default', 'objectName': 'api/com.oracle.solaris.rad.smf/1.0/Instance/network%2Ftcp%2Ftcpkey,default', 'stime': 1601392824627, 'state': 'ONLINE'}, {'fmri': 'svc:/network/telnet:default', 'objectName': 'api/com.oracle.solaris.rad.smf/1.0/Instance/network%2Ftelnet,default', 'stime': 1601392990229, 'state': 'DISABLED'}, {'fmri': 'svc:/network/tftp/udp6:default', 'objectName': 'api/com.oracle.solaris.rad.smf/1.0/Instance/network%2Ftftp%2Fudp6,default', 'stime': 1601392998144, 'state': 'DISABLED'}, {'fmri': 'svc:/network/time:dgram', 'objectName': 'api/com.oracle.solaris.rad.smf/1.0/Instance/network%2Ftime,dgram', 'stime': 1601393006059, 'state': 'DISABLED'}, {'fmri': 'svc:/network/time:stream', 'objectName': 'api/com.oracle.solaris.rad.smf/1.0/Instance/network%2Ftime,stream', 'stime': 1601393014085, 'state': 'DISABLED'}, {'fmri': 'svc:/platform/efdaemon:default', 'objectName': 'api/com.oracle.solaris.rad.smf/1.0/Instance/platform%2Fefdaemon,default', 'stime': 1601392220473, 'state': 'ONLINE'}, {'fmri': 'svc:/platform/sun4v/drd:default', 'objectName': 'api/com.oracle.solaris.rad.smf/1.0/Instance/platform%2Fsun4v%2Fdrd,default', 'stime': 1601392686298, 'state': 'ONLINE'}, {'fmri': 'svc:/system/account-policy:default', 'objectName': 'api/com.oracle.solaris.rad.smf/1.0/Instance/system%2Faccount-policy,default', 'stime': 1601392628286, 'state': 'ONLINE'}, {'fmri': 'svc:/system/accountsservice:default', 'objectName': 'api/com.oracle.solaris.rad.smf/1.0/Instance/system%2Faccountsservice,default', 'stime': 1601392110579, 'state': 'ONLINE'}, {'fmri': 'svc:/system/apache-stats-24:default', 'objectName': 'api/com.oracle.solaris.rad.smf/1.0/Instance/system%2Fapache-stats-24,default', 'stime': 1601392733091, 'state': 'DISABLED'}, {'fmri': 'svc:/system/auditd:default', 'objectName': 'api/com.oracle.solaris.rad.smf/1.0/Instance/system%2Fauditd,default', 'stime': 1601392803394, 'state': 'ONLINE'}, {'fmri': 'svc:/system/auditset:default', 'objectName': 'api/com.oracle.solaris.rad.smf/1.0/Instance/system%2Fauditset,default', 'stime': 1601392674058, 'state': 'ONLINE'}, {'fmri': 'svc:/system/auto-update:cleanup', 'objectName': 'api/com.oracle.solaris.rad.smf/1.0/Instance/system%2Fauto-update,cleanup', 'stime': 1601392945449, 'state': 'ONLINE'}, {'fmri': 'svc:/system/auto-update:default', 'objectName': 'api/com.oracle.solaris.rad.smf/1.0/Instance/system%2Fauto-update,default', 'stime': 1601392816024, 'state': 'DISABLED'}, {'fmri': 'svc:/system/avahi-bridge-dsd:default', 'objectName': 'api/com.oracle.solaris.rad.smf/1.0/Instance/system%2Favahi-bridge-dsd,default', 'stime': 1601392764048, 'state': 'DISABLED'}, {'fmri': 'svc:/system/boot-archive:default', 'objectName': 'api/com.oracle.solaris.rad.smf/1.0/Instance/system%2Fboot-archive,default', 'stime': 1601392670175, 'state': 'ONLINE'}, {'fmri': 'svc:/system/boot-archive-update:default', 'objectName': 'api/com.oracle.solaris.rad.smf/1.0/Instance/system%2Fboot-archive-update,default', 'stime': 1601392728694, 'state': 'ONLINE'}, {'fmri': 'svc:/system/boot-config:default', 'objectName': 'api/com.oracle.solaris.rad.smf/1.0/Instance/system%2Fboot-config,default', 'stime': 1601392062478, 'state': 'ONLINE'}, {'fmri': 'svc:/system/boot-loader-update:default', 'objectName': 'api/com.oracle.solaris.rad.smf/1.0/Instance/system%2Fboot-loader-update,default', 'stime': 1601392952226, 'state': 'ONLINE'}, {'fmri': 'svc:/system/ca-certificates:default', 'objectName': 'api/com.oracle.solaris.rad.smf/1.0/Instance/system%2Fca-certificates,default', 'stime': 1601393006829, 'state': 'ONLINE'}, {'fmri': 'svc:/system/colord:default', 'objectName': 'api/com.oracle.solaris.rad.smf/1.0/Instance/system%2Fcolord,default', 'stime': 1601392770363, 'state': 'ONLINE'}, {'fmri': 'svc:/system/config-user:default', 'objectName': 'api/com.oracle.solaris.rad.smf/1.0/Instance/system%2Fconfig-user,default', 'stime': 1601392464883, 'state': 'ONLINE'}, {'fmri': 'svc:/system/consadm:default', 'objectName': 'api/com.oracle.solaris.rad.smf/1.0/Instance/system%2Fconsadm,default', 'stime': 1601392808172, 'state': 'DISABLED'}, {'fmri': 'svc:/system/console-login:default', 'objectName': 'api/com.oracle.solaris.rad.smf/1.0/Instance/system%2Fconsole-login,default', 'stime': 1601394030749, 'state': 'ONLINE'}, {'fmri': 'svc:/system/console-login:terma', 'objectName': 'api/com.oracle.solaris.rad.smf/1.0/Instance/system%2Fconsole-login,terma', 'stime': 1601392841103, 'state': 'DISABLED'}, {'fmri': 'svc:/system/console-login:termb', 'objectName': 'api/com.oracle.solaris.rad.smf/1.0/Instance/system%2Fconsole-login,termb', 'stime': 1601392855835, 'state': 'DISABLED'}, {'fmri': 'svc:/system/console-login:vt2', 'objectName': 'api/com.oracle.solaris.rad.smf/1.0/Instance/system%2Fconsole-login,vt2', 'stime': 1601392901434, 'state': 'DISABLED'}, {'fmri': 'svc:/system/console-login:vt3', 'objectName': 'api/com.oracle.solaris.rad.smf/1.0/Instance/system%2Fconsole-login,vt3', 'stime': 1601392909154, 'state': 'DISABLED'}, {'fmri': 'svc:/system/console-login:vt4', 'objectName': 'api/com.oracle.solaris.rad.smf/1.0/Instance/system%2Fconsole-login,vt4', 'stime': 1601392917039, 'state': 'DISABLED'}, {'fmri': 'svc:/system/console-login:vt5', 'objectName': 'api/com.oracle.solaris.rad.smf/1.0/Instance/system%2Fconsole-login,vt5', 'stime': 1601392923499, 'state': 'DISABLED'}, {'fmri': 'svc:/system/console-login:vt6', 'objectName': 'api/com.oracle.solaris.rad.smf/1.0/Instance/system%2Fconsole-login,vt6', 'stime': 1601392931796, 'state': 'DISABLED'}, {'fmri': 'svc:/system/consolekit:default', 'objectName': 'api/com.oracle.solaris.rad.smf/1.0/Instance/system%2Fconsolekit,default', 'stime': 1601393039726, 'state': 'ONLINE'}, {'fmri': 'svc:/system/coreadm:default', 'objectName': 'api/com.oracle.solaris.rad.smf/1.0/Instance/system%2Fcoreadm,default', 'stime': 1601392499718, 'state': 'ONLINE'}, {'fmri': 'svc:/system/coremon:cleanup', 'objectName': 'api/com.oracle.solaris.rad.smf/1.0/Instance/system%2Fcoremon,cleanup', 'stime': 1601392913702, 'state': 'ONLINE'}, {'fmri': 'svc:/system/coremon:default', 'objectName': 'api/com.oracle.solaris.rad.smf/1.0/Instance/system%2Fcoremon,default', 'stime': 1601393021952, 'state': 'ONLINE'}, {'fmri': 'svc:/system/cron:default', 'objectName': 'api/com.oracle.solaris.rad.smf/1.0/Instance/system%2Fcron,default', 'stime': 1601392961915, 'state': 'ONLINE'}, {'fmri': 'svc:/system/cryptosvc:default', 'objectName': 'api/com.oracle.solaris.rad.smf/1.0/Instance/system%2Fcryptosvc,default', 'stime': 1601392445235, 'state': 'ONLINE'}, {'fmri': 'svc:/system/dbus:default', 'objectName': 'api/com.oracle.solaris.rad.smf/1.0/Instance/system%2Fdbus,default', 'stime': 1601392392206, 'state': 'ONLINE'}, {'fmri': 'svc:/system/devchassis:cleanstart', 'objectName': 'api/com.oracle.solaris.rad.smf/1.0/Instance/system%2Fdevchassis,cleanstart', 'stime': 1601392058917, 'state': 'ONLINE'}, {'fmri': 'svc:/system/devchassis:daemon', 'objectName': 'api/com.oracle.solaris.rad.smf/1.0/Instance/system%2Fdevchassis,daemon', 'stime': 1601392794279, 'state': 'ONLINE'}, {'fmri': 'svc:/system/devfsadm:default', 'objectName': 'api/com.oracle.solaris.rad.smf/1.0/Instance/system%2Fdevfsadm,default', 'stime': 1601392804918, 'state': 'ONLINE'}, {'fmri': 'svc:/system/device/allocate:default', 'objectName': 'api/com.oracle.solaris.rad.smf/1.0/Instance/system%2Fdevice%2Fallocate,default', 'stime': 1601392062767, 'state': 'DISABLED'}, {'fmri': 'svc:/system/device/audio:default', 'objectName': 'api/com.oracle.solaris.rad.smf/1.0/Instance/system%2Fdevice%2Faudio,default', 'stime': 1601392966792, 'state': 'ONLINE'}, {'fmri': 'svc:/system/device/fc-fabric:default', 'objectName': 'api/com.oracle.solaris.rad.smf/1.0/Instance/system%2Fdevice%2Ffc-fabric,default', 'stime': 1601392849603, 'state': 'ONLINE'}, {'fmri': 'svc:/system/device/local:default', 'objectName': 'api/com.oracle.solaris.rad.smf/1.0/Instance/system%2Fdevice%2Flocal,default', 'stime': 1601392957043, 'state': 'ONLINE'}, {'fmri': 'svc:/system/device/mpxio-upgrade:default', 'objectName': 'api/com.oracle.solaris.rad.smf/1.0/Instance/system%2Fdevice%2Fmpxio-upgrade,default', 'stime': 1601392083348, 'state': 'DISABLED'}, {'fmri': 'svc:/system/device/policy-upgrade:default', 'objectName': 'api/com.oracle.solaris.rad.smf/1.0/Instance/system%2Fdevice%2Fpolicy-upgrade,default', 'stime': 1601392181949, 'state': 'DISABLED'}, {'fmri': 'svc:/system/dump:config', 'objectName': 'api/com.oracle.solaris.rad.smf/1.0/Instance/system%2Fdump,config', 'stime': 1601392531790, 'state': 'ONLINE'}, {'fmri': 'svc:/system/dump:deferred', 'objectName': 'api/com.oracle.solaris.rad.smf/1.0/Instance/system%2Fdump,deferred', 'stime': 1601392600655, 'state': 'ONLINE'}, {'fmri': 'svc:/system/dump:disk', 'objectName': 'api/com.oracle.solaris.rad.smf/1.0/Instance/system%2Fdump,disk', 'stime': 1601392692872, 'state': 'ONLINE'}, {'fmri': 'svc:/system/dump:swap', 'objectName': 'api/com.oracle.solaris.rad.smf/1.0/Instance/system%2Fdump,swap', 'stime': 1601392671231, 'state': 'ONLINE'}, {'fmri': 'svc:/system/early-manifest-import:default', 'objectName': 'api/com.oracle.solaris.rad.smf/1.0/Instance/system%2Fearly-manifest-import,default', 'stime': 1601393003430, 'state': 'ONLINE'}, {'fmri': 'svc:/system/environment:init', 'objectName': 'api/com.oracle.solaris.rad.smf/1.0/Instance/system%2Fenvironment,init', 'stime': 1601392531048, 'state': 'ONLINE'}, {'fmri': 'svc:/system/extended-accounting:flow', 'objectName': 'api/com.oracle.solaris.rad.smf/1.0/Instance/system%2Fextended-accounting,flow', 'stime': 1601392099549, 'state': 'DISABLED'}, {'fmri': 'svc:/system/extended-accounting:net', 'objectName': 'api/com.oracle.solaris.rad.smf/1.0/Instance/system%2Fextended-accounting,net', 'stime': 1601392107796, 'state': 'DISABLED'}, {'fmri': 'svc:/system/extended-accounting:process', 'objectName': 'api/com.oracle.solaris.rad.smf/1.0/Instance/system%2Fextended-accounting,process', 'stime': 1601392113999, 'state': 'DISABLED'}, {'fmri': 'svc:/system/extended-accounting:task', 'objectName': 'api/com.oracle.solaris.rad.smf/1.0/Instance/system%2Fextended-accounting,task', 'stime': 1601392120561, 'state': 'DISABLED'}, {'fmri': 'svc:/system/fcoe_initiator:default', 'objectName': 'api/com.oracle.solaris.rad.smf/1.0/Instance/system%2Ffcoe_initiator,default', 'stime': 1601392087868, 'state': 'ONLINE'}, {'fmri': 'svc:/system/filesystem/autofs:default', 'objectName': 'api/com.oracle.solaris.rad.smf/1.0/Instance/system%2Ffilesystem%2Fautofs,default', 'stime': 1601392544810, 'state': 'ONLINE'}, {'fmri': 'svc:/system/filesystem/local:default', 'objectName': 'api/com.oracle.solaris.rad.smf/1.0/Instance/system%2Ffilesystem%2Flocal,default', 'stime': 1601392808722, 'state': 'ONLINE'}, {'fmri': 'svc:/system/filesystem/minimal:default', 'objectName': 'api/com.oracle.solaris.rad.smf/1.0/Instance/system%2Ffilesystem%2Fminimal,default', 'stime': 1601392200352, 'state': 'ONLINE'}, {'fmri': 'svc:/system/filesystem/reparse:default', 'objectName': 'api/com.oracle.solaris.rad.smf/1.0/Instance/system%2Ffilesystem%2Freparse,default', 'stime': 1601392681293, 'state': 'DISABLED'}, {'fmri': 'svc:/system/filesystem/rmvolmgr:default', 'objectName': 'api/com.oracle.solaris.rad.smf/1.0/Instance/system%2Ffilesystem%2Frmvolmgr,default', 'stime': 1601392096768, 'state': 'ONLINE'}, {'fmri': 'svc:/system/filesystem/root:default', 'objectName': 'api/com.oracle.solaris.rad.smf/1.0/Instance/system%2Ffilesystem%2Froot,default', 'stime': 1601392842437, 'state': 'ONLINE'}, {'fmri': 'svc:/system/filesystem/ufs/quota:default', 'objectName': 'api/com.oracle.solaris.rad.smf/1.0/Instance/system%2Ffilesystem%2Fufs%2Fquota,default', 'stime': 1601393021974, 'state': 'ONLINE'}, {'fmri': 'svc:/system/filesystem/usr:default', 'objectName': 'api/com.oracle.solaris.rad.smf/1.0/Instance/system%2Ffilesystem%2Fusr,default', 'stime': 1601392702527, 'state': 'ONLINE'}, {'fmri': 'svc:/system/filesystem/uvfs:default', 'objectName': 'api/com.oracle.solaris.rad.smf/1.0/Instance/system%2Ffilesystem%2Fuvfs,default', 'stime': 1601392144648, 'state': 'DISABLED'}, {'fmri': 'svc:/system/filesystem/zfs/auto-snapshot:daily', 'objectName': 'api/com.oracle.solaris.rad.smf/1.0/Instance/system%2Ffilesystem%2Fzfs%2Fauto-snapshot,daily', 'stime': 1601392151628, 'state': 'DISABLED'}, {'fmri': 'svc:/system/filesystem/zfs/auto-snapshot:frequent', 'objectName': 'api/com.oracle.solaris.rad.smf/1.0/Instance/system%2Ffilesystem%2Fzfs%2Fauto-snapshot,frequent', 'stime': 1601392158833, 'state': 'DISABLED'}, {'fmri': 'svc:/system/filesystem/zfs/auto-snapshot:hourly', 'objectName': 'api/com.oracle.solaris.rad.smf/1.0/Instance/system%2Ffilesystem%2Fzfs%2Fauto-snapshot,hourly', 'stime': 1601392165527, 'state': 'DISABLED'}, {'fmri': 'svc:/system/filesystem/zfs/auto-snapshot:monthly', 'objectName': 'api/com.oracle.solaris.rad.smf/1.0/Instance/system%2Ffilesystem%2Fzfs%2Fauto-snapshot,monthly', 'stime': 1601392172144, 'state': 'DISABLED'}, {'fmri': 'svc:/system/filesystem/zfs/auto-snapshot:weekly', 'objectName': 'api/com.oracle.solaris.rad.smf/1.0/Instance/system%2Ffilesystem%2Fzfs%2Fauto-snapshot,weekly', 'stime': 1601392178123, 'state': 'DISABLED'}, {'fmri': 'svc:/system/fm/asr-notify:default', 'objectName': 'api/com.oracle.solaris.rad.smf/1.0/Instance/system%2Ffm%2Fasr-notify,default', 'stime': 1601392104710, 'state': 'ONLINE'}, {'fmri': 'svc:/system/fm/notify-params:default', 'objectName': 'api/com.oracle.solaris.rad.smf/1.0/Instance/system%2Ffm%2Fnotify-params,default', 'stime': 1601392192838, 'state': 'DISABLED'}, {'fmri': 'svc:/system/fm/smtp-notify:default', 'objectName': 'api/com.oracle.solaris.rad.smf/1.0/Instance/system%2Ffm%2Fsmtp-notify,default', 'stime': 1601393006037, 'state': 'ONLINE'}, {'fmri': 'svc:/system/fm/snmp-notify:default', 'objectName': 'api/com.oracle.solaris.rad.smf/1.0/Instance/system%2Ffm%2Fsnmp-notify,default', 'stime': 1601392208007, 'state': 'DISABLED'}, {'fmri': 'svc:/system/fmd:default', 'objectName': 'api/com.oracle.solaris.rad.smf/1.0/Instance/system%2Ffmd,default', 'stime': 1601392727872, 'state': 'ONLINE'}, {'fmri': 'svc:/system/hal:default', 'objectName': 'api/com.oracle.solaris.rad.smf/1.0/Instance/system%2Fhal,default', 'stime': 1601392062970, 'state': 'ONLINE'}, {'fmri': 'svc:/system/hotplug:default', 'objectName': 'api/com.oracle.solaris.rad.smf/1.0/Instance/system%2Fhotplug,default', 'stime': 1601392455679, 'state': 'ONLINE'}, {'fmri': 'svc:/system/identity:cert', 'objectName': 'api/com.oracle.solaris.rad.smf/1.0/Instance/system%2Fidentity,cert', 'stime': 1601392613734, 'state': 'ONLINE'}, {'fmri': 'svc:/system/identity:cert-expiry', 'objectName': 'api/com.oracle.solaris.rad.smf/1.0/Instance/system%2Fidentity,cert-expiry', 'stime': 1601392940763, 'state': 'ONLINE'}, {'fmri': 'svc:/system/identity:domain', 'objectName': 'api/com.oracle.solaris.rad.smf/1.0/Instance/system%2Fidentity,domain', 'stime': 1601392987028, 'state': 'ONLINE'}, {'fmri': 'svc:/system/identity:node', 'objectName': 'api/com.oracle.solaris.rad.smf/1.0/Instance/system%2Fidentity,node', 'stime': 1601393037643, 'state': 'ONLINE'}, {'fmri': 'svc:/system/identity:version', 'objectName': 'api/com.oracle.solaris.rad.smf/1.0/Instance/system%2Fidentity,version', 'stime': 1601392999677, 'state': 'ONLINE'}, {'fmri': 'svc:/system/idmap:default', 'objectName': 'api/com.oracle.solaris.rad.smf/1.0/Instance/system%2Fidmap,default', 'stime': 1601392982556, 'state': 'DISABLED'}, {'fmri': 'svc:/system/install/server:default', 'objectName': 'api/com.oracle.solaris.rad.smf/1.0/Instance/system%2Finstall%2Fserver,default', 'stime': 1601392813914, 'state': 'DISABLED'}, {'fmri': 'svc:/system/install/telemetry-manager:files', 'objectName': 'api/com.oracle.solaris.rad.smf/1.0/Instance/system%2Finstall%2Ftelemetry-manager,files', 'stime': 1601568700584, 'state': 'ONLINE'}, {'fmri': 'svc:/system/install/telemetry-manager:stats', 'objectName': 'api/com.oracle.solaris.rad.smf/1.0/Instance/system%2Finstall%2Ftelemetry-manager,stats', 'stime': 1601568712686, 'state': 'ONLINE'}, {'fmri': 'svc:/system/intrd:default', 'objectName': 'api/com.oracle.solaris.rad.smf/1.0/Instance/system%2Fintrd,default', 'stime': 1601393008726, 'state': 'ONLINE'}, {'fmri': 'svc:/system/kerberos/install:default', 'objectName': 'api/com.oracle.solaris.rad.smf/1.0/Instance/system%2Fkerberos%2Finstall,default', 'stime': 1601392205958, 'state': 'DISABLED'}, {'fmri': 'svc:/system/keymap:default', 'objectName': 'api/com.oracle.solaris.rad.smf/1.0/Instance/system%2Fkeymap,default', 'stime': 1601392478443, 'state': 'ONLINE'}, {'fmri': 'svc:/system/kstat2adm:default', 'objectName': 'api/com.oracle.solaris.rad.smf/1.0/Instance/system%2Fkstat2adm,default', 'stime': 1601392760883, 'state': 'ONLINE'}, {'fmri': 'svc:/system/labeld:change', 'objectName': 'api/com.oracle.solaris.rad.smf/1.0/Instance/system%2Flabeld,change', 'stime': 1601392893529, 'state': 'DISABLED'}, {'fmri': 'svc:/system/labeld:clearance', 'objectName': 'api/com.oracle.solaris.rad.smf/1.0/Instance/system%2Flabeld,clearance', 'stime': 1601392678995, 'state': 'ONLINE'}, {'fmri': 'svc:/system/labeld:default', 'objectName': 'api/com.oracle.solaris.rad.smf/1.0/Instance/system%2Flabeld,default', 'stime': 1601392064758, 'state': 'DISABLED'}, {'fmri': 'svc:/system/labeld:init', 'objectName': 'api/com.oracle.solaris.rad.smf/1.0/Instance/system%2Flabeld,init', 'stime': 1601392922348, 'state': 'DISABLED'}, {'fmri': 'svc:/system/logadm-upgrade:default', 'objectName': 'api/com.oracle.solaris.rad.smf/1.0/Instance/system%2Flogadm-upgrade,default', 'stime': 1601392561944, 'state': 'ONLINE'}, {'fmri': 'svc:/system/manifest-import:default', 'objectName': 'api/com.oracle.solaris.rad.smf/1.0/Instance/system%2Fmanifest-import,default', 'stime': 1601392189345, 'state': 'ONLINE'}, {'fmri': 'svc:/system/memory-reserve:zones', 'objectName': 'api/com.oracle.solaris.rad.smf/1.0/Instance/system%2Fmemory-reserve,zones', 'stime': 1601392943413, 'state': 'DISABLED'}, {'fmri': 'svc:/system/name-service-cache:default', 'objectName': 'api/com.oracle.solaris.rad.smf/1.0/Instance/system%2Fname-service-cache,default', 'stime': 1601392413827, 'state': 'DISABLED'}, {'fmri': 'svc:/system/name-service/cache:default', 'objectName': 'api/com.oracle.solaris.rad.smf/1.0/Instance/system%2Fname-service%2Fcache,default', 'stime': 1601392043553, 'state': 'ONLINE'}, {'fmri': 'svc:/system/name-service/switch:default', 'objectName': 'api/com.oracle.solaris.rad.smf/1.0/Instance/system%2Fname-service%2Fswitch,default', 'stime': 1601392518704, 'state': 'ONLINE'}, {'fmri': 'svc:/system/name-service/upgrade:default', 'objectName': 'api/com.oracle.solaris.rad.smf/1.0/Instance/system%2Fname-service%2Fupgrade,default', 'stime': 1601392702854, 'state': 'ONLINE'}, {'fmri': 'svc:/system/name-service/upgrade:final', 'objectName': 'api/com.oracle.solaris.rad.smf/1.0/Instance/system%2Fname-service%2Fupgrade,final', 'stime': 1601392577560, 'state': 'ONLINE'}, {'fmri': 'svc:/system/pfexec:default', 'objectName': 'api/com.oracle.solaris.rad.smf/1.0/Instance/system%2Fpfexec,default', 'stime': 1601393001666, 'state': 'ONLINE'}, {'fmri': 'svc:/system/picl:default', 'objectName': 'api/com.oracle.solaris.rad.smf/1.0/Instance/system%2Fpicl,default', 'stime': 1601392133982, 'state': 'ONLINE'}, {'fmri': 'svc:/system/pkcs11:metaslot', 'objectName': 'api/com.oracle.solaris.rad.smf/1.0/Instance/system%2Fpkcs11,metaslot', 'stime': 1601392962824, 'state': 'DISABLED'}, {'fmri': 'svc:/system/pkcs11:softtoken', 'objectName': 'api/com.oracle.solaris.rad.smf/1.0/Instance/system%2Fpkcs11,softtoken', 'stime': 1601392970546, 'state': 'DISABLED'}, {'fmri': 'svc:/system/pkgserv:default', 'objectName': 'api/com.oracle.solaris.rad.smf/1.0/Instance/system%2Fpkgserv,default', 'stime': 1601392568987, 'state': 'ONLINE'}, {'fmri': 'svc:/system/polkit:default', 'objectName': 'api/com.oracle.solaris.rad.smf/1.0/Instance/system%2Fpolkit,default', 'stime': 1601393015837, 'state': 'ONLINE'}, {'fmri': 'svc:/system/pools:default', 'objectName': 'api/com.oracle.solaris.rad.smf/1.0/Instance/system%2Fpools,default', 'stime': 1601392369541, 'state': 'DISABLED'}, {'fmri': 'svc:/system/pools/dynamic:default', 'objectName': 'api/com.oracle.solaris.rad.smf/1.0/Instance/system%2Fpools%2Fdynamic,default', 'stime': 1601393004229, 'state': 'DISABLED'}, {'fmri': 'svc:/system/power:default', 'objectName': 'api/com.oracle.solaris.rad.smf/1.0/Instance/system%2Fpower,default', 'stime': 1601392175435, 'state': 'ONLINE'}, {'fmri': 'svc:/system/rad:local', 'objectName': 'api/com.oracle.solaris.rad.smf/1.0/Instance/system%2Frad,local', 'stime': 1601628502529, 'state': 'ONLINE'}, {'fmri': 'svc:/system/rad:remote', 'objectName': 'api/com.oracle.solaris.rad.smf/1.0/Instance/system%2Frad,remote', 'stime': 1601392157506, 'state': 'ONLINE'}, {'fmri': 'svc:/system/rcap:default', 'objectName': 'api/com.oracle.solaris.rad.smf/1.0/Instance/system%2Frcap,default', 'stime': 1601392376843, 'state': 'DISABLED'}, {'fmri': 'svc:/system/rds:default', 'objectName': 'api/com.oracle.solaris.rad.smf/1.0/Instance/system%2Frds,default', 'stime': 1601393029705, 'state': 'DISABLED'}, {'fmri': 'svc:/system/resource-controls:default', 'objectName': 'api/com.oracle.solaris.rad.smf/1.0/Instance/system%2Fresource-controls,default', 'stime': 1601392141440, 'state': 'ONLINE'}, {'fmri': 'svc:/system/resource-mgmt:default', 'objectName': 'api/com.oracle.solaris.rad.smf/1.0/Instance/system%2Fresource-mgmt,default', 'stime': 1601392631851, 'state': 'ONLINE'}, {'fmri': 'svc:/system/restore_coreadm:default', 'objectName': 'api/com.oracle.solaris.rad.smf/1.0/Instance/system%2Frestore_coreadm,default', 'stime': 1601392934470, 'state': 'ONLINE'}, {'fmri': 'svc:/system/rmtmpfiles:default', 'objectName': 'api/com.oracle.solaris.rad.smf/1.0/Instance/system%2Frmtmpfiles,default', 'stime': 1601392659565, 'state': 'ONLINE'}, {'fmri': 'svc:/system/sar:default', 'objectName': 'api/com.oracle.solaris.rad.smf/1.0/Instance/system%2Fsar,default', 'stime': 1601392050889, 'state': 'DISABLED'}, {'fmri': 'svc:/system/scheduler:default', 'objectName': 'api/com.oracle.solaris.rad.smf/1.0/Instance/system%2Fscheduler,default', 'stime': 1601392122881, 'state': 'ONLINE'}, {'fmri': 'svc:/system/security/security-extensions:default', 'objectName': 'api/com.oracle.solaris.rad.smf/1.0/Instance/system%2Fsecurity%2Fsecurity-extensions,default', 'stime': 1601392195075, 'state': 'ONLINE'}, {'fmri': 'svc:/system/security/security-extensions:kernel', 'objectName': 'api/com.oracle.solaris.rad.smf/1.0/Instance/system%2Fsecurity%2Fsecurity-extensions,kernel', 'stime': 1601392446236, 'state': 'ONLINE'}, {'fmri': 'svc:/system/sp/management:default', 'objectName': 'api/com.oracle.solaris.rad.smf/1.0/Instance/system%2Fsp%2Fmanagement,default', 'stime': 1601393049949, 'state': 'ONLINE'}, {'fmri': 'svc:/system/splice:default', 'objectName': 'api/com.oracle.solaris.rad.smf/1.0/Instance/system%2Fsplice,default', 'stime': 1601392177072, 'state': 'ONLINE'}, {'fmri': 'svc:/system/sstore:default', 'objectName': 'api/com.oracle.solaris.rad.smf/1.0/Instance/system%2Fsstore,default', 'stime': 1601568687124, 'state': 'ONLINE'}, {'fmri': 'svc:/system/svc/global:default', 'objectName': 'api/com.oracle.solaris.rad.smf/1.0/Instance/system%2Fsvc%2Fglobal,default', 'stime': 1601392109613, 'state': 'DISABLED'}, {'fmri': 'svc:/system/svc/periodic-restarter:default', 'objectName': 'api/com.oracle.solaris.rad.smf/1.0/Instance/system%2Fsvc%2Fperiodic-restarter,default', 'stime': 1601392565786, 'state': 'ONLINE'}, {'fmri': 'svc:/system/svc/restarter:default', 'objectName': 'api/com.oracle.solaris.rad.smf/1.0/Instance/system%2Fsvc%2Frestarter,default', 'stime': 1601393005314, 'state': 'ONLINE'}, {'fmri': 'svc:/system/swap:default', 'objectName': 'api/com.oracle.solaris.rad.smf/1.0/Instance/system%2Fswap,default', 'stime': 1601392693062, 'state': 'ONLINE'}, {'fmri': 'svc:/system/sysevent:default', 'objectName': 'api/com.oracle.solaris.rad.smf/1.0/Instance/system%2Fsysevent,default', 'stime': 1601392574079, 'state': 'ONLINE'}, {'fmri': 'svc:/system/sysobj:default', 'objectName': 'api/com.oracle.solaris.rad.smf/1.0/Instance/system%2Fsysobj,default', 'stime': 1601392904449, 'state': 'ONLINE'}, {'fmri': 'svc:/system/sysstat:default', 'objectName': 'api/com.oracle.solaris.rad.smf/1.0/Instance/system%2Fsysstat,default', 'stime': 1601568733907, 'state': 'ONLINE'}, {'fmri': 'svc:/system/system-log:default', 'objectName': 'api/com.oracle.solaris.rad.smf/1.0/Instance/system%2Fsystem-log,default', 'stime': 1601392636641, 'state': 'ONLINE'}, {'fmri': 'svc:/system/system-log:rsyslog', 'objectName': 'api/com.oracle.solaris.rad.smf/1.0/Instance/system%2Fsystem-log,rsyslog', 'stime': 1601392342619, 'state': 'DISABLED'}, {'fmri': 'svc:/system/timezone:default', 'objectName': 'api/com.oracle.solaris.rad.smf/1.0/Instance/system%2Ftimezone,default', 'stime': 1601392138657, 'state': 'ONLINE'}, {'fmri': 'svc:/system/utmp:default', 'objectName': 'api/com.oracle.solaris.rad.smf/1.0/Instance/system%2Futmp,default', 'stime': 1601392651369, 'state': 'ONLINE'}, {'fmri': 'svc:/system/vtdaemon:default', 'objectName': 'api/com.oracle.solaris.rad.smf/1.0/Instance/system%2Fvtdaemon,default', 'stime': 1601392973527, 'state': 'DISABLED'}, {'fmri': 'svc:/system/webui/server:default', 'objectName': 'api/com.oracle.solaris.rad.smf/1.0/Instance/system%2Fwebui%2Fserver,default', 'stime': 1601640167526, 'state': 'ONLINE'}, {'fmri': 'svc:/system/wusbd:default', 'objectName': 'api/com.oracle.solaris.rad.smf/1.0/Instance/system%2Fwusbd,default', 'stime': 1601392165999, 'state': 'DISABLED'}, {'fmri': 'svc:/system/zones:default', 'objectName': 'api/com.oracle.solaris.rad.smf/1.0/Instance/system%2Fzones,default', 'stime': 1601392048097, 'state': 'ONLINE'}, {'fmri': 'svc:/system/zones-install:default', 'objectName': 'api/com.oracle.solaris.rad.smf/1.0/Instance/system%2Fzones-install,default', 'stime': 1601392078768, 'state': 'ONLINE'}, {'fmri': 'svc:/system/zones-monitoring:default', 'objectName': 'api/com.oracle.solaris.rad.smf/1.0/Instance/system%2Fzones-monitoring,default', 'stime': 1601392294447, 'state': 'ONLINE'}, {'fmri': 'svc:/system/zones-upgrade:default', 'objectName': 'api/com.oracle.solaris.rad.smf/1.0/Instance/system%2Fzones-upgrade,default', 'stime': 1601392513677, 'state': 'ONLINE'}]}\n"
     ]
    }
   ],
   "source": [
    "service_list = rad_rest_request('GET', s, server_connection_info, '{}/instances'.format(smf_master_uri))\n",
    "service_list_text = json.loads(service_list.text)\n",
    "\n",
    "print(service_list.status_code, '\\n')\n",
    "print(service_list_text)"
   ]
  },
  {
   "cell_type": "markdown",
   "metadata": {},
   "source": [
    "It's not very easy to read and work with this response so we load it into a Pandas DataFrame which is much easier to read:"
   ]
  },
  {
   "cell_type": "code",
   "execution_count": 12,
   "metadata": {},
   "outputs": [
    {
     "data": {
      "text/html": [
       "<div>\n",
       "<style scoped>\n",
       "    .dataframe tbody tr th:only-of-type {\n",
       "        vertical-align: middle;\n",
       "    }\n",
       "\n",
       "    .dataframe tbody tr th {\n",
       "        vertical-align: top;\n",
       "    }\n",
       "\n",
       "    .dataframe thead th {\n",
       "        text-align: right;\n",
       "    }\n",
       "</style>\n",
       "<table border=\"1\" class=\"dataframe\">\n",
       "  <thead>\n",
       "    <tr style=\"text-align: right;\">\n",
       "      <th></th>\n",
       "      <th>fmri</th>\n",
       "      <th>objectName</th>\n",
       "      <th>stime</th>\n",
       "      <th>state</th>\n",
       "    </tr>\n",
       "  </thead>\n",
       "  <tbody>\n",
       "    <tr>\n",
       "      <th>0</th>\n",
       "      <td>svc:/application/cups/in-lpd:default</td>\n",
       "      <td>api/com.oracle.solaris.rad.smf/1.0/Instance/ap...</td>\n",
       "      <td>1601400264140</td>\n",
       "      <td>ONLINE</td>\n",
       "    </tr>\n",
       "    <tr>\n",
       "      <th>1</th>\n",
       "      <td>svc:/application/cups/scheduler:default</td>\n",
       "      <td>api/com.oracle.solaris.rad.smf/1.0/Instance/ap...</td>\n",
       "      <td>1601392118664</td>\n",
       "      <td>ONLINE</td>\n",
       "    </tr>\n",
       "    <tr>\n",
       "      <th>2</th>\n",
       "      <td>svc:/application/desktop-cache/desktop-mime-ca...</td>\n",
       "      <td>api/com.oracle.solaris.rad.smf/1.0/Instance/ap...</td>\n",
       "      <td>1601392633844</td>\n",
       "      <td>ONLINE</td>\n",
       "    </tr>\n",
       "    <tr>\n",
       "      <th>3</th>\n",
       "      <td>svc:/application/desktop-cache/docbook-dtds-up...</td>\n",
       "      <td>api/com.oracle.solaris.rad.smf/1.0/Instance/ap...</td>\n",
       "      <td>1601392118963</td>\n",
       "      <td>ONLINE</td>\n",
       "    </tr>\n",
       "    <tr>\n",
       "      <th>4</th>\n",
       "      <td>svc:/application/desktop-cache/docbook-style-d...</td>\n",
       "      <td>api/com.oracle.solaris.rad.smf/1.0/Instance/ap...</td>\n",
       "      <td>1601392621985</td>\n",
       "      <td>ONLINE</td>\n",
       "    </tr>\n",
       "  </tbody>\n",
       "</table>\n",
       "</div>"
      ],
      "text/plain": [
       "                                                fmri  \\\n",
       "0               svc:/application/cups/in-lpd:default   \n",
       "1            svc:/application/cups/scheduler:default   \n",
       "2  svc:/application/desktop-cache/desktop-mime-ca...   \n",
       "3  svc:/application/desktop-cache/docbook-dtds-up...   \n",
       "4  svc:/application/desktop-cache/docbook-style-d...   \n",
       "\n",
       "                                          objectName          stime   state  \n",
       "0  api/com.oracle.solaris.rad.smf/1.0/Instance/ap...  1601400264140  ONLINE  \n",
       "1  api/com.oracle.solaris.rad.smf/1.0/Instance/ap...  1601392118664  ONLINE  \n",
       "2  api/com.oracle.solaris.rad.smf/1.0/Instance/ap...  1601392633844  ONLINE  \n",
       "3  api/com.oracle.solaris.rad.smf/1.0/Instance/ap...  1601392118963  ONLINE  \n",
       "4  api/com.oracle.solaris.rad.smf/1.0/Instance/ap...  1601392621985  ONLINE  "
      ]
     },
     "execution_count": 12,
     "metadata": {},
     "output_type": "execute_result"
    }
   ],
   "source": [
    "service_list_df = pd.DataFrame(service_list_text['payload'])\n",
    "service_list_df.head()"
   ]
  },
  {
   "cell_type": "markdown",
   "metadata": {},
   "source": [
    "Now it's in a DataFrame we update the `stime` values to show the datetime value to make it more readable:"
   ]
  },
  {
   "cell_type": "code",
   "execution_count": 13,
   "metadata": {},
   "outputs": [
    {
     "data": {
      "text/html": [
       "<div>\n",
       "<style scoped>\n",
       "    .dataframe tbody tr th:only-of-type {\n",
       "        vertical-align: middle;\n",
       "    }\n",
       "\n",
       "    .dataframe tbody tr th {\n",
       "        vertical-align: top;\n",
       "    }\n",
       "\n",
       "    .dataframe thead th {\n",
       "        text-align: right;\n",
       "    }\n",
       "</style>\n",
       "<table border=\"1\" class=\"dataframe\">\n",
       "  <thead>\n",
       "    <tr style=\"text-align: right;\">\n",
       "      <th></th>\n",
       "      <th>fmri</th>\n",
       "      <th>objectName</th>\n",
       "      <th>stime</th>\n",
       "      <th>state</th>\n",
       "    </tr>\n",
       "  </thead>\n",
       "  <tbody>\n",
       "    <tr>\n",
       "      <th>0</th>\n",
       "      <td>svc:/application/cups/in-lpd:default</td>\n",
       "      <td>api/com.oracle.solaris.rad.smf/1.0/Instance/ap...</td>\n",
       "      <td>2020-09-29 17:24:24.140</td>\n",
       "      <td>ONLINE</td>\n",
       "    </tr>\n",
       "    <tr>\n",
       "      <th>1</th>\n",
       "      <td>svc:/application/cups/scheduler:default</td>\n",
       "      <td>api/com.oracle.solaris.rad.smf/1.0/Instance/ap...</td>\n",
       "      <td>2020-09-29 15:08:38.664</td>\n",
       "      <td>ONLINE</td>\n",
       "    </tr>\n",
       "    <tr>\n",
       "      <th>2</th>\n",
       "      <td>svc:/application/desktop-cache/desktop-mime-ca...</td>\n",
       "      <td>api/com.oracle.solaris.rad.smf/1.0/Instance/ap...</td>\n",
       "      <td>2020-09-29 15:17:13.844</td>\n",
       "      <td>ONLINE</td>\n",
       "    </tr>\n",
       "    <tr>\n",
       "      <th>3</th>\n",
       "      <td>svc:/application/desktop-cache/docbook-dtds-up...</td>\n",
       "      <td>api/com.oracle.solaris.rad.smf/1.0/Instance/ap...</td>\n",
       "      <td>2020-09-29 15:08:38.963</td>\n",
       "      <td>ONLINE</td>\n",
       "    </tr>\n",
       "    <tr>\n",
       "      <th>4</th>\n",
       "      <td>svc:/application/desktop-cache/docbook-style-d...</td>\n",
       "      <td>api/com.oracle.solaris.rad.smf/1.0/Instance/ap...</td>\n",
       "      <td>2020-09-29 15:17:01.985</td>\n",
       "      <td>ONLINE</td>\n",
       "    </tr>\n",
       "  </tbody>\n",
       "</table>\n",
       "</div>"
      ],
      "text/plain": [
       "                                                fmri  \\\n",
       "0               svc:/application/cups/in-lpd:default   \n",
       "1            svc:/application/cups/scheduler:default   \n",
       "2  svc:/application/desktop-cache/desktop-mime-ca...   \n",
       "3  svc:/application/desktop-cache/docbook-dtds-up...   \n",
       "4  svc:/application/desktop-cache/docbook-style-d...   \n",
       "\n",
       "                                          objectName                   stime  \\\n",
       "0  api/com.oracle.solaris.rad.smf/1.0/Instance/ap... 2020-09-29 17:24:24.140   \n",
       "1  api/com.oracle.solaris.rad.smf/1.0/Instance/ap... 2020-09-29 15:08:38.664   \n",
       "2  api/com.oracle.solaris.rad.smf/1.0/Instance/ap... 2020-09-29 15:17:13.844   \n",
       "3  api/com.oracle.solaris.rad.smf/1.0/Instance/ap... 2020-09-29 15:08:38.963   \n",
       "4  api/com.oracle.solaris.rad.smf/1.0/Instance/ap... 2020-09-29 15:17:01.985   \n",
       "\n",
       "    state  \n",
       "0  ONLINE  \n",
       "1  ONLINE  \n",
       "2  ONLINE  \n",
       "3  ONLINE  \n",
       "4  ONLINE  "
      ]
     },
     "execution_count": 13,
     "metadata": {},
     "output_type": "execute_result"
    }
   ],
   "source": [
    "service_list_df['stime'] = pd.to_datetime(service_list_df['stime'], unit='ms')\n",
    "service_list_df.head()"
   ]
  },
  {
   "cell_type": "markdown",
   "metadata": {},
   "source": [
    "We've just shown the top five lines in the DataFrame with the `.head()` method to not make the output be too long, but maybe we want to search for a specific SMF service.<br>\n",
    "\n",
    "For example the services named `rad:`, it's easy to pull them out like this:"
   ]
  },
  {
   "cell_type": "code",
   "execution_count": 14,
   "metadata": {},
   "outputs": [
    {
     "data": {
      "text/html": [
       "<div>\n",
       "<style scoped>\n",
       "    .dataframe tbody tr th:only-of-type {\n",
       "        vertical-align: middle;\n",
       "    }\n",
       "\n",
       "    .dataframe tbody tr th {\n",
       "        vertical-align: top;\n",
       "    }\n",
       "\n",
       "    .dataframe thead th {\n",
       "        text-align: right;\n",
       "    }\n",
       "</style>\n",
       "<table border=\"1\" class=\"dataframe\">\n",
       "  <thead>\n",
       "    <tr style=\"text-align: right;\">\n",
       "      <th></th>\n",
       "      <th>fmri</th>\n",
       "      <th>objectName</th>\n",
       "      <th>stime</th>\n",
       "      <th>state</th>\n",
       "    </tr>\n",
       "  </thead>\n",
       "  <tbody>\n",
       "    <tr>\n",
       "      <th>272</th>\n",
       "      <td>svc:/system/rad:local</td>\n",
       "      <td>api/com.oracle.solaris.rad.smf/1.0/Instance/sy...</td>\n",
       "      <td>2020-10-02 08:48:22.529</td>\n",
       "      <td>ONLINE</td>\n",
       "    </tr>\n",
       "    <tr>\n",
       "      <th>273</th>\n",
       "      <td>svc:/system/rad:remote</td>\n",
       "      <td>api/com.oracle.solaris.rad.smf/1.0/Instance/sy...</td>\n",
       "      <td>2020-09-29 15:09:17.506</td>\n",
       "      <td>ONLINE</td>\n",
       "    </tr>\n",
       "  </tbody>\n",
       "</table>\n",
       "</div>"
      ],
      "text/plain": [
       "                       fmri  \\\n",
       "272   svc:/system/rad:local   \n",
       "273  svc:/system/rad:remote   \n",
       "\n",
       "                                            objectName  \\\n",
       "272  api/com.oracle.solaris.rad.smf/1.0/Instance/sy...   \n",
       "273  api/com.oracle.solaris.rad.smf/1.0/Instance/sy...   \n",
       "\n",
       "                      stime   state  \n",
       "272 2020-10-02 08:48:22.529  ONLINE  \n",
       "273 2020-09-29 15:09:17.506  ONLINE  "
      ]
     },
     "execution_count": 14,
     "metadata": {},
     "output_type": "execute_result"
    }
   ],
   "source": [
    "service_list_df[service_list_df['fmri'].str.contains('rad:')]"
   ]
  },
  {
   "cell_type": "markdown",
   "metadata": {},
   "source": [
    "Note, they're both `ONLINE`. We're using `rad:remote` to connect to the server.\n",
    "\n",
    "Similarly we can check the status of the FTP service:"
   ]
  },
  {
   "cell_type": "code",
   "execution_count": 15,
   "metadata": {},
   "outputs": [
    {
     "data": {
      "text/html": [
       "<div>\n",
       "<style scoped>\n",
       "    .dataframe tbody tr th:only-of-type {\n",
       "        vertical-align: middle;\n",
       "    }\n",
       "\n",
       "    .dataframe tbody tr th {\n",
       "        vertical-align: top;\n",
       "    }\n",
       "\n",
       "    .dataframe thead th {\n",
       "        text-align: right;\n",
       "    }\n",
       "</style>\n",
       "<table border=\"1\" class=\"dataframe\">\n",
       "  <thead>\n",
       "    <tr style=\"text-align: right;\">\n",
       "      <th></th>\n",
       "      <th>fmri</th>\n",
       "      <th>objectName</th>\n",
       "      <th>stime</th>\n",
       "      <th>state</th>\n",
       "    </tr>\n",
       "  </thead>\n",
       "  <tbody>\n",
       "    <tr>\n",
       "      <th>80</th>\n",
       "      <td>svc:/network/ftp:default</td>\n",
       "      <td>api/com.oracle.solaris.rad.smf/1.0/Instance/ne...</td>\n",
       "      <td>2020-09-29 15:14:11.198</td>\n",
       "      <td>DISABLED</td>\n",
       "    </tr>\n",
       "  </tbody>\n",
       "</table>\n",
       "</div>"
      ],
      "text/plain": [
       "                        fmri  \\\n",
       "80  svc:/network/ftp:default   \n",
       "\n",
       "                                           objectName                   stime  \\\n",
       "80  api/com.oracle.solaris.rad.smf/1.0/Instance/ne... 2020-09-29 15:14:11.198   \n",
       "\n",
       "       state  \n",
       "80  DISABLED  "
      ]
     },
     "execution_count": 15,
     "metadata": {},
     "output_type": "execute_result"
    }
   ],
   "source": [
    "service_list_df[service_list_df['fmri'].str.contains('ftp:')]"
   ]
  },
  {
   "cell_type": "markdown",
   "metadata": {},
   "source": [
    "Or which services are in the `DISABLED` state:"
   ]
  },
  {
   "cell_type": "code",
   "execution_count": 16,
   "metadata": {},
   "outputs": [
    {
     "data": {
      "text/html": [
       "<div>\n",
       "<style scoped>\n",
       "    .dataframe tbody tr th:only-of-type {\n",
       "        vertical-align: middle;\n",
       "    }\n",
       "\n",
       "    .dataframe tbody tr th {\n",
       "        vertical-align: top;\n",
       "    }\n",
       "\n",
       "    .dataframe thead th {\n",
       "        text-align: right;\n",
       "    }\n",
       "</style>\n",
       "<table border=\"1\" class=\"dataframe\">\n",
       "  <thead>\n",
       "    <tr style=\"text-align: right;\">\n",
       "      <th></th>\n",
       "      <th>fmri</th>\n",
       "      <th>objectName</th>\n",
       "      <th>stime</th>\n",
       "      <th>state</th>\n",
       "    </tr>\n",
       "  </thead>\n",
       "  <tbody>\n",
       "    <tr>\n",
       "      <th>17</th>\n",
       "      <td>svc:/application/management/net-snmp:default</td>\n",
       "      <td>api/com.oracle.solaris.rad.smf/1.0/Instance/ap...</td>\n",
       "      <td>2020-09-29 15:15:11.760</td>\n",
       "      <td>DISABLED</td>\n",
       "    </tr>\n",
       "    <tr>\n",
       "      <th>20</th>\n",
       "      <td>svc:/application/pkg/depot:default</td>\n",
       "      <td>api/com.oracle.solaris.rad.smf/1.0/Instance/ap...</td>\n",
       "      <td>2020-09-29 15:15:48.363</td>\n",
       "      <td>DISABLED</td>\n",
       "    </tr>\n",
       "    <tr>\n",
       "      <th>21</th>\n",
       "      <td>svc:/application/pkg/dynamic-mirror:default</td>\n",
       "      <td>api/com.oracle.solaris.rad.smf/1.0/Instance/ap...</td>\n",
       "      <td>2020-09-29 15:16:13.025</td>\n",
       "      <td>DISABLED</td>\n",
       "    </tr>\n",
       "    <tr>\n",
       "      <th>22</th>\n",
       "      <td>svc:/application/pkg/mirror:default</td>\n",
       "      <td>api/com.oracle.solaris.rad.smf/1.0/Instance/ap...</td>\n",
       "      <td>2020-09-29 15:16:28.179</td>\n",
       "      <td>DISABLED</td>\n",
       "    </tr>\n",
       "    <tr>\n",
       "      <th>25</th>\n",
       "      <td>svc:/application/pkg/sysrepo-cache-compact:def...</td>\n",
       "      <td>api/com.oracle.solaris.rad.smf/1.0/Instance/ap...</td>\n",
       "      <td>2020-09-29 15:19:46.772</td>\n",
       "      <td>DISABLED</td>\n",
       "    </tr>\n",
       "    <tr>\n",
       "      <th>...</th>\n",
       "      <td>...</td>\n",
       "      <td>...</td>\n",
       "      <td>...</td>\n",
       "      <td>...</td>\n",
       "    </tr>\n",
       "    <tr>\n",
       "      <th>280</th>\n",
       "      <td>svc:/system/sar:default</td>\n",
       "      <td>api/com.oracle.solaris.rad.smf/1.0/Instance/sy...</td>\n",
       "      <td>2020-09-29 15:07:30.889</td>\n",
       "      <td>DISABLED</td>\n",
       "    </tr>\n",
       "    <tr>\n",
       "      <th>287</th>\n",
       "      <td>svc:/system/svc/global:default</td>\n",
       "      <td>api/com.oracle.solaris.rad.smf/1.0/Instance/sy...</td>\n",
       "      <td>2020-09-29 15:08:29.613</td>\n",
       "      <td>DISABLED</td>\n",
       "    </tr>\n",
       "    <tr>\n",
       "      <th>295</th>\n",
       "      <td>svc:/system/system-log:rsyslog</td>\n",
       "      <td>api/com.oracle.solaris.rad.smf/1.0/Instance/sy...</td>\n",
       "      <td>2020-09-29 15:12:22.619</td>\n",
       "      <td>DISABLED</td>\n",
       "    </tr>\n",
       "    <tr>\n",
       "      <th>298</th>\n",
       "      <td>svc:/system/vtdaemon:default</td>\n",
       "      <td>api/com.oracle.solaris.rad.smf/1.0/Instance/sy...</td>\n",
       "      <td>2020-09-29 15:22:53.527</td>\n",
       "      <td>DISABLED</td>\n",
       "    </tr>\n",
       "    <tr>\n",
       "      <th>300</th>\n",
       "      <td>svc:/system/wusbd:default</td>\n",
       "      <td>api/com.oracle.solaris.rad.smf/1.0/Instance/sy...</td>\n",
       "      <td>2020-09-29 15:09:25.999</td>\n",
       "      <td>DISABLED</td>\n",
       "    </tr>\n",
       "  </tbody>\n",
       "</table>\n",
       "<p>120 rows × 4 columns</p>\n",
       "</div>"
      ],
      "text/plain": [
       "                                                  fmri  \\\n",
       "17        svc:/application/management/net-snmp:default   \n",
       "20                  svc:/application/pkg/depot:default   \n",
       "21         svc:/application/pkg/dynamic-mirror:default   \n",
       "22                 svc:/application/pkg/mirror:default   \n",
       "25   svc:/application/pkg/sysrepo-cache-compact:def...   \n",
       "..                                                 ...   \n",
       "280                            svc:/system/sar:default   \n",
       "287                     svc:/system/svc/global:default   \n",
       "295                     svc:/system/system-log:rsyslog   \n",
       "298                       svc:/system/vtdaemon:default   \n",
       "300                          svc:/system/wusbd:default   \n",
       "\n",
       "                                            objectName  \\\n",
       "17   api/com.oracle.solaris.rad.smf/1.0/Instance/ap...   \n",
       "20   api/com.oracle.solaris.rad.smf/1.0/Instance/ap...   \n",
       "21   api/com.oracle.solaris.rad.smf/1.0/Instance/ap...   \n",
       "22   api/com.oracle.solaris.rad.smf/1.0/Instance/ap...   \n",
       "25   api/com.oracle.solaris.rad.smf/1.0/Instance/ap...   \n",
       "..                                                 ...   \n",
       "280  api/com.oracle.solaris.rad.smf/1.0/Instance/sy...   \n",
       "287  api/com.oracle.solaris.rad.smf/1.0/Instance/sy...   \n",
       "295  api/com.oracle.solaris.rad.smf/1.0/Instance/sy...   \n",
       "298  api/com.oracle.solaris.rad.smf/1.0/Instance/sy...   \n",
       "300  api/com.oracle.solaris.rad.smf/1.0/Instance/sy...   \n",
       "\n",
       "                      stime     state  \n",
       "17  2020-09-29 15:15:11.760  DISABLED  \n",
       "20  2020-09-29 15:15:48.363  DISABLED  \n",
       "21  2020-09-29 15:16:13.025  DISABLED  \n",
       "22  2020-09-29 15:16:28.179  DISABLED  \n",
       "25  2020-09-29 15:19:46.772  DISABLED  \n",
       "..                      ...       ...  \n",
       "280 2020-09-29 15:07:30.889  DISABLED  \n",
       "287 2020-09-29 15:08:29.613  DISABLED  \n",
       "295 2020-09-29 15:12:22.619  DISABLED  \n",
       "298 2020-09-29 15:22:53.527  DISABLED  \n",
       "300 2020-09-29 15:09:25.999  DISABLED  \n",
       "\n",
       "[120 rows x 4 columns]"
      ]
     },
     "execution_count": 16,
     "metadata": {},
     "output_type": "execute_result"
    }
   ],
   "source": [
    "service_list_df[service_list_df['state'] == 'DISABLED']"
   ]
  },
  {
   "cell_type": "markdown",
   "metadata": {},
   "source": [
    "Counting how many services are in the each state:"
   ]
  },
  {
   "cell_type": "code",
   "execution_count": 17,
   "metadata": {},
   "outputs": [
    {
     "data": {
      "text/plain": [
       "state\n",
       "DISABLED    120\n",
       "ONLINE      185\n",
       "Name: fmri, dtype: int64"
      ]
     },
     "execution_count": 17,
     "metadata": {},
     "output_type": "execute_result"
    }
   ],
   "source": [
    "service_list_df.groupby('state').count()['fmri']"
   ]
  },
  {
   "cell_type": "markdown",
   "metadata": {},
   "source": [
    "**Note:** I'm using `['fmri']` at the end of this line to flatten the DataFrame to a Series as the data is the same in each column."
   ]
  },
  {
   "cell_type": "markdown",
   "metadata": {},
   "source": [
    "---\n",
    "## Getting the Details of an Individual Service\n",
    "\n",
    "Now we have the list of all the SMF services on the system we can get more details on a specfic service. \n",
    "\n",
    "Generally this would be used something like this:\n",
    "`https://{{server}}:6788/api/com.oracle.solaris.rad.smf/1.0/Instance/<Service-Name>/<property>`\n",
    "\n",
    "As you may have spotted this first part of the URI is already listed in the `objectName` column in the DataFrame above. \n",
    "\n",
    "So for the `rad:remote` instance we only have to search for it to get the full URI:"
   ]
  },
  {
   "cell_type": "code",
   "execution_count": 18,
   "metadata": {},
   "outputs": [
    {
     "data": {
      "text/plain": [
       "'api/com.oracle.solaris.rad.smf/1.0/Instance/system%2Frad,remote'"
      ]
     },
     "execution_count": 18,
     "metadata": {},
     "output_type": "execute_result"
    }
   ],
   "source": [
    "instance_uri = service_list_df[service_list_df['fmri'].str.contains('rad:remote')]['objectName'].iloc[0]\n",
    "instance_uri"
   ]
  },
  {
   "cell_type": "markdown",
   "metadata": {},
   "source": [
    "Now we can use this to get more information on this instance.\n",
    "\n",
    "First we're going to get more detailed state information of this instance using the `/ex_state` property:"
   ]
  },
  {
   "cell_type": "code",
   "execution_count": 19,
   "metadata": {},
   "outputs": [
    {
     "name": "stdout",
     "output_type": "stream",
     "text": [
      "200 \n",
      "\n",
      "{'status': 'success', 'payload': {'state': 'ONLINE', 'nextState': 'NONE', 'auxstate': 'dependencies_satisfied', 'stime': 1601392157506, 'contractid': 172, 'enabled_state': True, 'enabled_temp': False}}\n"
     ]
    }
   ],
   "source": [
    "service_info = rad_rest_request('GET', s, server_connection_info, '{}/ex_state'.format(instance_uri))\n",
    "service_info_text = json.loads(service_info.text)\n",
    "\n",
    "print(service_info.status_code, '\\n')\n",
    "print(service_info_text)"
   ]
  },
  {
   "cell_type": "markdown",
   "metadata": {},
   "source": [
    "Printing it out so it's more readable:"
   ]
  },
  {
   "cell_type": "code",
   "execution_count": 20,
   "metadata": {},
   "outputs": [
    {
     "name": "stdout",
     "output_type": "stream",
     "text": [
      "state : ONLINE\n",
      "nextState : NONE\n",
      "auxstate : dependencies_satisfied\n",
      "stime : 2020-09-29 17:09:17.506000\n",
      "contractid : 172\n",
      "enabled_state : True\n",
      "enabled_temp : False\n"
     ]
    }
   ],
   "source": [
    "for key, item in service_info_text['payload'].items():\n",
    "    if key == 'stime':\n",
    "        print(key, ':', timestamp_from_solaris_time(item))\n",
    "    else:\n",
    "        print(key, ':', item)"
   ]
  },
  {
   "cell_type": "markdown",
   "metadata": {},
   "source": [
    "We can now use this, taking the DataFrame we created above, add new columns for each of the service datafields and create a new larger table:"
   ]
  },
  {
   "cell_type": "code",
   "execution_count": 21,
   "metadata": {},
   "outputs": [
    {
     "data": {
      "text/html": [
       "<div>\n",
       "<style scoped>\n",
       "    .dataframe tbody tr th:only-of-type {\n",
       "        vertical-align: middle;\n",
       "    }\n",
       "\n",
       "    .dataframe tbody tr th {\n",
       "        vertical-align: top;\n",
       "    }\n",
       "\n",
       "    .dataframe thead th {\n",
       "        text-align: right;\n",
       "    }\n",
       "</style>\n",
       "<table border=\"1\" class=\"dataframe\">\n",
       "  <thead>\n",
       "    <tr style=\"text-align: right;\">\n",
       "      <th></th>\n",
       "      <th>enabled_temp</th>\n",
       "      <th>stime</th>\n",
       "      <th>fmri</th>\n",
       "      <th>auxstate</th>\n",
       "      <th>objectName</th>\n",
       "      <th>nextState</th>\n",
       "      <th>contractid</th>\n",
       "      <th>enabled_state</th>\n",
       "      <th>state</th>\n",
       "    </tr>\n",
       "  </thead>\n",
       "  <tbody>\n",
       "    <tr>\n",
       "      <th>0</th>\n",
       "      <td>NaN</td>\n",
       "      <td>2020-09-29 17:24:24.140</td>\n",
       "      <td>svc:/application/cups/in-lpd:default</td>\n",
       "      <td>NaN</td>\n",
       "      <td>api/com.oracle.solaris.rad.smf/1.0/Instance/ap...</td>\n",
       "      <td>NaN</td>\n",
       "      <td>NaN</td>\n",
       "      <td>NaN</td>\n",
       "      <td>ONLINE</td>\n",
       "    </tr>\n",
       "    <tr>\n",
       "      <th>1</th>\n",
       "      <td>NaN</td>\n",
       "      <td>2020-09-29 15:08:38.664</td>\n",
       "      <td>svc:/application/cups/scheduler:default</td>\n",
       "      <td>NaN</td>\n",
       "      <td>api/com.oracle.solaris.rad.smf/1.0/Instance/ap...</td>\n",
       "      <td>NaN</td>\n",
       "      <td>NaN</td>\n",
       "      <td>NaN</td>\n",
       "      <td>ONLINE</td>\n",
       "    </tr>\n",
       "    <tr>\n",
       "      <th>2</th>\n",
       "      <td>NaN</td>\n",
       "      <td>2020-09-29 15:17:13.844</td>\n",
       "      <td>svc:/application/desktop-cache/desktop-mime-ca...</td>\n",
       "      <td>NaN</td>\n",
       "      <td>api/com.oracle.solaris.rad.smf/1.0/Instance/ap...</td>\n",
       "      <td>NaN</td>\n",
       "      <td>NaN</td>\n",
       "      <td>NaN</td>\n",
       "      <td>ONLINE</td>\n",
       "    </tr>\n",
       "    <tr>\n",
       "      <th>3</th>\n",
       "      <td>NaN</td>\n",
       "      <td>2020-09-29 15:08:38.963</td>\n",
       "      <td>svc:/application/desktop-cache/docbook-dtds-up...</td>\n",
       "      <td>NaN</td>\n",
       "      <td>api/com.oracle.solaris.rad.smf/1.0/Instance/ap...</td>\n",
       "      <td>NaN</td>\n",
       "      <td>NaN</td>\n",
       "      <td>NaN</td>\n",
       "      <td>ONLINE</td>\n",
       "    </tr>\n",
       "    <tr>\n",
       "      <th>4</th>\n",
       "      <td>NaN</td>\n",
       "      <td>2020-09-29 15:17:01.985</td>\n",
       "      <td>svc:/application/desktop-cache/docbook-style-d...</td>\n",
       "      <td>NaN</td>\n",
       "      <td>api/com.oracle.solaris.rad.smf/1.0/Instance/ap...</td>\n",
       "      <td>NaN</td>\n",
       "      <td>NaN</td>\n",
       "      <td>NaN</td>\n",
       "      <td>ONLINE</td>\n",
       "    </tr>\n",
       "  </tbody>\n",
       "</table>\n",
       "</div>"
      ],
      "text/plain": [
       "   enabled_temp                   stime  \\\n",
       "0           NaN 2020-09-29 17:24:24.140   \n",
       "1           NaN 2020-09-29 15:08:38.664   \n",
       "2           NaN 2020-09-29 15:17:13.844   \n",
       "3           NaN 2020-09-29 15:08:38.963   \n",
       "4           NaN 2020-09-29 15:17:01.985   \n",
       "\n",
       "                                                fmri  auxstate  \\\n",
       "0               svc:/application/cups/in-lpd:default       NaN   \n",
       "1            svc:/application/cups/scheduler:default       NaN   \n",
       "2  svc:/application/desktop-cache/desktop-mime-ca...       NaN   \n",
       "3  svc:/application/desktop-cache/docbook-dtds-up...       NaN   \n",
       "4  svc:/application/desktop-cache/docbook-style-d...       NaN   \n",
       "\n",
       "                                          objectName  nextState  contractid  \\\n",
       "0  api/com.oracle.solaris.rad.smf/1.0/Instance/ap...        NaN         NaN   \n",
       "1  api/com.oracle.solaris.rad.smf/1.0/Instance/ap...        NaN         NaN   \n",
       "2  api/com.oracle.solaris.rad.smf/1.0/Instance/ap...        NaN         NaN   \n",
       "3  api/com.oracle.solaris.rad.smf/1.0/Instance/ap...        NaN         NaN   \n",
       "4  api/com.oracle.solaris.rad.smf/1.0/Instance/ap...        NaN         NaN   \n",
       "\n",
       "   enabled_state   state  \n",
       "0            NaN  ONLINE  \n",
       "1            NaN  ONLINE  \n",
       "2            NaN  ONLINE  \n",
       "3            NaN  ONLINE  \n",
       "4            NaN  ONLINE  "
      ]
     },
     "execution_count": 21,
     "metadata": {},
     "output_type": "execute_result"
    }
   ],
   "source": [
    "new_keys = set(service_list_df.columns.tolist() + list(service_info_text['payload'].keys()))\n",
    "\n",
    "service_list_df = service_list_df.reindex(columns = new_keys)\n",
    "service_list_df.head()"
   ]
  },
  {
   "cell_type": "markdown",
   "metadata": {},
   "source": [
    "Now we have the larger table we can walk through each service in the list using its `objectName` and populate the new columns we've just created.\n",
    "\n",
    "**Note:** Some services might throw an error, which you can catch by first checking if the call returns a `Message` key in its response.\n",
    "\n",
    "**Note 2:** We're skipping `stime` because we already have it's value and this saves us converting it again. "
   ]
  },
  {
   "cell_type": "code",
   "execution_count": 22,
   "metadata": {
    "scrolled": true
   },
   "outputs": [
    {
     "name": "stdout",
     "output_type": "stream",
     "text": [
      "Skipping api/com.oracle.solaris.rad.smf/1.0/Instance/system%2Fearly-manifest-import,default\n"
     ]
    },
    {
     "data": {
      "text/html": [
       "<div>\n",
       "<style scoped>\n",
       "    .dataframe tbody tr th:only-of-type {\n",
       "        vertical-align: middle;\n",
       "    }\n",
       "\n",
       "    .dataframe tbody tr th {\n",
       "        vertical-align: top;\n",
       "    }\n",
       "\n",
       "    .dataframe thead th {\n",
       "        text-align: right;\n",
       "    }\n",
       "</style>\n",
       "<table border=\"1\" class=\"dataframe\">\n",
       "  <thead>\n",
       "    <tr style=\"text-align: right;\">\n",
       "      <th></th>\n",
       "      <th>enabled_temp</th>\n",
       "      <th>stime</th>\n",
       "      <th>fmri</th>\n",
       "      <th>auxstate</th>\n",
       "      <th>objectName</th>\n",
       "      <th>nextState</th>\n",
       "      <th>contractid</th>\n",
       "      <th>enabled_state</th>\n",
       "      <th>state</th>\n",
       "    </tr>\n",
       "  </thead>\n",
       "  <tbody>\n",
       "    <tr>\n",
       "      <th>0</th>\n",
       "      <td>False</td>\n",
       "      <td>2020-09-29 17:24:24.140</td>\n",
       "      <td>svc:/application/cups/in-lpd:default</td>\n",
       "      <td>none</td>\n",
       "      <td>api/com.oracle.solaris.rad.smf/1.0/Instance/ap...</td>\n",
       "      <td>NONE</td>\n",
       "      <td>-1.0</td>\n",
       "      <td>True</td>\n",
       "      <td>ONLINE</td>\n",
       "    </tr>\n",
       "    <tr>\n",
       "      <th>1</th>\n",
       "      <td>False</td>\n",
       "      <td>2020-09-29 15:08:38.664</td>\n",
       "      <td>svc:/application/cups/scheduler:default</td>\n",
       "      <td>dependencies_satisfied</td>\n",
       "      <td>api/com.oracle.solaris.rad.smf/1.0/Instance/ap...</td>\n",
       "      <td>NONE</td>\n",
       "      <td>96.0</td>\n",
       "      <td>True</td>\n",
       "      <td>ONLINE</td>\n",
       "    </tr>\n",
       "    <tr>\n",
       "      <th>2</th>\n",
       "      <td>False</td>\n",
       "      <td>2020-09-29 15:17:13.844</td>\n",
       "      <td>svc:/application/desktop-cache/desktop-mime-ca...</td>\n",
       "      <td>dependencies_satisfied</td>\n",
       "      <td>api/com.oracle.solaris.rad.smf/1.0/Instance/ap...</td>\n",
       "      <td>NONE</td>\n",
       "      <td>-1.0</td>\n",
       "      <td>True</td>\n",
       "      <td>ONLINE</td>\n",
       "    </tr>\n",
       "    <tr>\n",
       "      <th>3</th>\n",
       "      <td>False</td>\n",
       "      <td>2020-09-29 15:08:38.963</td>\n",
       "      <td>svc:/application/desktop-cache/docbook-dtds-up...</td>\n",
       "      <td>dependencies_satisfied</td>\n",
       "      <td>api/com.oracle.solaris.rad.smf/1.0/Instance/ap...</td>\n",
       "      <td>NONE</td>\n",
       "      <td>-1.0</td>\n",
       "      <td>True</td>\n",
       "      <td>ONLINE</td>\n",
       "    </tr>\n",
       "    <tr>\n",
       "      <th>4</th>\n",
       "      <td>False</td>\n",
       "      <td>2020-09-29 15:17:01.985</td>\n",
       "      <td>svc:/application/desktop-cache/docbook-style-d...</td>\n",
       "      <td>dependencies_satisfied</td>\n",
       "      <td>api/com.oracle.solaris.rad.smf/1.0/Instance/ap...</td>\n",
       "      <td>NONE</td>\n",
       "      <td>-1.0</td>\n",
       "      <td>True</td>\n",
       "      <td>ONLINE</td>\n",
       "    </tr>\n",
       "  </tbody>\n",
       "</table>\n",
       "</div>"
      ],
      "text/plain": [
       "  enabled_temp                   stime  \\\n",
       "0        False 2020-09-29 17:24:24.140   \n",
       "1        False 2020-09-29 15:08:38.664   \n",
       "2        False 2020-09-29 15:17:13.844   \n",
       "3        False 2020-09-29 15:08:38.963   \n",
       "4        False 2020-09-29 15:17:01.985   \n",
       "\n",
       "                                                fmri                auxstate  \\\n",
       "0               svc:/application/cups/in-lpd:default                    none   \n",
       "1            svc:/application/cups/scheduler:default  dependencies_satisfied   \n",
       "2  svc:/application/desktop-cache/desktop-mime-ca...  dependencies_satisfied   \n",
       "3  svc:/application/desktop-cache/docbook-dtds-up...  dependencies_satisfied   \n",
       "4  svc:/application/desktop-cache/docbook-style-d...  dependencies_satisfied   \n",
       "\n",
       "                                          objectName nextState  contractid  \\\n",
       "0  api/com.oracle.solaris.rad.smf/1.0/Instance/ap...      NONE        -1.0   \n",
       "1  api/com.oracle.solaris.rad.smf/1.0/Instance/ap...      NONE        96.0   \n",
       "2  api/com.oracle.solaris.rad.smf/1.0/Instance/ap...      NONE        -1.0   \n",
       "3  api/com.oracle.solaris.rad.smf/1.0/Instance/ap...      NONE        -1.0   \n",
       "4  api/com.oracle.solaris.rad.smf/1.0/Instance/ap...      NONE        -1.0   \n",
       "\n",
       "  enabled_state   state  \n",
       "0          True  ONLINE  \n",
       "1          True  ONLINE  \n",
       "2          True  ONLINE  \n",
       "3          True  ONLINE  \n",
       "4          True  ONLINE  "
      ]
     },
     "execution_count": 22,
     "metadata": {},
     "output_type": "execute_result"
    }
   ],
   "source": [
    "for loc, service_uri in enumerate(service_list_df['objectName']):\n",
    "    service_info = rad_rest_request('GET', s, server_connection_info, '{}/ex_state'.format(service_uri))\n",
    "    service_info_text = json.loads(service_info.text)\n",
    "    \n",
    "    if 'Message' in service_info_text['payload'].keys():\n",
    "        print('Skipping {}'.format(service_uri))\n",
    "    else:\n",
    "\n",
    "        for key, item in service_info_text['payload'].items():\n",
    "            if key == 'stime':\n",
    "                pass\n",
    "            else:\n",
    "                service_list_df[key].iloc[loc] = item\n",
    "\n",
    "service_list_df.head()"
   ]
  },
  {
   "cell_type": "markdown",
   "metadata": {},
   "source": [
    "Again having this all in a Pandas DataFrame makes it easy to find something complex like for example the `objectName` of the last currently `ONLINE` service to come online:"
   ]
  },
  {
   "cell_type": "code",
   "execution_count": 23,
   "metadata": {},
   "outputs": [
    {
     "data": {
      "text/plain": [
       "'api/com.oracle.solaris.rad.smf/1.0/Instance/system%2Fwebui%2Fserver,default'"
      ]
     },
     "execution_count": 23,
     "metadata": {},
     "output_type": "execute_result"
    }
   ],
   "source": [
    "service_list_df[service_list_df['state'] == 'ONLINE'].sort_values(by=['stime']).iloc[-1].objectName"
   ]
  },
  {
   "cell_type": "markdown",
   "metadata": {},
   "source": [
    "---\n",
    "### Getting the Property Groups and Values\n",
    "\n",
    "Now to switch to looking at the **Property Groups** and **Property Values** of a specific service. The values you get when running `svccfg -s <service-name> listprop`.\n",
    "\n",
    "The service we want to look at is `compliance:default`, the service that allows you schedule Compliance assessments to run at a regular cadence. \n",
    "\n",
    "First looking up the service in the DataFrame:"
   ]
  },
  {
   "cell_type": "code",
   "execution_count": 24,
   "metadata": {},
   "outputs": [
    {
     "data": {
      "text/html": [
       "<div>\n",
       "<style scoped>\n",
       "    .dataframe tbody tr th:only-of-type {\n",
       "        vertical-align: middle;\n",
       "    }\n",
       "\n",
       "    .dataframe tbody tr th {\n",
       "        vertical-align: top;\n",
       "    }\n",
       "\n",
       "    .dataframe thead th {\n",
       "        text-align: right;\n",
       "    }\n",
       "</style>\n",
       "<table border=\"1\" class=\"dataframe\">\n",
       "  <thead>\n",
       "    <tr style=\"text-align: right;\">\n",
       "      <th></th>\n",
       "      <th>enabled_temp</th>\n",
       "      <th>stime</th>\n",
       "      <th>fmri</th>\n",
       "      <th>auxstate</th>\n",
       "      <th>objectName</th>\n",
       "      <th>nextState</th>\n",
       "      <th>contractid</th>\n",
       "      <th>enabled_state</th>\n",
       "      <th>state</th>\n",
       "    </tr>\n",
       "  </thead>\n",
       "  <tbody>\n",
       "    <tr>\n",
       "      <th>28</th>\n",
       "      <td>False</td>\n",
       "      <td>2020-09-29 15:19:48.457</td>\n",
       "      <td>svc:/application/security/compliance:default</td>\n",
       "      <td>none</td>\n",
       "      <td>api/com.oracle.solaris.rad.smf/1.0/Instance/ap...</td>\n",
       "      <td>NONE</td>\n",
       "      <td>-1.0</td>\n",
       "      <td>False</td>\n",
       "      <td>DISABLED</td>\n",
       "    </tr>\n",
       "  </tbody>\n",
       "</table>\n",
       "</div>"
      ],
      "text/plain": [
       "   enabled_temp                   stime  \\\n",
       "28        False 2020-09-29 15:19:48.457   \n",
       "\n",
       "                                            fmri auxstate  \\\n",
       "28  svc:/application/security/compliance:default     none   \n",
       "\n",
       "                                           objectName nextState  contractid  \\\n",
       "28  api/com.oracle.solaris.rad.smf/1.0/Instance/ap...      NONE        -1.0   \n",
       "\n",
       "   enabled_state     state  \n",
       "28         False  DISABLED  "
      ]
     },
     "execution_count": 24,
     "metadata": {},
     "output_type": "execute_result"
    }
   ],
   "source": [
    "service_list_df[service_list_df['fmri'].str.contains('compliance:default')]"
   ]
  },
  {
   "cell_type": "markdown",
   "metadata": {},
   "source": [
    "It's disabled. \n",
    "\n",
    "Now to grab the URI:"
   ]
  },
  {
   "cell_type": "code",
   "execution_count": 25,
   "metadata": {},
   "outputs": [
    {
     "data": {
      "text/plain": [
       "'api/com.oracle.solaris.rad.smf/1.0/Instance/application%2Fsecurity%2Fcompliance,default'"
      ]
     },
     "execution_count": 25,
     "metadata": {},
     "output_type": "execute_result"
    }
   ],
   "source": [
    "instance_uri = service_list_df[service_list_df['fmri'].str.contains('compliance:default')]['objectName'].iloc[0]\n",
    "instance_uri"
   ]
  },
  {
   "cell_type": "markdown",
   "metadata": {},
   "source": [
    "Now we can go an load the **Property Groups**:"
   ]
  },
  {
   "cell_type": "code",
   "execution_count": 26,
   "metadata": {},
   "outputs": [
    {
     "name": "stdout",
     "output_type": "stream",
     "text": [
      "200 \n",
      "\n",
      "{'status': 'success', 'payload': [{'name': 'general', 'type': 'framework', 'flags': 0}, {'name': 'options', 'type': 'application', 'flags': 0}, {'name': 'periodic_restarter', 'type': 'framework', 'flags': 0}, {'name': 'policy', 'type': 'application', 'flags': 0}, {'name': 'restarter', 'type': 'framework', 'flags': 1}, {'name': 'scheduled', 'type': 'schedule', 'flags': 0}, {'name': 'start', 'type': 'method', 'flags': 0}, {'name': 'tm_common_name', 'type': 'template', 'flags': 0}, {'name': 'tm_man_compliance8', 'type': 'template', 'flags': 0}]}\n"
     ]
    },
    {
     "data": {
      "text/html": [
       "<div>\n",
       "<style scoped>\n",
       "    .dataframe tbody tr th:only-of-type {\n",
       "        vertical-align: middle;\n",
       "    }\n",
       "\n",
       "    .dataframe tbody tr th {\n",
       "        vertical-align: top;\n",
       "    }\n",
       "\n",
       "    .dataframe thead th {\n",
       "        text-align: right;\n",
       "    }\n",
       "</style>\n",
       "<table border=\"1\" class=\"dataframe\">\n",
       "  <thead>\n",
       "    <tr style=\"text-align: right;\">\n",
       "      <th></th>\n",
       "      <th>name</th>\n",
       "      <th>type</th>\n",
       "      <th>flags</th>\n",
       "    </tr>\n",
       "  </thead>\n",
       "  <tbody>\n",
       "    <tr>\n",
       "      <th>0</th>\n",
       "      <td>general</td>\n",
       "      <td>framework</td>\n",
       "      <td>0</td>\n",
       "    </tr>\n",
       "    <tr>\n",
       "      <th>1</th>\n",
       "      <td>options</td>\n",
       "      <td>application</td>\n",
       "      <td>0</td>\n",
       "    </tr>\n",
       "    <tr>\n",
       "      <th>2</th>\n",
       "      <td>periodic_restarter</td>\n",
       "      <td>framework</td>\n",
       "      <td>0</td>\n",
       "    </tr>\n",
       "    <tr>\n",
       "      <th>3</th>\n",
       "      <td>policy</td>\n",
       "      <td>application</td>\n",
       "      <td>0</td>\n",
       "    </tr>\n",
       "    <tr>\n",
       "      <th>4</th>\n",
       "      <td>restarter</td>\n",
       "      <td>framework</td>\n",
       "      <td>1</td>\n",
       "    </tr>\n",
       "    <tr>\n",
       "      <th>5</th>\n",
       "      <td>scheduled</td>\n",
       "      <td>schedule</td>\n",
       "      <td>0</td>\n",
       "    </tr>\n",
       "    <tr>\n",
       "      <th>6</th>\n",
       "      <td>start</td>\n",
       "      <td>method</td>\n",
       "      <td>0</td>\n",
       "    </tr>\n",
       "    <tr>\n",
       "      <th>7</th>\n",
       "      <td>tm_common_name</td>\n",
       "      <td>template</td>\n",
       "      <td>0</td>\n",
       "    </tr>\n",
       "    <tr>\n",
       "      <th>8</th>\n",
       "      <td>tm_man_compliance8</td>\n",
       "      <td>template</td>\n",
       "      <td>0</td>\n",
       "    </tr>\n",
       "  </tbody>\n",
       "</table>\n",
       "</div>"
      ],
      "text/plain": [
       "                 name         type  flags\n",
       "0             general    framework      0\n",
       "1             options  application      0\n",
       "2  periodic_restarter    framework      0\n",
       "3              policy  application      0\n",
       "4           restarter    framework      1\n",
       "5           scheduled     schedule      0\n",
       "6               start       method      0\n",
       "7      tm_common_name     template      0\n",
       "8  tm_man_compliance8     template      0"
      ]
     },
     "execution_count": 26,
     "metadata": {},
     "output_type": "execute_result"
    }
   ],
   "source": [
    "service_pgs = rad_rest_request('GET', s, server_connection_info, '{}/pgs'.format(instance_uri))\n",
    "service_pgs_text = json.loads(service_pgs.text)\n",
    "\n",
    "print(service_pgs.status_code, '\\n')\n",
    "print(service_pgs_text)\n",
    "\n",
    "pgs_list_df = pd.DataFrame(service_pgs_text['payload'])\n",
    "pgs_list_df"
   ]
  },
  {
   "cell_type": "markdown",
   "metadata": {},
   "source": [
    "This gives the list of Property Groups, but we're more interested in the Property Values in each group.\n",
    "\n",
    "---\n",
    "### Reading the Property Group Values\n",
    "\n",
    "To retrieve the values of an individual Property Group we can use a **PUT** method and add the name of this group into a list labeled `'pg_names'` in the JSON text we send as part of the **PUT**.\n",
    "\n",
    "For example if we're interested in the values in the `scheduled` Property Group:"
   ]
  },
  {
   "cell_type": "code",
   "execution_count": 27,
   "metadata": {},
   "outputs": [],
   "source": [
    "json_body = {'pg_names': ['scheduled']}"
   ]
  },
  {
   "cell_type": "code",
   "execution_count": 28,
   "metadata": {},
   "outputs": [
    {
     "name": "stdout",
     "output_type": "stream",
     "text": [
      "200 \n",
      "\n",
      "{'status': 'success', 'payload': [{'name': 'scheduled/frequency', 'type': 'INTEGER', 'values': ['1']}, {'name': 'scheduled/interval', 'type': 'ASTRING', 'values': ['week']}, {'name': 'scheduled/modify_authorization', 'type': 'ASTRING', 'values': ['solaris.compliance.assess']}]}\n"
     ]
    },
    {
     "data": {
      "text/html": [
       "<div>\n",
       "<style scoped>\n",
       "    .dataframe tbody tr th:only-of-type {\n",
       "        vertical-align: middle;\n",
       "    }\n",
       "\n",
       "    .dataframe tbody tr th {\n",
       "        vertical-align: top;\n",
       "    }\n",
       "\n",
       "    .dataframe thead th {\n",
       "        text-align: right;\n",
       "    }\n",
       "</style>\n",
       "<table border=\"1\" class=\"dataframe\">\n",
       "  <thead>\n",
       "    <tr style=\"text-align: right;\">\n",
       "      <th></th>\n",
       "      <th>name</th>\n",
       "      <th>type</th>\n",
       "      <th>values</th>\n",
       "    </tr>\n",
       "  </thead>\n",
       "  <tbody>\n",
       "    <tr>\n",
       "      <th>0</th>\n",
       "      <td>scheduled/frequency</td>\n",
       "      <td>INTEGER</td>\n",
       "      <td>[1]</td>\n",
       "    </tr>\n",
       "    <tr>\n",
       "      <th>1</th>\n",
       "      <td>scheduled/interval</td>\n",
       "      <td>ASTRING</td>\n",
       "      <td>[week]</td>\n",
       "    </tr>\n",
       "    <tr>\n",
       "      <th>2</th>\n",
       "      <td>scheduled/modify_authorization</td>\n",
       "      <td>ASTRING</td>\n",
       "      <td>[solaris.compliance.assess]</td>\n",
       "    </tr>\n",
       "  </tbody>\n",
       "</table>\n",
       "</div>"
      ],
      "text/plain": [
       "                             name     type                       values\n",
       "0             scheduled/frequency  INTEGER                          [1]\n",
       "1              scheduled/interval  ASTRING                       [week]\n",
       "2  scheduled/modify_authorization  ASTRING  [solaris.compliance.assess]"
      ]
     },
     "execution_count": 28,
     "metadata": {},
     "output_type": "execute_result"
    }
   ],
   "source": [
    "service_pgval = rad_rest_request('PUT', s, server_connection_info, '{}/_rad_method/readProperties'.format(instance_uri), json_body)\n",
    "service_pgval_text = json.loads(service_pgval.text)\n",
    "\n",
    "print(service_pgval.status_code, '\\n')\n",
    "print(service_pgval_text)\n",
    "\n",
    "pgval_list_df = pd.DataFrame(service_pgval_text['payload'])\n",
    "pgval_list_df"
   ]
  },
  {
   "cell_type": "markdown",
   "metadata": {},
   "source": [
    "Similarly we can get the Property Values for all the Propery Groups currently set by creating a list of all the Property Groups and sending this as part of the JSON text.\n",
    "\n",
    "So first we extract the Property Group names from the DataFrame and put them into JSON:"
   ]
  },
  {
   "cell_type": "code",
   "execution_count": 29,
   "metadata": {},
   "outputs": [
    {
     "data": {
      "text/plain": [
       "{'pg_names': ['general',\n",
       "  'options',\n",
       "  'periodic_restarter',\n",
       "  'policy',\n",
       "  'restarter',\n",
       "  'scheduled',\n",
       "  'start',\n",
       "  'tm_common_name',\n",
       "  'tm_man_compliance8']}"
      ]
     },
     "execution_count": 29,
     "metadata": {},
     "output_type": "execute_result"
    }
   ],
   "source": [
    "json_body = {\"pg_names\": pgs_list_df['name'].to_list()}\n",
    "json_body"
   ]
  },
  {
   "cell_type": "markdown",
   "metadata": {},
   "source": [
    "Then we run the same **PUT** method and get the full list back:"
   ]
  },
  {
   "cell_type": "code",
   "execution_count": 30,
   "metadata": {},
   "outputs": [
    {
     "name": "stdout",
     "output_type": "stream",
     "text": [
      "200 \n",
      "\n",
      "{'status': 'success', 'payload': [{'name': 'general/action_authorization', 'type': 'ASTRING', 'values': ['solaris.smf.manage.compliance']}, {'name': 'general/complete', 'type': 'ASTRING', 'values': []}, {'name': 'general/enabled', 'type': 'BOOLEAN', 'values': ['false']}, {'name': 'general/restarter', 'type': 'FMRI', 'values': ['svc:/system/svc/periodic-restarter:default']}, {'name': 'general/value_authorization', 'type': 'ASTRING', 'values': ['solaris.compliance.assess']}, {'name': 'options/assessment', 'type': 'ASTRING', 'values': ['']}, {'name': 'options/matches', 'type': 'ASTRING', 'values': ['']}, {'name': 'options/store-URI', 'type': 'ASTRING', 'values': ['']}, {'name': 'options/value_authorization', 'type': 'ASTRING', 'values': ['solaris.compliance.assess']}, {'name': 'periodic_restarter/next_run', 'type': 'TIME', 'values': ['1600941026']}, {'name': 'periodic_restarter/scheduled', 'type': 'TIME', 'values': ['0']}, {'name': 'policy/benchmark', 'type': 'ASTRING', 'values': ['solaris']}, {'name': 'policy/profile', 'type': 'ASTRING', 'values': ['Baseline']}, {'name': 'policy/tailoring', 'type': 'ASTRING', 'values': ['']}, {'name': 'policy/value_authorization', 'type': 'ASTRING', 'values': ['solaris.compliance.assess']}, {'name': 'restarter/auxiliary_state', 'type': 'ASTRING', 'values': ['none']}, {'name': 'restarter/logfile', 'type': 'ASTRING', 'values': ['/var/svc/log/application-security-compliance:default.log']}, {'name': 'restarter/next_state', 'type': 'ASTRING', 'values': ['none']}, {'name': 'restarter/state', 'type': 'ASTRING', 'values': ['disabled']}, {'name': 'restarter/state_timestamp', 'type': 'TIME', 'values': ['1601392037.751457000']}, {'name': 'scheduled/frequency', 'type': 'INTEGER', 'values': ['1']}, {'name': 'scheduled/interval', 'type': 'ASTRING', 'values': ['week']}, {'name': 'scheduled/modify_authorization', 'type': 'ASTRING', 'values': ['solaris.compliance.assess']}, {'name': 'start/exec', 'type': 'ASTRING', 'values': ['/usr/bin/compliance assess -q']}, {'name': 'start/timeout_seconds', 'type': 'COUNT', 'values': ['1800']}, {'name': 'start/type', 'type': 'ASTRING', 'values': ['method']}, {'name': 'tm_common_name/C', 'type': 'USTRING', 'values': ['Scheduled compliance assessment']}, {'name': 'tm_man_compliance8/manpath', 'type': 'ASTRING', 'values': ['/usr/share/man']}, {'name': 'tm_man_compliance8/section', 'type': 'ASTRING', 'values': ['8']}, {'name': 'tm_man_compliance8/title', 'type': 'ASTRING', 'values': ['compliance']}]}\n"
     ]
    },
    {
     "data": {
      "text/html": [
       "<div>\n",
       "<style scoped>\n",
       "    .dataframe tbody tr th:only-of-type {\n",
       "        vertical-align: middle;\n",
       "    }\n",
       "\n",
       "    .dataframe tbody tr th {\n",
       "        vertical-align: top;\n",
       "    }\n",
       "\n",
       "    .dataframe thead th {\n",
       "        text-align: right;\n",
       "    }\n",
       "</style>\n",
       "<table border=\"1\" class=\"dataframe\">\n",
       "  <thead>\n",
       "    <tr style=\"text-align: right;\">\n",
       "      <th></th>\n",
       "      <th>name</th>\n",
       "      <th>type</th>\n",
       "      <th>values</th>\n",
       "    </tr>\n",
       "  </thead>\n",
       "  <tbody>\n",
       "    <tr>\n",
       "      <th>0</th>\n",
       "      <td>general/action_authorization</td>\n",
       "      <td>ASTRING</td>\n",
       "      <td>[solaris.smf.manage.compliance]</td>\n",
       "    </tr>\n",
       "    <tr>\n",
       "      <th>1</th>\n",
       "      <td>general/complete</td>\n",
       "      <td>ASTRING</td>\n",
       "      <td>[]</td>\n",
       "    </tr>\n",
       "    <tr>\n",
       "      <th>2</th>\n",
       "      <td>general/enabled</td>\n",
       "      <td>BOOLEAN</td>\n",
       "      <td>[false]</td>\n",
       "    </tr>\n",
       "    <tr>\n",
       "      <th>3</th>\n",
       "      <td>general/restarter</td>\n",
       "      <td>FMRI</td>\n",
       "      <td>[svc:/system/svc/periodic-restarter:default]</td>\n",
       "    </tr>\n",
       "    <tr>\n",
       "      <th>4</th>\n",
       "      <td>general/value_authorization</td>\n",
       "      <td>ASTRING</td>\n",
       "      <td>[solaris.compliance.assess]</td>\n",
       "    </tr>\n",
       "    <tr>\n",
       "      <th>5</th>\n",
       "      <td>options/assessment</td>\n",
       "      <td>ASTRING</td>\n",
       "      <td>[]</td>\n",
       "    </tr>\n",
       "    <tr>\n",
       "      <th>6</th>\n",
       "      <td>options/matches</td>\n",
       "      <td>ASTRING</td>\n",
       "      <td>[]</td>\n",
       "    </tr>\n",
       "    <tr>\n",
       "      <th>7</th>\n",
       "      <td>options/store-URI</td>\n",
       "      <td>ASTRING</td>\n",
       "      <td>[]</td>\n",
       "    </tr>\n",
       "    <tr>\n",
       "      <th>8</th>\n",
       "      <td>options/value_authorization</td>\n",
       "      <td>ASTRING</td>\n",
       "      <td>[solaris.compliance.assess]</td>\n",
       "    </tr>\n",
       "    <tr>\n",
       "      <th>9</th>\n",
       "      <td>periodic_restarter/next_run</td>\n",
       "      <td>TIME</td>\n",
       "      <td>[1600941026]</td>\n",
       "    </tr>\n",
       "    <tr>\n",
       "      <th>10</th>\n",
       "      <td>periodic_restarter/scheduled</td>\n",
       "      <td>TIME</td>\n",
       "      <td>[0]</td>\n",
       "    </tr>\n",
       "    <tr>\n",
       "      <th>11</th>\n",
       "      <td>policy/benchmark</td>\n",
       "      <td>ASTRING</td>\n",
       "      <td>[solaris]</td>\n",
       "    </tr>\n",
       "    <tr>\n",
       "      <th>12</th>\n",
       "      <td>policy/profile</td>\n",
       "      <td>ASTRING</td>\n",
       "      <td>[Baseline]</td>\n",
       "    </tr>\n",
       "    <tr>\n",
       "      <th>13</th>\n",
       "      <td>policy/tailoring</td>\n",
       "      <td>ASTRING</td>\n",
       "      <td>[]</td>\n",
       "    </tr>\n",
       "    <tr>\n",
       "      <th>14</th>\n",
       "      <td>policy/value_authorization</td>\n",
       "      <td>ASTRING</td>\n",
       "      <td>[solaris.compliance.assess]</td>\n",
       "    </tr>\n",
       "    <tr>\n",
       "      <th>15</th>\n",
       "      <td>restarter/auxiliary_state</td>\n",
       "      <td>ASTRING</td>\n",
       "      <td>[none]</td>\n",
       "    </tr>\n",
       "    <tr>\n",
       "      <th>16</th>\n",
       "      <td>restarter/logfile</td>\n",
       "      <td>ASTRING</td>\n",
       "      <td>[/var/svc/log/application-security-compliance:...</td>\n",
       "    </tr>\n",
       "    <tr>\n",
       "      <th>17</th>\n",
       "      <td>restarter/next_state</td>\n",
       "      <td>ASTRING</td>\n",
       "      <td>[none]</td>\n",
       "    </tr>\n",
       "    <tr>\n",
       "      <th>18</th>\n",
       "      <td>restarter/state</td>\n",
       "      <td>ASTRING</td>\n",
       "      <td>[disabled]</td>\n",
       "    </tr>\n",
       "    <tr>\n",
       "      <th>19</th>\n",
       "      <td>restarter/state_timestamp</td>\n",
       "      <td>TIME</td>\n",
       "      <td>[1601392037.751457000]</td>\n",
       "    </tr>\n",
       "    <tr>\n",
       "      <th>20</th>\n",
       "      <td>scheduled/frequency</td>\n",
       "      <td>INTEGER</td>\n",
       "      <td>[1]</td>\n",
       "    </tr>\n",
       "    <tr>\n",
       "      <th>21</th>\n",
       "      <td>scheduled/interval</td>\n",
       "      <td>ASTRING</td>\n",
       "      <td>[week]</td>\n",
       "    </tr>\n",
       "    <tr>\n",
       "      <th>22</th>\n",
       "      <td>scheduled/modify_authorization</td>\n",
       "      <td>ASTRING</td>\n",
       "      <td>[solaris.compliance.assess]</td>\n",
       "    </tr>\n",
       "    <tr>\n",
       "      <th>23</th>\n",
       "      <td>start/exec</td>\n",
       "      <td>ASTRING</td>\n",
       "      <td>[/usr/bin/compliance assess -q]</td>\n",
       "    </tr>\n",
       "    <tr>\n",
       "      <th>24</th>\n",
       "      <td>start/timeout_seconds</td>\n",
       "      <td>COUNT</td>\n",
       "      <td>[1800]</td>\n",
       "    </tr>\n",
       "    <tr>\n",
       "      <th>25</th>\n",
       "      <td>start/type</td>\n",
       "      <td>ASTRING</td>\n",
       "      <td>[method]</td>\n",
       "    </tr>\n",
       "    <tr>\n",
       "      <th>26</th>\n",
       "      <td>tm_common_name/C</td>\n",
       "      <td>USTRING</td>\n",
       "      <td>[Scheduled compliance assessment]</td>\n",
       "    </tr>\n",
       "    <tr>\n",
       "      <th>27</th>\n",
       "      <td>tm_man_compliance8/manpath</td>\n",
       "      <td>ASTRING</td>\n",
       "      <td>[/usr/share/man]</td>\n",
       "    </tr>\n",
       "    <tr>\n",
       "      <th>28</th>\n",
       "      <td>tm_man_compliance8/section</td>\n",
       "      <td>ASTRING</td>\n",
       "      <td>[8]</td>\n",
       "    </tr>\n",
       "    <tr>\n",
       "      <th>29</th>\n",
       "      <td>tm_man_compliance8/title</td>\n",
       "      <td>ASTRING</td>\n",
       "      <td>[compliance]</td>\n",
       "    </tr>\n",
       "  </tbody>\n",
       "</table>\n",
       "</div>"
      ],
      "text/plain": [
       "                              name     type  \\\n",
       "0     general/action_authorization  ASTRING   \n",
       "1                 general/complete  ASTRING   \n",
       "2                  general/enabled  BOOLEAN   \n",
       "3                general/restarter     FMRI   \n",
       "4      general/value_authorization  ASTRING   \n",
       "5               options/assessment  ASTRING   \n",
       "6                  options/matches  ASTRING   \n",
       "7                options/store-URI  ASTRING   \n",
       "8      options/value_authorization  ASTRING   \n",
       "9      periodic_restarter/next_run     TIME   \n",
       "10    periodic_restarter/scheduled     TIME   \n",
       "11                policy/benchmark  ASTRING   \n",
       "12                  policy/profile  ASTRING   \n",
       "13                policy/tailoring  ASTRING   \n",
       "14      policy/value_authorization  ASTRING   \n",
       "15       restarter/auxiliary_state  ASTRING   \n",
       "16               restarter/logfile  ASTRING   \n",
       "17            restarter/next_state  ASTRING   \n",
       "18                 restarter/state  ASTRING   \n",
       "19       restarter/state_timestamp     TIME   \n",
       "20             scheduled/frequency  INTEGER   \n",
       "21              scheduled/interval  ASTRING   \n",
       "22  scheduled/modify_authorization  ASTRING   \n",
       "23                      start/exec  ASTRING   \n",
       "24           start/timeout_seconds    COUNT   \n",
       "25                      start/type  ASTRING   \n",
       "26                tm_common_name/C  USTRING   \n",
       "27      tm_man_compliance8/manpath  ASTRING   \n",
       "28      tm_man_compliance8/section  ASTRING   \n",
       "29        tm_man_compliance8/title  ASTRING   \n",
       "\n",
       "                                               values  \n",
       "0                     [solaris.smf.manage.compliance]  \n",
       "1                                                  []  \n",
       "2                                             [false]  \n",
       "3        [svc:/system/svc/periodic-restarter:default]  \n",
       "4                         [solaris.compliance.assess]  \n",
       "5                                                  []  \n",
       "6                                                  []  \n",
       "7                                                  []  \n",
       "8                         [solaris.compliance.assess]  \n",
       "9                                        [1600941026]  \n",
       "10                                                [0]  \n",
       "11                                          [solaris]  \n",
       "12                                         [Baseline]  \n",
       "13                                                 []  \n",
       "14                        [solaris.compliance.assess]  \n",
       "15                                             [none]  \n",
       "16  [/var/svc/log/application-security-compliance:...  \n",
       "17                                             [none]  \n",
       "18                                         [disabled]  \n",
       "19                             [1601392037.751457000]  \n",
       "20                                                [1]  \n",
       "21                                             [week]  \n",
       "22                        [solaris.compliance.assess]  \n",
       "23                    [/usr/bin/compliance assess -q]  \n",
       "24                                             [1800]  \n",
       "25                                           [method]  \n",
       "26                  [Scheduled compliance assessment]  \n",
       "27                                   [/usr/share/man]  \n",
       "28                                                [8]  \n",
       "29                                       [compliance]  "
      ]
     },
     "execution_count": 30,
     "metadata": {},
     "output_type": "execute_result"
    }
   ],
   "source": [
    "service_pgval = rad_rest_request('PUT', s, server_connection_info, '{}/_rad_method/readProperties'.format(instance_uri), json_body)\n",
    "service_pgval_text = json.loads(service_pgval.text)\n",
    "\n",
    "print(service_pgval.status_code, '\\n')\n",
    "print(service_pgval_text)\n",
    "\n",
    "pgval_list_df = pd.DataFrame(service_pgval_text['payload'])\n",
    "pgval_list_df"
   ]
  },
  {
   "cell_type": "markdown",
   "metadata": {},
   "source": [
    "This is essentially the same as running `svccfg -s compliance:default listprop` on the CLI.\n",
    "\n",
    "---\n",
    "### Setting SMF Properties\n",
    "\n",
    "In our case we're not only interested in looking at the Property Values of an SMF service, but also at how to set them to a different value.\n",
    "\n",
    "To achieve this we use the `/_rad_method/writeProperties` property which calls the RAD method `writeProperties` on the Instance interface using a **PUT** method. Yes, there's a lot of overlapping use of the words *method* and *property* between REST, RAD, and SMF.\n",
    "\n",
    "In any even the URI looks like this:\n",
    "\n",
    "`api/com.oracle.solaris.rad.smf/1.0/Instance/<instance-name>/_rad_method/writeProperties`\n",
    "\n",
    "We'll also need to send the name of the Property Value and the value you want to set it to in a JSON text. So for example if for the `compliance:default` service instance we want to set `scheduled/interval` to `hour` instead of the current value of `week` we'd create a JSON text like this:\n",
    "\n",
    "```\n",
    "{\n",
    "    \"props\": [\n",
    "        {\n",
    "            \"name\": \"scheduled/interval\",\n",
    "            \"type\": \"ASTRING\",\n",
    "            \"values\": [\n",
    "                \"hour\"\n",
    "            ]\n",
    "        }\n",
    "    ]\n",
    "}\n",
    "```\n",
    "\n",
    "And then send it with the URI we've been using up to now:"
   ]
  },
  {
   "cell_type": "code",
   "execution_count": 31,
   "metadata": {},
   "outputs": [],
   "source": [
    "json_body = {'props': [{'name': 'scheduled/interval', 'type': 'ASTRING', 'values': ['hour']}]}"
   ]
  },
  {
   "cell_type": "code",
   "execution_count": 32,
   "metadata": {},
   "outputs": [
    {
     "name": "stdout",
     "output_type": "stream",
     "text": [
      "200 \n",
      "\n",
      "{'status': 'success', 'payload': None}\n"
     ]
    }
   ],
   "source": [
    "service_setval = rad_rest_request('PUT', s, server_connection_info, '{}/_rad_method/writeProperties'.format(instance_uri), json_body)\n",
    "service_setval_text = json.loads(service_setval.text)\n",
    "\n",
    "print(service_setval.status_code, '\\n')\n",
    "print(service_setval_text)"
   ]
  },
  {
   "cell_type": "markdown",
   "metadata": {},
   "source": [
    "This should return the `status` as `success`, which means the value is set.\n",
    "\n",
    "Let quickly check:"
   ]
  },
  {
   "cell_type": "code",
   "execution_count": 33,
   "metadata": {},
   "outputs": [],
   "source": [
    "json_body = {\"pg_names\": [\"scheduled\"]}"
   ]
  },
  {
   "cell_type": "code",
   "execution_count": 34,
   "metadata": {},
   "outputs": [
    {
     "name": "stdout",
     "output_type": "stream",
     "text": [
      "hour\n"
     ]
    }
   ],
   "source": [
    "service_pgval = rad_rest_request('PUT', s, server_connection_info, '{}/_rad_method/readProperties'.format(instance_uri), json_body)\n",
    "service_pgval_text = json.loads(service_pgval.text)\n",
    "\n",
    "print(service_pgval_text['payload'][1]['values'][0])"
   ]
  },
  {
   "cell_type": "markdown",
   "metadata": {},
   "source": [
    "It should show `hour`."
   ]
  },
  {
   "cell_type": "markdown",
   "metadata": {},
   "source": [
    "---\n",
    "### Enabling SMF service\n",
    "\n",
    "Now the value has been changed we may want to turn the `compliance:default` service instance on. We do this by using the `_rad_method/enable` property with the instance URI of the service instance with a **PUT** method. \n",
    "\n",
    "Additionally we'll need to indicate if this service is only temporarily turned on or not with the follwoing JSON text:\n",
    "\n",
    "```\n",
    "{\n",
    "    \"temporary\": false\n",
    "}\n",
    "```\n",
    "\n",
    "Setting the text and turning the service instance on:"
   ]
  },
  {
   "cell_type": "code",
   "execution_count": 35,
   "metadata": {},
   "outputs": [],
   "source": [
    "json_body = {'temporary': False}"
   ]
  },
  {
   "cell_type": "code",
   "execution_count": 36,
   "metadata": {},
   "outputs": [
    {
     "name": "stdout",
     "output_type": "stream",
     "text": [
      "200 \n",
      "\n",
      "{'status': 'success', 'payload': None}\n"
     ]
    }
   ],
   "source": [
    "service_enable = rad_rest_request('PUT', s, server_connection_info, '{}/_rad_method/enable'.format(instance_uri), json_body)\n",
    "service_enable_text = json.loads(service_enable.text)\n",
    "\n",
    "print(service_enable.status_code, '\\n')\n",
    "print(service_enable_text)"
   ]
  },
  {
   "cell_type": "markdown",
   "metadata": {},
   "source": [
    "Again here the `status` should return as `success`.\n",
    "\n",
    "We can quickly check this:"
   ]
  },
  {
   "cell_type": "code",
   "execution_count": 37,
   "metadata": {},
   "outputs": [
    {
     "name": "stdout",
     "output_type": "stream",
     "text": [
      "200 \n",
      "\n",
      "ONLINE\n"
     ]
    }
   ],
   "source": [
    "service_info = rad_rest_request('GET', s, server_connection_info, '{}/ex_state'.format(instance_uri))\n",
    "service_info_text = json.loads(service_info.text)\n",
    "\n",
    "print(service_info.status_code, '\\n')\n",
    "print(service_info_text['payload']['state'])"
   ]
  },
  {
   "cell_type": "markdown",
   "metadata": {},
   "source": [
    "This should return `ONLINE`.\n",
    "\n",
    "---\n",
    "### Disabling SMF service\n",
    "\n",
    "To finish this notebook we'll show how to turn the service off again. This is essentially the same as starting the service but this time using the `_rad_method/disable` property. The rest is all the same:"
   ]
  },
  {
   "cell_type": "code",
   "execution_count": 38,
   "metadata": {},
   "outputs": [],
   "source": [
    "json_body = {'temporary': False}"
   ]
  },
  {
   "cell_type": "code",
   "execution_count": 39,
   "metadata": {},
   "outputs": [
    {
     "name": "stdout",
     "output_type": "stream",
     "text": [
      "200 \n",
      "\n",
      "{'status': 'success', 'payload': None}\n"
     ]
    }
   ],
   "source": [
    "service_enable = rad_rest_request('PUT', s, server_connection_info, '{}/_rad_method/disable'.format(instance_uri), json_body)\n",
    "service_enable_text = json.loads(service_enable.text)\n",
    "\n",
    "print(service_enable.status_code, '\\n')\n",
    "print(service_enable_text)"
   ]
  },
  {
   "cell_type": "markdown",
   "metadata": {},
   "source": [
    "Again look for `success`.\n",
    "\n",
    "And checking it:"
   ]
  },
  {
   "cell_type": "code",
   "execution_count": 40,
   "metadata": {},
   "outputs": [
    {
     "name": "stdout",
     "output_type": "stream",
     "text": [
      "200 \n",
      "\n",
      "DISABLED\n"
     ]
    }
   ],
   "source": [
    "service_info = rad_rest_request('GET', s, server_connection_info, '{}/ex_state'.format(instance_uri))\n",
    "service_info_text = json.loads(service_info.text)\n",
    "\n",
    "print(service_info.status_code, '\\n')\n",
    "print(service_info_text['payload']['state'])"
   ]
  },
  {
   "cell_type": "markdown",
   "metadata": {},
   "source": [
    "`DISABLED` should be what is returned.\n",
    "\n",
    "This brings us to the end of the notebook. \n",
    "\n",
    "---\n",
    "### Putting the Value Back\n",
    "\n",
    "To finish it off completely you can also put the value we changed back to `week`:"
   ]
  },
  {
   "cell_type": "code",
   "execution_count": 41,
   "metadata": {},
   "outputs": [],
   "source": [
    "json_body = {'props': [{'name': 'scheduled/interval', 'type': 'ASTRING', 'values': ['week']}]}"
   ]
  },
  {
   "cell_type": "code",
   "execution_count": 42,
   "metadata": {},
   "outputs": [
    {
     "name": "stdout",
     "output_type": "stream",
     "text": [
      "200 \n",
      "\n",
      "{'status': 'success', 'payload': None}\n"
     ]
    }
   ],
   "source": [
    "service_setval = rad_rest_request('PUT', s, server_connection_info, '{}/_rad_method/writeProperties'.format(instance_uri), json_body)\n",
    "service_setval_text = json.loads(service_setval.text)\n",
    "\n",
    "print(service_setval.status_code, '\\n')\n",
    "print(service_setval_text)"
   ]
  },
  {
   "cell_type": "markdown",
   "metadata": {},
   "source": [
    "---\n",
    "---"
   ]
  },
  {
   "cell_type": "markdown",
   "metadata": {},
   "source": [
    "### SMF URIs Used\n",
    "\n",
    "List of SMF services <br>\n",
    "`https://{{server}}:6788/api/com.oracle.solaris.rad.smf/1.0/Master/instances`\n",
    "<br><br>\n",
    "Get the state of a specific instance<br>\n",
    "`https://{{server}}:6788/api/com.oracle.solaris.rad.smf/1.0/Instance/network%2Fip-interface-management,default/ex_state`\n",
    "<br><br>\n",
    "Get the property groups of an instance<br>\n",
    "`https://{{server}}:6788/api/com.oracle.solaris.rad.smf/1.0/Instance/application%2Fsecurity%2Fcompliance,default/pgs`\n",
    "<br><br>\n",
    "Read the values of the property groups<br>\n",
    "`https://{{server}}:6788/api/com.oracle.solaris.rad.smf/1.0/Instance/application%2Fsecurity%2Fcompliance,default/_rad_method/readProperties`<br>\n",
    "with this body text\n",
    "```\n",
    "{\n",
    "    \"pg_names\": [\n",
    "        \"scheduled\"\n",
    "    ]\n",
    "}\n",
    "```\n",
    "<br><br>\n",
    "Set SMF properties<br>\n",
    "`https://{{server}}:6788/api/com.oracle.solaris.rad.smf/1.0/Instance/application%2Fsecurity%2Fcompliance,default/_rad_method/writeProperties`<br>\n",
    "with this body text\n",
    "```\n",
    "{\n",
    "    \"props\": [\n",
    "        {\n",
    "            \"name\": \"scheduled/interval\",\n",
    "            \"type\": \"ASTRING\",\n",
    "            \"values\": [\n",
    "                \"hour\"\n",
    "            ]\n",
    "        }\n",
    "    ]\n",
    "}\n",
    "```\n",
    "<br><br>\n",
    "Enable SMF service<br>\n",
    "`https://{{server}}:6788/api/com.oracle.solaris.rad.smf/1.0/Instance/application%2Fsecurity%2Fcompliance,default/_rad_method/enable`<br>\n",
    "with this body text\n",
    "```\n",
    "{\n",
    "    \"temporary\": false\n",
    "}\n",
    "```\n",
    "<br><br>\n",
    "Disable SMF service<br>\n",
    "`https://{{server}}:6788/api/com.oracle.solaris.rad.smf/1.0/Instance/application%2Fsecurity%2Fcompliance,default/_rad_method/disable`<br>\n",
    "with this body text\n",
    "```\n",
    "{\n",
    "    \"temporary\": false\n",
    "}\n",
    "```"
   ]
  },
  {
   "cell_type": "code",
   "execution_count": null,
   "metadata": {},
   "outputs": [],
   "source": []
  }
 ],
 "metadata": {
  "kernelspec": {
   "display_name": "oracle-solaris-rest",
   "language": "python",
   "name": "oracle-solaris-rest"
  },
  "language_info": {
   "codemirror_mode": {
    "name": "ipython",
    "version": 3
   },
   "file_extension": ".py",
   "mimetype": "text/x-python",
   "name": "python",
   "nbconvert_exporter": "python",
   "pygments_lexer": "ipython3",
   "version": "3.7.6"
  }
 },
 "nbformat": 4,
 "nbformat_minor": 4
}
