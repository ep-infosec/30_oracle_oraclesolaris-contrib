{
 "cells": [
  {
   "cell_type": "markdown",
   "metadata": {},
   "source": [
    "# Notebook for Working With Oracle Solaris Compliance Through its REST API\n",
    "\n",
    "This Jupyter Notebook is aimed at showing how you can use the REST interface in Oracle Solaris to work with its [Compliance framework](https://docs.oracle.com/cd/E37838_01/html/E61020/cplov-1.html#scrolltoc). The REST API is layered on top of the [Oracle Solaris Remote Administration Deamon (RAD)](https://docs.oracle.com/cd/E37838_01/html/E68270/gpzxz.html#scrolltoc), and gives access to all the RAD modules through REST. This notebook is using Python to run all the tasks. </br></br>\n",
    "In this notebook we'll show how to connect to the REST interface and how to perform the various tasks you can do through REST.\n",
    "\n",
    "> *Note 1* — You'll need to enable the `svc:/system/rad:remote` [service](https://docs.oracle.com/cd/E37838_01/html/E68270/gpzpd.html#scrolltoc) to be able to remotely connect. </br> \n",
    "> *Note 2* — If the server doesn't have a certification signed by a public CA pull in `/etc/certs/localhost/host-ca/hostca.crt` from your server and point to its location in the JSON file below. </br> \n",
    "> *Note 3* — The user you use to connect to the system will need to have either the `Compliance Assessor` or `Compliance Reporter` profiles set to be able perform these tasks. For more info see [the documentation](https://docs.oracle.com/cd/E37838_01/html/E61020/cplcmdpkg.html#OSCPLcplrights).</br>\n",
    "> *Note 4* — This notebook was written with Python 3.7\n",
    "\n",
    "Here are the steps on what to do.\n",
    "\n",
    "## Introduction to the Compliance API\n",
    "\n",
    "The base URI of the Compliance API is: `api/com.oracle.solaris.rad.compliance_mgr/1.0/`\n",
    "\n",
    "The API has three main interfaces:\n",
    "\n",
    "- **Assessment** — URI: `Assessment/` — This allows interaction with the assessments on the system, to get infomation about them, download them, and create and delete them.\n",
    "- **Benchmark** — URI: `Benchmark/` — This allows interaction with the benchmarks on the system, to get information about them and their profiles.\n",
    "- **Tailoring** — URI: `Tailoring/` — This allows interaction with the tailorings on the system, to get information about them, the rules they will test, and the description of the individual rules. This interface can also be used to get info further about profiles and the rules they will test.\n",
    "\n",
    "This notebook will show how to use each of these interfaces in order.\n",
    "\n",
    "---\n",
    "\n",
    "## Imports and Setting Variables\n",
    "\n",
    "First to import all the Python libraries:"
   ]
  },
  {
   "cell_type": "code",
   "execution_count": 1,
   "metadata": {},
   "outputs": [],
   "source": [
    "import requests\n",
    "import json\n",
    "import base64\n",
    "import os\n",
    "import time\n",
    "import pandas as pd"
   ]
  },
  {
   "cell_type": "markdown",
   "metadata": {},
   "source": [
    "Turning off warnings thrown by Python:"
   ]
  },
  {
   "cell_type": "code",
   "execution_count": 2,
   "metadata": {},
   "outputs": [],
   "source": [
    "import warnings\n",
    "warnings.filterwarnings('ignore')"
   ]
  },
  {
   "cell_type": "markdown",
   "metadata": {},
   "source": [
    "---\n",
    "## Base Functions\n",
    "\n",
    "Next we define the base functions used to make the connection with the REST interface. The first is to establish a session, the second is for the regular GET, PUT, POST, and DELETE tasks.\n",
    "\n",
    "The function to establish a session:"
   ]
  },
  {
   "cell_type": "code",
   "execution_count": 3,
   "metadata": {},
   "outputs": [],
   "source": [
    "def rad_rest_login(session_name, server_connection_info, base_authentication_uri):\n",
    "    login_url = 'https://{0}:{1}/{2}'.format(*list(map(server_connection_info.get, ['server_name', 'server_port'])), base_authentication_uri)\n",
    "    print(\"Logging in with this URL: \" + login_url)\n",
    "\n",
    "    try:\n",
    "        response = session_name.post(login_url, json = server_connection_info['config_json'], verify = server_connection_info['cert_location'])\n",
    "    except:\n",
    "        print('no connection')\n",
    "        response = 'empty'\n",
    "    \n",
    "    return response"
   ]
  },
  {
   "cell_type": "markdown",
   "metadata": {},
   "source": [
    "The function to run regular requests:"
   ]
  },
  {
   "cell_type": "code",
   "execution_count": 4,
   "metadata": {},
   "outputs": [],
   "source": [
    "def rad_rest_request(request_type, session_name, server_connection_info, rad_rest_uri, payload = None):\n",
    "    \n",
    "    # Create a list of variables\n",
    "    query_vars = list(map(server_connection_info.get, ['server_name', 'server_port']))\n",
    "    query_vars.append(rad_rest_uri)\n",
    "\n",
    "    # Create query url to be used\n",
    "    query_url = 'https://{0}:{1}/{2}'.format(*query_vars)\n",
    "\n",
    "    response = session_name.request(request_type, query_url, json = payload)\n",
    "    \n",
    "    return response"
   ]
  },
  {
   "cell_type": "markdown",
   "metadata": {},
   "source": [
    "---\n",
    "\n",
    "## Load Remote System Connection Information\n",
    "\n",
    "Now define the location of the remote system connection information:"
   ]
  },
  {
   "cell_type": "code",
   "execution_count": 5,
   "metadata": {},
   "outputs": [],
   "source": [
    "config_filename = '../base_login_info.json'"
   ]
  },
  {
   "cell_type": "markdown",
   "metadata": {},
   "source": [
    "The system specific information is located in a JSON file located in the same directory as the notebook, and is structured like this: </br>\n",
    "\n",
    "```json\n",
    "{\n",
    "    \"server_name\": \"<ip address>\",\n",
    "    \"server_port\": \"<RAD Remote port>\",\n",
    "    \"cert_location\": \"<path_to_cert>\",\n",
    "    \"config_json\": {\n",
    "        \"username\": \"<username>\",\n",
    "        \"password\": \"<password>\",\n",
    "        \"scheme\": \"pam\",\n",
    "        \"preserve\": true,\n",
    "        \"timeout\": -1\n",
    "    }\n",
    "}\n",
    "``` \n",
    "\n",
    "We advise to securely connect to the remote server over https however this will require the use of a certificate, in many cases the remote server will have a certificate signed by a public CA, if so please set `\"cert_location\": true`. If, for example in the case of a demo system, the certificate isn't signed download the `/etc/certs/localhost/host-ca/hostca.crt` file and refer to it's location with `\"cert_location\": \"<path_to_cert>\"`. If you don't want to use a certificate at all set `\"cert_location\": false` instead of the location of the cert file. Note this last option doesn't validate that you're connecting to correct server.\n",
    "\n",
    "Loading this system specific information:"
   ]
  },
  {
   "cell_type": "code",
   "execution_count": 6,
   "metadata": {},
   "outputs": [
    {
     "data": {
      "text/plain": [
       "'t8ldom3.us.oracle.com'"
      ]
     },
     "execution_count": 6,
     "metadata": {},
     "output_type": "execute_result"
    }
   ],
   "source": [
    "if config_filename:\n",
    "    with open(config_filename, 'r') as f:\n",
    "        server_connection_info = json.load(f)\n",
    "        \n",
    "server_connection_info['server_name']"
   ]
  },
  {
   "cell_type": "markdown",
   "metadata": {},
   "source": [
    "---\n",
    "---\n",
    "## Assessments\n",
    "\n",
    "The following section now shows the various commands you can run. First it'll explore the `Assessment/` part of the API, this handles all the things related to the assessments, their info, creation, deletion, etc.\n",
    "\n",
    "Next define the base authentication URI, and the base compiance and assessment URIs:"
   ]
  },
  {
   "cell_type": "code",
   "execution_count": 7,
   "metadata": {},
   "outputs": [],
   "source": [
    "base_authentication_uri = 'api/authentication/1.0/Session/'\n",
    "\n",
    "base_compliance_uri = 'api/com.oracle.solaris.rad.compliance_mgr/1.0/'\n",
    "compliance_assessment_uri = '{}Assessment/'.format(base_compliance_uri)"
   ]
  },
  {
   "cell_type": "markdown",
   "metadata": {},
   "source": [
    "### Logging in and setting up a session\n",
    "\n",
    "First establish the session and bring in the necessary credentials. Note we're printing the results to give a better insight on what's coming back, we won't be doing this for every request just a few to give you a feel:"
   ]
  },
  {
   "cell_type": "code",
   "execution_count": 8,
   "metadata": {},
   "outputs": [
    {
     "name": "stdout",
     "output_type": "stream",
     "text": [
      "Logging in with this URL: https://t8ldom3.us.oracle.com:6788/api/authentication/1.0/Session/\n",
      "201\n",
      "{\n",
      "        \"status\": \"success\",\n",
      "        \"payload\": {\n",
      "                \"href\": \"/api/com.oracle.solaris.rad.authentication/1.0/Session/_rad_reference/3584\"\n",
      "        }\n",
      "}\n"
     ]
    }
   ],
   "source": [
    "s = requests.Session()\n",
    "\n",
    "login_answer = rad_rest_login(s, server_connection_info, base_authentication_uri)\n",
    "\n",
    "# printing the answers coming back to show the proces.\n",
    "print(login_answer.status_code)\n",
    "print(login_answer.text)"
   ]
  },
  {
   "cell_type": "markdown",
   "metadata": {},
   "source": [
    "---\n",
    "### Getting a list of all the current reports on the system\n",
    "\n",
    "Now to get a list of all the current reports on the system, first we query the generic URI which gives back a list of `href` objects. These are the individual report URIs which we can use to get more information about the reports and even to fetch the reports. This is assuming there are already some reports on the system.</br></br>\n",
    "First we fetch the list of reports:"
   ]
  },
  {
   "cell_type": "code",
   "execution_count": 9,
   "metadata": {},
   "outputs": [
    {
     "name": "stdout",
     "output_type": "stream",
     "text": [
      "200 \n",
      "\n",
      "{'status': 'success', 'payload': [{'href': 'api/com.oracle.solaris.rad.compliance_mgr/1.0/Assessment/6b864ff2-eddd-11ea-9126-9d4367ceef56'}, {'href': 'api/com.oracle.solaris.rad.compliance_mgr/1.0/Assessment/0a763c40-edba-11ea-9119-9d4367ceef56'}, {'href': 'api/com.oracle.solaris.rad.compliance_mgr/1.0/Assessment/fdd900fe-edc2-11ea-911d-9d4367ceef56'}, {'href': 'api/com.oracle.solaris.rad.compliance_mgr/1.0/Assessment/a7167964-edb7-11ea-9118-9d4367ceef56'}, {'href': 'api/com.oracle.solaris.rad.compliance_mgr/1.0/Assessment/12da786a-edba-11ea-911a-9d4367ceef56'}, {'href': 'api/com.oracle.solaris.rad.compliance_mgr/1.0/Assessment/6b3d113c-edda-11ea-9124-9d4367ceef56'}, {'href': 'api/com.oracle.solaris.rad.compliance_mgr/1.0/Assessment/70d56ce8-edc6-11ea-911f-9d4367ceef56'}, {'href': 'api/com.oracle.solaris.rad.compliance_mgr/1.0/Assessment/59535fe4-edbc-11ea-911c-9d4367ceef56'}, {'href': 'api/com.oracle.solaris.rad.compliance_mgr/1.0/Assessment/20b38cfe-edb7-11ea-9117-9d4367ceef56'}, {'href': 'api/com.oracle.solaris.rad.compliance_mgr/1.0/Assessment/32eadbbc-edbb-11ea-911b-9d4367ceef56'}, {'href': 'api/com.oracle.solaris.rad.compliance_mgr/1.0/Assessment/9ece4f64-eddc-11ea-9125-9d4367ceef56'}, {'href': 'api/com.oracle.solaris.rad.compliance_mgr/1.0/Assessment/59eb0da6-edc3-11ea-911e-9d4367ceef56'}, {'href': 'api/com.oracle.solaris.rad.compliance_mgr/1.0/Assessment/a28e2f64-edb6-11ea-9112-9d4367ceef56'}, {'href': 'api/com.oracle.solaris.rad.compliance_mgr/1.0/Assessment/1a87f678-edc9-11ea-9122-9d4367ceef56'}, {'href': 'api/com.oracle.solaris.rad.compliance_mgr/1.0/Assessment/21d244aa-edca-11ea-9123-9d4367ceef56'}]}\n"
     ]
    }
   ],
   "source": [
    "query_answer = rad_rest_request('GET', s, server_connection_info, compliance_assessment_uri)\n",
    "query_text = json.loads(query_answer.text)\n",
    "\n",
    "print(query_answer.status_code, '\\n')\n",
    "print(query_text)"
   ]
  },
  {
   "cell_type": "markdown",
   "metadata": {},
   "source": [
    "---\n",
    "Now we have the report URI's we can use these to fetch more information about each URI. This next code runs through the list, pulls out the URI and then uses `/metadata` appended to the end to get extra information about the reports. We've added a `for` loop to iterate through each element in the response and print them out nicely:"
   ]
  },
  {
   "cell_type": "code",
   "execution_count": 10,
   "metadata": {},
   "outputs": [
    {
     "name": "stdout",
     "output_type": "stream",
     "text": [
      "Getting metadata for: 6b864ff2-eddd-11ea-9126-9d4367ceef56\n",
      "Getting metadata for: 0a763c40-edba-11ea-9119-9d4367ceef56\n",
      "Getting metadata for: fdd900fe-edc2-11ea-911d-9d4367ceef56\n",
      "Getting metadata for: a7167964-edb7-11ea-9118-9d4367ceef56\n",
      "Getting metadata for: 12da786a-edba-11ea-911a-9d4367ceef56\n",
      "Getting metadata for: 6b3d113c-edda-11ea-9124-9d4367ceef56\n",
      "Getting metadata for: 70d56ce8-edc6-11ea-911f-9d4367ceef56\n",
      "Getting metadata for: 59535fe4-edbc-11ea-911c-9d4367ceef56\n",
      "Getting metadata for: 20b38cfe-edb7-11ea-9117-9d4367ceef56\n",
      "Getting metadata for: 32eadbbc-edbb-11ea-911b-9d4367ceef56\n",
      "Getting metadata for: 9ece4f64-eddc-11ea-9125-9d4367ceef56\n",
      "Getting metadata for: 59eb0da6-edc3-11ea-911e-9d4367ceef56\n",
      "Getting metadata for: a28e2f64-edb6-11ea-9112-9d4367ceef56\n",
      "Getting metadata for: 1a87f678-edc9-11ea-9122-9d4367ceef56\n",
      "Getting metadata for: 21d244aa-edca-11ea-9123-9d4367ceef56\n",
      "\n",
      "Printing full metadata for: 21d244aa-edca-11ea-9123-9d4367ceef56\n",
      "Name : my_tailoring.2020-09-03,02:44\n",
      "Node : t8ldom3.us.oracle.com\n",
      "Status : Complete\n",
      "Benchmark : solaris\n",
      "Tailoring : my_tailoring\n",
      "UserID : 0\n",
      "UUID : 21d244aa-edca-11ea-9123-9d4367ceef56\n",
      "Timestamp : 2020-09-03T02:57:38\n",
      "Username : root\n",
      "Platform : cpe:/o:oracle:solaris:11\n",
      "Architecture : sun4v\n",
      "\n"
     ]
    }
   ],
   "source": [
    "for element in query_text['payload']:\n",
    "    print('Getting metadata for: {}'.format(element['href'].split('/')[-1]))\n",
    "    element_answer = rad_rest_request('GET', s, server_connection_info, '{}{}/metadata'.format(compliance_assessment_uri, element['href'].split('/')[-1]))\n",
    "    element_text = json.loads(element_answer.text)\n",
    "    \n",
    "print('\\nPrinting full metadata for: {}'.format(element['href'].split('/')[-1]))   \n",
    "for key, item in element_text['payload'].items():\n",
    "    print(key, ':', item)\n",
    "print()"
   ]
  },
  {
   "cell_type": "markdown",
   "metadata": {},
   "source": [
    "---\n",
    "This does the same but now pulls the data into a Pandas dataframe:"
   ]
  },
  {
   "cell_type": "code",
   "execution_count": 11,
   "metadata": {},
   "outputs": [],
   "source": [
    "query_df = pd.DataFrame()\n",
    "for element in query_text['payload']:\n",
    "    element_answer = rad_rest_request('GET', s, server_connection_info, '{}{}/metadata'.format(compliance_assessment_uri, element['href'].split('/')[-1]))\n",
    "    query_series = pd.read_json(element_answer.text)\n",
    "    query_df = query_df.append(query_series['payload'], ignore_index = True) "
   ]
  },
  {
   "cell_type": "markdown",
   "metadata": {},
   "source": [
    "The Pandas dataframe give a nice overview of the assessments:"
   ]
  },
  {
   "cell_type": "code",
   "execution_count": 12,
   "metadata": {},
   "outputs": [
    {
     "data": {
      "text/html": [
       "<div>\n",
       "<style scoped>\n",
       "    .dataframe tbody tr th:only-of-type {\n",
       "        vertical-align: middle;\n",
       "    }\n",
       "\n",
       "    .dataframe tbody tr th {\n",
       "        vertical-align: top;\n",
       "    }\n",
       "\n",
       "    .dataframe thead th {\n",
       "        text-align: right;\n",
       "    }\n",
       "</style>\n",
       "<table border=\"1\" class=\"dataframe\">\n",
       "  <thead>\n",
       "    <tr style=\"text-align: right;\">\n",
       "      <th></th>\n",
       "      <th>Architecture</th>\n",
       "      <th>Benchmark</th>\n",
       "      <th>Name</th>\n",
       "      <th>Node</th>\n",
       "      <th>Platform</th>\n",
       "      <th>Status</th>\n",
       "      <th>Tailoring</th>\n",
       "      <th>Timestamp</th>\n",
       "      <th>UUID</th>\n",
       "      <th>UserID</th>\n",
       "      <th>Username</th>\n",
       "      <th>Profile</th>\n",
       "    </tr>\n",
       "  </thead>\n",
       "  <tbody>\n",
       "    <tr>\n",
       "      <th>0</th>\n",
       "      <td>sun4v</td>\n",
       "      <td>solaris</td>\n",
       "      <td>my_tailoring.2020-09-03,05:03</td>\n",
       "      <td>t8ldom3.us.oracle.com</td>\n",
       "      <td>cpe:/o:oracle:solaris:11</td>\n",
       "      <td>Complete</td>\n",
       "      <td>my_tailoring</td>\n",
       "      <td>2020-09-03T05:03:20</td>\n",
       "      <td>6b864ff2-eddd-11ea-9126-9d4367ceef56</td>\n",
       "      <td>0</td>\n",
       "      <td>root</td>\n",
       "      <td>NaN</td>\n",
       "    </tr>\n",
       "    <tr>\n",
       "      <th>1</th>\n",
       "      <td>sun4v</td>\n",
       "      <td>solaris</td>\n",
       "      <td>my_assessment</td>\n",
       "      <td>t8ldom3.us.oracle.com</td>\n",
       "      <td>cpe:/o:oracle:solaris:11</td>\n",
       "      <td>Complete</td>\n",
       "      <td>NaN</td>\n",
       "      <td>2020-09-03T00:52:05</td>\n",
       "      <td>0a763c40-edba-11ea-9119-9d4367ceef56</td>\n",
       "      <td>0</td>\n",
       "      <td>root</td>\n",
       "      <td>Baseline</td>\n",
       "    </tr>\n",
       "    <tr>\n",
       "      <th>2</th>\n",
       "      <td>sun4v</td>\n",
       "      <td>pci-dss</td>\n",
       "      <td>pci-dss.2020-09-03,01:53</td>\n",
       "      <td>t8ldom3.us.oracle.com</td>\n",
       "      <td>cpe:/o:oracle:solaris:11</td>\n",
       "      <td>Complete</td>\n",
       "      <td>NaN</td>\n",
       "      <td>2020-09-03T02:08:31</td>\n",
       "      <td>fdd900fe-edc2-11ea-911d-9d4367ceef56</td>\n",
       "      <td>0</td>\n",
       "      <td>root</td>\n",
       "      <td>Solaris_PCI-DSS</td>\n",
       "    </tr>\n",
       "    <tr>\n",
       "      <th>3</th>\n",
       "      <td>sun4v</td>\n",
       "      <td>solaris</td>\n",
       "      <td>solaris.Baseline.2020-09-03,00:32</td>\n",
       "      <td>t8ldom3.us.oracle.com</td>\n",
       "      <td>cpe:/o:oracle:solaris:11</td>\n",
       "      <td>Complete</td>\n",
       "      <td>NaN</td>\n",
       "      <td>2020-09-03T00:34:55</td>\n",
       "      <td>a7167964-edb7-11ea-9118-9d4367ceef56</td>\n",
       "      <td>0</td>\n",
       "      <td>root</td>\n",
       "      <td>Baseline</td>\n",
       "    </tr>\n",
       "    <tr>\n",
       "      <th>4</th>\n",
       "      <td>sun4v</td>\n",
       "      <td>solaris</td>\n",
       "      <td>solaris.Baseline.2020-09-03,00:50</td>\n",
       "      <td>t8ldom3.us.oracle.com</td>\n",
       "      <td>cpe:/o:oracle:solaris:11</td>\n",
       "      <td>Complete</td>\n",
       "      <td>NaN</td>\n",
       "      <td>2020-09-03T00:51:33</td>\n",
       "      <td>12da786a-edba-11ea-911a-9d4367ceef56</td>\n",
       "      <td>0</td>\n",
       "      <td>root</td>\n",
       "      <td>Baseline</td>\n",
       "    </tr>\n",
       "    <tr>\n",
       "      <th>5</th>\n",
       "      <td>sun4v</td>\n",
       "      <td>solaris</td>\n",
       "      <td>my_tailoring.2020-09-03,04:41</td>\n",
       "      <td>t8ldom3.us.oracle.com</td>\n",
       "      <td>cpe:/o:oracle:solaris:11</td>\n",
       "      <td>Complete</td>\n",
       "      <td>my_tailoring</td>\n",
       "      <td>2020-09-03T04:54:13</td>\n",
       "      <td>6b3d113c-edda-11ea-9124-9d4367ceef56</td>\n",
       "      <td>0</td>\n",
       "      <td>root</td>\n",
       "      <td>NaN</td>\n",
       "    </tr>\n",
       "    <tr>\n",
       "      <th>6</th>\n",
       "      <td>sun4v</td>\n",
       "      <td>solaris</td>\n",
       "      <td>my_tailoring.2020-09-03,02:18</td>\n",
       "      <td>t8ldom3.us.oracle.com</td>\n",
       "      <td>cpe:/o:oracle:solaris:11</td>\n",
       "      <td>Complete</td>\n",
       "      <td>my_tailoring</td>\n",
       "      <td>2020-09-03T02:31:15</td>\n",
       "      <td>70d56ce8-edc6-11ea-911f-9d4367ceef56</td>\n",
       "      <td>0</td>\n",
       "      <td>root</td>\n",
       "      <td>NaN</td>\n",
       "    </tr>\n",
       "    <tr>\n",
       "      <th>7</th>\n",
       "      <td>sun4v</td>\n",
       "      <td>solaris</td>\n",
       "      <td>my_assessment</td>\n",
       "      <td>t8ldom3.us.oracle.com</td>\n",
       "      <td>cpe:/o:oracle:solaris:11</td>\n",
       "      <td>Complete</td>\n",
       "      <td>NaN</td>\n",
       "      <td>2020-09-03T01:08:37</td>\n",
       "      <td>59535fe4-edbc-11ea-911c-9d4367ceef56</td>\n",
       "      <td>0</td>\n",
       "      <td>root</td>\n",
       "      <td>Baseline</td>\n",
       "    </tr>\n",
       "    <tr>\n",
       "      <th>8</th>\n",
       "      <td>sun4v</td>\n",
       "      <td>solaris</td>\n",
       "      <td>my_assessment</td>\n",
       "      <td>t8ldom3.us.oracle.com</td>\n",
       "      <td>cpe:/o:oracle:solaris:11</td>\n",
       "      <td>Complete</td>\n",
       "      <td>NaN</td>\n",
       "      <td>2020-09-03T00:31:21</td>\n",
       "      <td>20b38cfe-edb7-11ea-9117-9d4367ceef56</td>\n",
       "      <td>0</td>\n",
       "      <td>root</td>\n",
       "      <td>Baseline</td>\n",
       "    </tr>\n",
       "    <tr>\n",
       "      <th>9</th>\n",
       "      <td>sun4v</td>\n",
       "      <td>pci-dss</td>\n",
       "      <td>pci-dss.2020-09-03,00:58</td>\n",
       "      <td>t8ldom3.us.oracle.com</td>\n",
       "      <td>cpe:/o:oracle:solaris:11</td>\n",
       "      <td>Complete</td>\n",
       "      <td>NaN</td>\n",
       "      <td>2020-09-03T01:13:17</td>\n",
       "      <td>32eadbbc-edbb-11ea-911b-9d4367ceef56</td>\n",
       "      <td>0</td>\n",
       "      <td>root</td>\n",
       "      <td>Solaris_PCI-DSS</td>\n",
       "    </tr>\n",
       "    <tr>\n",
       "      <th>10</th>\n",
       "      <td>sun4v</td>\n",
       "      <td>solaris</td>\n",
       "      <td>my_tailoring.2020-09-03,04:57</td>\n",
       "      <td>t8ldom3.us.oracle.com</td>\n",
       "      <td>cpe:/o:oracle:solaris:11</td>\n",
       "      <td>Complete</td>\n",
       "      <td>my_tailoring</td>\n",
       "      <td>2020-09-03T04:59:10</td>\n",
       "      <td>9ece4f64-eddc-11ea-9125-9d4367ceef56</td>\n",
       "      <td>0</td>\n",
       "      <td>root</td>\n",
       "      <td>NaN</td>\n",
       "    </tr>\n",
       "    <tr>\n",
       "      <th>11</th>\n",
       "      <td>sun4v</td>\n",
       "      <td>solaris</td>\n",
       "      <td>my_assessment</td>\n",
       "      <td>t8ldom3.us.oracle.com</td>\n",
       "      <td>cpe:/o:oracle:solaris:11</td>\n",
       "      <td>Complete</td>\n",
       "      <td>NaN</td>\n",
       "      <td>2020-09-03T01:58:45</td>\n",
       "      <td>59eb0da6-edc3-11ea-911e-9d4367ceef56</td>\n",
       "      <td>0</td>\n",
       "      <td>root</td>\n",
       "      <td>Baseline</td>\n",
       "    </tr>\n",
       "    <tr>\n",
       "      <th>12</th>\n",
       "      <td>sun4v</td>\n",
       "      <td>solaris</td>\n",
       "      <td>solaris.Baseline.2020-09-03,00:25</td>\n",
       "      <td>t8ldom3.us.oracle.com</td>\n",
       "      <td>cpe:/o:oracle:solaris:11</td>\n",
       "      <td>Complete</td>\n",
       "      <td>NaN</td>\n",
       "      <td>2020-09-03T00:28:34</td>\n",
       "      <td>a28e2f64-edb6-11ea-9112-9d4367ceef56</td>\n",
       "      <td>0</td>\n",
       "      <td>root</td>\n",
       "      <td>Baseline</td>\n",
       "    </tr>\n",
       "    <tr>\n",
       "      <th>13</th>\n",
       "      <td>sun4v</td>\n",
       "      <td>solaris</td>\n",
       "      <td>solaris.2020-09-03,02:37</td>\n",
       "      <td>t8ldom3.us.oracle.com</td>\n",
       "      <td>cpe:/o:oracle:solaris:11</td>\n",
       "      <td>Complete</td>\n",
       "      <td>NaN</td>\n",
       "      <td>2020-09-03T02:39:51</td>\n",
       "      <td>1a87f678-edc9-11ea-9122-9d4367ceef56</td>\n",
       "      <td>0</td>\n",
       "      <td>root</td>\n",
       "      <td>Baseline</td>\n",
       "    </tr>\n",
       "    <tr>\n",
       "      <th>14</th>\n",
       "      <td>sun4v</td>\n",
       "      <td>solaris</td>\n",
       "      <td>my_tailoring.2020-09-03,02:44</td>\n",
       "      <td>t8ldom3.us.oracle.com</td>\n",
       "      <td>cpe:/o:oracle:solaris:11</td>\n",
       "      <td>Complete</td>\n",
       "      <td>my_tailoring</td>\n",
       "      <td>2020-09-03T02:57:38</td>\n",
       "      <td>21d244aa-edca-11ea-9123-9d4367ceef56</td>\n",
       "      <td>0</td>\n",
       "      <td>root</td>\n",
       "      <td>NaN</td>\n",
       "    </tr>\n",
       "  </tbody>\n",
       "</table>\n",
       "</div>"
      ],
      "text/plain": [
       "   Architecture Benchmark                               Name  \\\n",
       "0         sun4v   solaris      my_tailoring.2020-09-03,05:03   \n",
       "1         sun4v   solaris                      my_assessment   \n",
       "2         sun4v   pci-dss           pci-dss.2020-09-03,01:53   \n",
       "3         sun4v   solaris  solaris.Baseline.2020-09-03,00:32   \n",
       "4         sun4v   solaris  solaris.Baseline.2020-09-03,00:50   \n",
       "5         sun4v   solaris      my_tailoring.2020-09-03,04:41   \n",
       "6         sun4v   solaris      my_tailoring.2020-09-03,02:18   \n",
       "7         sun4v   solaris                      my_assessment   \n",
       "8         sun4v   solaris                      my_assessment   \n",
       "9         sun4v   pci-dss           pci-dss.2020-09-03,00:58   \n",
       "10        sun4v   solaris      my_tailoring.2020-09-03,04:57   \n",
       "11        sun4v   solaris                      my_assessment   \n",
       "12        sun4v   solaris  solaris.Baseline.2020-09-03,00:25   \n",
       "13        sun4v   solaris           solaris.2020-09-03,02:37   \n",
       "14        sun4v   solaris      my_tailoring.2020-09-03,02:44   \n",
       "\n",
       "                     Node                  Platform    Status     Tailoring  \\\n",
       "0   t8ldom3.us.oracle.com  cpe:/o:oracle:solaris:11  Complete  my_tailoring   \n",
       "1   t8ldom3.us.oracle.com  cpe:/o:oracle:solaris:11  Complete           NaN   \n",
       "2   t8ldom3.us.oracle.com  cpe:/o:oracle:solaris:11  Complete           NaN   \n",
       "3   t8ldom3.us.oracle.com  cpe:/o:oracle:solaris:11  Complete           NaN   \n",
       "4   t8ldom3.us.oracle.com  cpe:/o:oracle:solaris:11  Complete           NaN   \n",
       "5   t8ldom3.us.oracle.com  cpe:/o:oracle:solaris:11  Complete  my_tailoring   \n",
       "6   t8ldom3.us.oracle.com  cpe:/o:oracle:solaris:11  Complete  my_tailoring   \n",
       "7   t8ldom3.us.oracle.com  cpe:/o:oracle:solaris:11  Complete           NaN   \n",
       "8   t8ldom3.us.oracle.com  cpe:/o:oracle:solaris:11  Complete           NaN   \n",
       "9   t8ldom3.us.oracle.com  cpe:/o:oracle:solaris:11  Complete           NaN   \n",
       "10  t8ldom3.us.oracle.com  cpe:/o:oracle:solaris:11  Complete  my_tailoring   \n",
       "11  t8ldom3.us.oracle.com  cpe:/o:oracle:solaris:11  Complete           NaN   \n",
       "12  t8ldom3.us.oracle.com  cpe:/o:oracle:solaris:11  Complete           NaN   \n",
       "13  t8ldom3.us.oracle.com  cpe:/o:oracle:solaris:11  Complete           NaN   \n",
       "14  t8ldom3.us.oracle.com  cpe:/o:oracle:solaris:11  Complete  my_tailoring   \n",
       "\n",
       "              Timestamp                                  UUID UserID Username  \\\n",
       "0   2020-09-03T05:03:20  6b864ff2-eddd-11ea-9126-9d4367ceef56      0     root   \n",
       "1   2020-09-03T00:52:05  0a763c40-edba-11ea-9119-9d4367ceef56      0     root   \n",
       "2   2020-09-03T02:08:31  fdd900fe-edc2-11ea-911d-9d4367ceef56      0     root   \n",
       "3   2020-09-03T00:34:55  a7167964-edb7-11ea-9118-9d4367ceef56      0     root   \n",
       "4   2020-09-03T00:51:33  12da786a-edba-11ea-911a-9d4367ceef56      0     root   \n",
       "5   2020-09-03T04:54:13  6b3d113c-edda-11ea-9124-9d4367ceef56      0     root   \n",
       "6   2020-09-03T02:31:15  70d56ce8-edc6-11ea-911f-9d4367ceef56      0     root   \n",
       "7   2020-09-03T01:08:37  59535fe4-edbc-11ea-911c-9d4367ceef56      0     root   \n",
       "8   2020-09-03T00:31:21  20b38cfe-edb7-11ea-9117-9d4367ceef56      0     root   \n",
       "9   2020-09-03T01:13:17  32eadbbc-edbb-11ea-911b-9d4367ceef56      0     root   \n",
       "10  2020-09-03T04:59:10  9ece4f64-eddc-11ea-9125-9d4367ceef56      0     root   \n",
       "11  2020-09-03T01:58:45  59eb0da6-edc3-11ea-911e-9d4367ceef56      0     root   \n",
       "12  2020-09-03T00:28:34  a28e2f64-edb6-11ea-9112-9d4367ceef56      0     root   \n",
       "13  2020-09-03T02:39:51  1a87f678-edc9-11ea-9122-9d4367ceef56      0     root   \n",
       "14  2020-09-03T02:57:38  21d244aa-edca-11ea-9123-9d4367ceef56      0     root   \n",
       "\n",
       "            Profile  \n",
       "0               NaN  \n",
       "1          Baseline  \n",
       "2   Solaris_PCI-DSS  \n",
       "3          Baseline  \n",
       "4          Baseline  \n",
       "5               NaN  \n",
       "6               NaN  \n",
       "7          Baseline  \n",
       "8          Baseline  \n",
       "9   Solaris_PCI-DSS  \n",
       "10              NaN  \n",
       "11         Baseline  \n",
       "12         Baseline  \n",
       "13         Baseline  \n",
       "14              NaN  "
      ]
     },
     "execution_count": 12,
     "metadata": {},
     "output_type": "execute_result"
    }
   ],
   "source": [
    "query_df"
   ]
  },
  {
   "cell_type": "markdown",
   "metadata": {},
   "source": [
    "Once you pull this data into Pandas it becomes very easy to find and select specific assessments by their characteristics, especially at scale.\n",
    "\n",
    "For example if you just want to find the assessments that contain `'solaris.Baseline'` in their name you filter it this way:"
   ]
  },
  {
   "cell_type": "code",
   "execution_count": 13,
   "metadata": {},
   "outputs": [
    {
     "data": {
      "text/html": [
       "<div>\n",
       "<style scoped>\n",
       "    .dataframe tbody tr th:only-of-type {\n",
       "        vertical-align: middle;\n",
       "    }\n",
       "\n",
       "    .dataframe tbody tr th {\n",
       "        vertical-align: top;\n",
       "    }\n",
       "\n",
       "    .dataframe thead th {\n",
       "        text-align: right;\n",
       "    }\n",
       "</style>\n",
       "<table border=\"1\" class=\"dataframe\">\n",
       "  <thead>\n",
       "    <tr style=\"text-align: right;\">\n",
       "      <th></th>\n",
       "      <th>Architecture</th>\n",
       "      <th>Benchmark</th>\n",
       "      <th>Name</th>\n",
       "      <th>Node</th>\n",
       "      <th>Platform</th>\n",
       "      <th>Status</th>\n",
       "      <th>Tailoring</th>\n",
       "      <th>Timestamp</th>\n",
       "      <th>UUID</th>\n",
       "      <th>UserID</th>\n",
       "      <th>Username</th>\n",
       "      <th>Profile</th>\n",
       "    </tr>\n",
       "  </thead>\n",
       "  <tbody>\n",
       "    <tr>\n",
       "      <th>3</th>\n",
       "      <td>sun4v</td>\n",
       "      <td>solaris</td>\n",
       "      <td>solaris.Baseline.2020-09-03,00:32</td>\n",
       "      <td>t8ldom3.us.oracle.com</td>\n",
       "      <td>cpe:/o:oracle:solaris:11</td>\n",
       "      <td>Complete</td>\n",
       "      <td>NaN</td>\n",
       "      <td>2020-09-03T00:34:55</td>\n",
       "      <td>a7167964-edb7-11ea-9118-9d4367ceef56</td>\n",
       "      <td>0</td>\n",
       "      <td>root</td>\n",
       "      <td>Baseline</td>\n",
       "    </tr>\n",
       "    <tr>\n",
       "      <th>4</th>\n",
       "      <td>sun4v</td>\n",
       "      <td>solaris</td>\n",
       "      <td>solaris.Baseline.2020-09-03,00:50</td>\n",
       "      <td>t8ldom3.us.oracle.com</td>\n",
       "      <td>cpe:/o:oracle:solaris:11</td>\n",
       "      <td>Complete</td>\n",
       "      <td>NaN</td>\n",
       "      <td>2020-09-03T00:51:33</td>\n",
       "      <td>12da786a-edba-11ea-911a-9d4367ceef56</td>\n",
       "      <td>0</td>\n",
       "      <td>root</td>\n",
       "      <td>Baseline</td>\n",
       "    </tr>\n",
       "    <tr>\n",
       "      <th>12</th>\n",
       "      <td>sun4v</td>\n",
       "      <td>solaris</td>\n",
       "      <td>solaris.Baseline.2020-09-03,00:25</td>\n",
       "      <td>t8ldom3.us.oracle.com</td>\n",
       "      <td>cpe:/o:oracle:solaris:11</td>\n",
       "      <td>Complete</td>\n",
       "      <td>NaN</td>\n",
       "      <td>2020-09-03T00:28:34</td>\n",
       "      <td>a28e2f64-edb6-11ea-9112-9d4367ceef56</td>\n",
       "      <td>0</td>\n",
       "      <td>root</td>\n",
       "      <td>Baseline</td>\n",
       "    </tr>\n",
       "  </tbody>\n",
       "</table>\n",
       "</div>"
      ],
      "text/plain": [
       "   Architecture Benchmark                               Name  \\\n",
       "3         sun4v   solaris  solaris.Baseline.2020-09-03,00:32   \n",
       "4         sun4v   solaris  solaris.Baseline.2020-09-03,00:50   \n",
       "12        sun4v   solaris  solaris.Baseline.2020-09-03,00:25   \n",
       "\n",
       "                     Node                  Platform    Status Tailoring  \\\n",
       "3   t8ldom3.us.oracle.com  cpe:/o:oracle:solaris:11  Complete       NaN   \n",
       "4   t8ldom3.us.oracle.com  cpe:/o:oracle:solaris:11  Complete       NaN   \n",
       "12  t8ldom3.us.oracle.com  cpe:/o:oracle:solaris:11  Complete       NaN   \n",
       "\n",
       "              Timestamp                                  UUID UserID Username  \\\n",
       "3   2020-09-03T00:34:55  a7167964-edb7-11ea-9118-9d4367ceef56      0     root   \n",
       "4   2020-09-03T00:51:33  12da786a-edba-11ea-911a-9d4367ceef56      0     root   \n",
       "12  2020-09-03T00:28:34  a28e2f64-edb6-11ea-9112-9d4367ceef56      0     root   \n",
       "\n",
       "     Profile  \n",
       "3   Baseline  \n",
       "4   Baseline  \n",
       "12  Baseline  "
      ]
     },
     "execution_count": 13,
     "metadata": {},
     "output_type": "execute_result"
    }
   ],
   "source": [
    "query_df[query_df['Name'].str.contains('solaris.Baseline')]"
   ]
  },
  {
   "cell_type": "markdown",
   "metadata": {},
   "source": [
    "This you could use any value in the table to search on or sort the data with.\n",
    "\n",
    "---\n",
    "Next we use one of the reports — the one that happens to be the first in the list — and use the `/contents` method to fetch the full report for this assessment. The full report contains `report.html`, `state`, `log`, and `results.xccdf.xml` as individual elements, we first have to decode it from the `base64` encoding it's in and can then save the file to disk in the `assessments` directory. For connvenience we're creating a subdirectory named after the assessment's UUID:"
   ]
  },
  {
   "cell_type": "code",
   "execution_count": 14,
   "metadata": {},
   "outputs": [
    {
     "name": "stdout",
     "output_type": "stream",
     "text": [
      "getting the report for 6b864ff2-eddd-11ea-9126-9d4367ceef56:\n",
      "Saving report.html\n",
      "Saving state\n",
      "Saving log\n",
      "Saving results.xccdf.xml\n"
     ]
    }
   ],
   "source": [
    "test_assessment = query_text['payload'][0]['href'].split('/')[-1]\n",
    "print('getting the report for {}:'.format(test_assessment))\n",
    "report_answer = rad_rest_request('GET', s, server_connection_info, '{}{}/contents'.format(compliance_assessment_uri, test_assessment))\n",
    "report_text = json.loads(report_answer.text)\n",
    "\n",
    "assessment_path = 'assessments/{}'.format(test_assessment)\n",
    "os.makedirs(assessment_path, exist_ok = True)\n",
    "\n",
    "for key in report_text['payload']:\n",
    "    print('Saving {}'.format(key))\n",
    "    file_name = '{}/{}'.format(assessment_path, key)\n",
    "    with open(file_name, 'wb') as file:\n",
    "        file.write(base64.b64decode(report_text['payload'][key]))"
   ]
  },
  {
   "cell_type": "markdown",
   "metadata": {},
   "source": [
    "This an easy way of pulling across the reports you're looking for over REST.\n",
    "\n",
    "---\n",
    "\n",
    "### Starting a new assessment\n",
    "\n",
    "This section shows how to kick off a new compliance assessment. \n",
    "\n",
    "* first this happens with a `POST` command to create the assessment \n",
    "* we pull in the UUID of the new assessment\n",
    "* then we check if it was created successfully\n",
    "* and then there’s a `PUT` command to set it’s state to `“AS_RUNNING”`\n",
    "* once this has been set the compliance assessment will start and we can track it's progress\n",
    "\n",
    "---\n",
    "\n",
    "In case we want to use the current datetime in the assessment name we create a function that can generate it:"
   ]
  },
  {
   "cell_type": "code",
   "execution_count": 15,
   "metadata": {},
   "outputs": [],
   "source": [
    "def get_time_stamp():\n",
    "    time_zone = timezone(timedelta(hours = -7))\n",
    "    return datetime.now(tz = time_zone).strftime('%Y-%m-%d,%H:%M')"
   ]
  },
  {
   "cell_type": "markdown",
   "metadata": {},
   "source": [
    "Generating a dict with the benchmark, profile, and name for the assessment:"
   ]
  },
  {
   "cell_type": "code",
   "execution_count": 16,
   "metadata": {},
   "outputs": [
    {
     "data": {
      "text/plain": [
       "{'tailoring': 'my_tailoring', 'name': 'my_assessment'}"
      ]
     },
     "execution_count": 16,
     "metadata": {},
     "output_type": "execute_result"
    }
   ],
   "source": [
    "benchmark = 'solaris'\n",
    "profile = 'Baseline'\n",
    "tailoring = 'my_tailoring'\n",
    "\n",
    "# the option to choose the assessment name\n",
    "name = 'my_assessment'\n",
    "# name = '{}.{}.{}'.format(benchmark, profile, get_time_stamp())\n",
    "\n",
    "json_body = {'tailoring' : tailoring, 'name': name}\n",
    "# json_body = {'benchmark': benchmark , 'profile' : profile, 'name': name}\n",
    "json_body"
   ]
  },
  {
   "cell_type": "markdown",
   "metadata": {},
   "source": [
    "---\n",
    "Now we use a `POST` command to create the assessment. In return we receive the `href` reference for the newly created assessment."
   ]
  },
  {
   "cell_type": "code",
   "execution_count": 17,
   "metadata": {},
   "outputs": [
    {
     "name": "stdout",
     "output_type": "stream",
     "text": [
      "201\n",
      "{'status': 'success', 'payload': {'href': '/api/com.oracle.solaris.rad.compliance_mgr/1.0/Assessment/_rad_reference/6145'}}\n",
      "api/com.oracle.solaris.rad.compliance_mgr/1.0/Assessment/_rad_reference/6145\n"
     ]
    }
   ],
   "source": [
    "post_response = rad_rest_request('POST', s, server_connection_info, compliance_assessment_uri, json_body)\n",
    "post_response_text = json.loads(post_response.text)\n",
    "post_response_uri = post_response_text['payload']['href'][1:]\n",
    "\n",
    "print(post_response.status_code)\n",
    "print(post_response_text)\n",
    "print(post_response_uri)"
   ]
  },
  {
   "cell_type": "markdown",
   "metadata": {},
   "source": [
    "---\n",
    "We can now fetch the assessment UUID by using this `href` reference. We want to do this because the reference is temporary where the UUID is fixed."
   ]
  },
  {
   "cell_type": "code",
   "execution_count": 18,
   "metadata": {},
   "outputs": [
    {
     "name": "stdout",
     "output_type": "stream",
     "text": [
      "{'status': 'success', 'payload': '50609b94-eed5-11ea-913a-9d4367ceef56'}\n",
      "api/com.oracle.solaris.rad.compliance_mgr/1.0/Assessment/50609b94-eed5-11ea-913a-9d4367ceef56\n"
     ]
    }
   ],
   "source": [
    "request_uuid = json.loads(rad_rest_request('GET', s, server_connection_info, '{}/uuid'.format(post_response_uri)).text)\n",
    "print(request_uuid)\n",
    "\n",
    "post_response_uuid = '{}{}'.format(compliance_assessment_uri, request_uuid['payload'])\n",
    "print(post_response_uuid)"
   ]
  },
  {
   "cell_type": "markdown",
   "metadata": {},
   "source": [
    "---\n",
    "Once we have the tthe assessment UUID we can check it's current state, this should be `\"As_CREATING\"`:"
   ]
  },
  {
   "cell_type": "code",
   "execution_count": 19,
   "metadata": {},
   "outputs": [
    {
     "name": "stdout",
     "output_type": "stream",
     "text": [
      "{'status': 'success', 'payload': 'AS_CREATING'}\n"
     ]
    }
   ],
   "source": [
    "get_state = rad_rest_request('GET', s, server_connection_info, '{}/state'.format(post_response_uuid))\n",
    "\n",
    "print(json.loads(get_state.text))"
   ]
  },
  {
   "cell_type": "markdown",
   "metadata": {},
   "source": [
    "---\n",
    "To now start the assessment we set it's state to `\"AS_RUNNING\"`. Note this is to the same `/state` URI, but this time instead of using `GET` we're using `PUT`:"
   ]
  },
  {
   "cell_type": "code",
   "execution_count": 20,
   "metadata": {},
   "outputs": [
    {
     "name": "stdout",
     "output_type": "stream",
     "text": [
      "200\n",
      "{'status': 'success', 'payload': 'AS_RUNNING'}\n"
     ]
    }
   ],
   "source": [
    "json_body_running = {\"value\": 'AS_RUNNING'}\n",
    "\n",
    "put_response = rad_rest_request('PUT', s, server_connection_info, '{}/state'.format(post_response_uuid), json_body_running)\n",
    "print(put_response.status_code)\n",
    "print(json.loads(put_response.text))"
   ]
  },
  {
   "cell_type": "markdown",
   "metadata": {},
   "source": [
    "---\n",
    "The assessment should now be running we can check this with this loop. Currently the status isn't refreshed for the running session so we start a new session and run the loop:"
   ]
  },
  {
   "cell_type": "code",
   "execution_count": 21,
   "metadata": {},
   "outputs": [
    {
     "name": "stdout",
     "output_type": "stream",
     "text": [
      "Logging in with this URL: https://t8ldom3.us.oracle.com:6788/api/authentication/1.0/Session/\n",
      "Running\n",
      "Logging in with this URL: https://t8ldom3.us.oracle.com:6788/api/authentication/1.0/Session/\n",
      "Running\n",
      "Logging in with this URL: https://t8ldom3.us.oracle.com:6788/api/authentication/1.0/Session/\n",
      "Complete\n",
      "done\n"
     ]
    }
   ],
   "source": [
    "while True:\n",
    "    s = requests.Session()\n",
    "    login_again = rad_rest_login(s, server_connection_info, base_authentication_uri)\n",
    "    \n",
    "    my_list = rad_rest_request('GET', s, server_connection_info, '{}/metadata'.format(post_response_uuid))\n",
    "    my_text = json.loads(my_list.text)\n",
    "    print(my_text['payload']['Status'])\n",
    "    if my_text['payload']['Status'] != 'Running':\n",
    "        print('done')\n",
    "        break\n",
    "    time.sleep(15)"
   ]
  },
  {
   "cell_type": "markdown",
   "metadata": {},
   "source": [
    "---\n",
    "### Deleting an assessment\n",
    "\n",
    "This section shows how to delete an assessment. \n",
    "\n",
    "First we take the UUID of the report we just created:"
   ]
  },
  {
   "cell_type": "code",
   "execution_count": 22,
   "metadata": {},
   "outputs": [],
   "source": [
    "assessment_uuid = request_uuid['payload']"
   ]
  },
  {
   "cell_type": "markdown",
   "metadata": {},
   "source": [
    "Then we run the `DELETE` commannd:"
   ]
  },
  {
   "cell_type": "code",
   "execution_count": 23,
   "metadata": {},
   "outputs": [
    {
     "name": "stdout",
     "output_type": "stream",
     "text": [
      "200\n",
      "{'status': 'success', 'payload': None}\n"
     ]
    }
   ],
   "source": [
    "delete_response = rad_rest_request('DELETE', s, server_connection_info, '{}{}'.format(compliance_assessment_uri, assessment_uuid))\n",
    "\n",
    "print(delete_response.status_code)\n",
    "print(json.loads(delete_response.text))"
   ]
  },
  {
   "cell_type": "markdown",
   "metadata": {},
   "source": [
    "---\n",
    "---\n",
    "\n",
    "## Benchmarks\n",
    "\n",
    "The next sections will go into the `Benchmark/` part of the REST API.\n",
    "\n",
    "First we set the new URI for this part of the API:"
   ]
  },
  {
   "cell_type": "code",
   "execution_count": 24,
   "metadata": {},
   "outputs": [
    {
     "data": {
      "text/plain": [
       "'api/com.oracle.solaris.rad.compliance_mgr/1.0/Benchmark/'"
      ]
     },
     "execution_count": 24,
     "metadata": {},
     "output_type": "execute_result"
    }
   ],
   "source": [
    "compliance_benchmark_uri = '{}Benchmark/'.format(base_compliance_uri)\n",
    "compliance_benchmark_uri"
   ]
  },
  {
   "cell_type": "markdown",
   "metadata": {},
   "source": [
    "---\n",
    "The following command will allow you to get the available benchmarks on the system."
   ]
  },
  {
   "cell_type": "code",
   "execution_count": 25,
   "metadata": {},
   "outputs": [
    {
     "name": "stdout",
     "output_type": "stream",
     "text": [
      "200\n",
      "{'status': 'success', 'payload': [{'href': 'api/com.oracle.solaris.rad.compliance_mgr/1.0/Benchmark/pci-dss'}, {'href': 'api/com.oracle.solaris.rad.compliance_mgr/1.0/Benchmark/solaris'}]}\n"
     ]
    }
   ],
   "source": [
    "benchmark_get = rad_rest_request('GET', s, server_connection_info, '{}'.format(compliance_benchmark_uri))\n",
    "benchmark_list = json.loads(benchmark_get.text)\n",
    "\n",
    "print(benchmark_get.status_code)\n",
    "print(benchmark_list)"
   ]
  },
  {
   "cell_type": "markdown",
   "metadata": {},
   "source": [
    "---\n",
    "Next we explore the information linked to these benchmarks: `/name`, `/title`, `/profiles`"
   ]
  },
  {
   "cell_type": "code",
   "execution_count": 26,
   "metadata": {},
   "outputs": [
    {
     "name": "stdout",
     "output_type": "stream",
     "text": [
      "api/com.oracle.solaris.rad.compliance_mgr/1.0/Benchmark/pci-dss\n",
      "{'status': 'success', 'payload': 'pci-dss'}\n",
      "{'status': 'success', 'payload': 'PCI-DSS Security/Compliance benchmark for Oracle Solaris'}\n",
      "{'status': 'success', 'payload': ['Solaris_PCI-DSS']}\n",
      "api/com.oracle.solaris.rad.compliance_mgr/1.0/Benchmark/solaris\n",
      "{'status': 'success', 'payload': 'solaris'}\n",
      "{'status': 'success', 'payload': 'Oracle Solaris Security Policy'}\n",
      "{'status': 'success', 'payload': ['Baseline', 'Recommended']}\n"
     ]
    }
   ],
   "source": [
    "for benchmark_uri in benchmark_list['payload']:\n",
    "    print(benchmark_uri['href'])\n",
    "    benchmark_name = json.loads(rad_rest_request('GET', s, server_connection_info, '{}/name'.format(benchmark_uri['href'])).text)\n",
    "    print(benchmark_name)\n",
    "    benchmark_title = json.loads(rad_rest_request('GET', s, server_connection_info, '{}/title'.format(benchmark_uri['href'])).text)\n",
    "    print(benchmark_title)\n",
    "    benchmark_profiles = json.loads(rad_rest_request('GET', s, server_connection_info, '{}/profiles'.format(benchmark_uri['href'])).text)\n",
    "    print(benchmark_profiles)"
   ]
  },
  {
   "cell_type": "markdown",
   "metadata": {},
   "source": [
    "---\n",
    "---\n",
    "\n",
    "## Tailoring\n",
    "\n",
    "The `Tailoring/` API is closely related to the `Benchmark/` API. With this API you can find out if there are tailorings on the system and if so what they  are called and how they are tailored. I.e. which rules are set for this tailoring. Incidentally you can also use this API to find the way the predefined profiles are set.\n",
    "\n",
    "First we set the tailoring URI:"
   ]
  },
  {
   "cell_type": "code",
   "execution_count": 27,
   "metadata": {},
   "outputs": [
    {
     "data": {
      "text/plain": [
       "'api/com.oracle.solaris.rad.compliance_mgr/1.0/Tailoring/'"
      ]
     },
     "execution_count": 27,
     "metadata": {},
     "output_type": "execute_result"
    }
   ],
   "source": [
    "compliance_tailoring_uri = '{}Tailoring/'.format(base_compliance_uri)\n",
    "compliance_tailoring_uri"
   ]
  },
  {
   "cell_type": "markdown",
   "metadata": {},
   "source": [
    "---\n",
    "Then we get the list of available tailorings:"
   ]
  },
  {
   "cell_type": "code",
   "execution_count": 28,
   "metadata": {},
   "outputs": [
    {
     "name": "stdout",
     "output_type": "stream",
     "text": [
      "200\n",
      "{'status': 'success', 'payload': [{'href': 'api/com.oracle.solaris.rad.compliance_mgr/1.0/Tailoring/my_tailoring'}]}\n"
     ]
    }
   ],
   "source": [
    "tailoring_get = rad_rest_request('GET', s, server_connection_info, '{}'.format(compliance_tailoring_uri))\n",
    "\n",
    "print(tailoring_get.status_code)\n",
    "tailoring_list = json.loads(tailoring_get.text)\n",
    "print(tailoring_list)"
   ]
  },
  {
   "cell_type": "markdown",
   "metadata": {},
   "source": [
    "---\n",
    "We can now use this to get the full list of rules asigned to this tailoring:"
   ]
  },
  {
   "cell_type": "code",
   "execution_count": 29,
   "metadata": {},
   "outputs": [
    {
     "name": "stdout",
     "output_type": "stream",
     "text": [
      "api/com.oracle.solaris.rad.compliance_mgr/1.0/Tailoring/my_tailoring\n"
     ]
    }
   ],
   "source": [
    "tailoring_dfs = {}\n",
    "\n",
    "for tailoring in tailoring_list['payload']:\n",
    "    print(tailoring['href'])\n",
    "    json_tailoring = {'tailoring': tailoring['href']}\n",
    "    tailoring_description = json.loads(rad_rest_request('PUT', s, server_connection_info, \n",
    "                                                        '{}{}/_rad_method/get_descriptions'.format(compliance_benchmark_uri, 'solaris'), \n",
    "                                                        json_tailoring).text)\n",
    "#     print(tailoring_description)\n",
    "    tailoring_dfs[tailoring['href'].split('/')[-1]] = pd.DataFrame(tailoring_description['payload'])"
   ]
  },
  {
   "cell_type": "markdown",
   "metadata": {},
   "source": [
    "---\n",
    "\n",
    "Because there can be multiple tailorings on the system, I've put the dataframes inside a dict:"
   ]
  },
  {
   "cell_type": "code",
   "execution_count": 30,
   "metadata": {},
   "outputs": [
    {
     "data": {
      "text/plain": [
       "dict_keys(['my_tailoring'])"
      ]
     },
     "execution_count": 30,
     "metadata": {},
     "output_type": "execute_result"
    }
   ],
   "source": [
    "tailoring_dfs.keys()"
   ]
  },
  {
   "cell_type": "markdown",
   "metadata": {},
   "source": [
    "Now we can look at the first five rules for each tailoring:"
   ]
  },
  {
   "cell_type": "code",
   "execution_count": 31,
   "metadata": {},
   "outputs": [
    {
     "name": "stdout",
     "output_type": "stream",
     "text": [
      "      ruleid                                             title  \\\n",
      "0  OSC-54005                     Package integrity is verified   \n",
      "1  OSC-53005                         The OS version is current   \n",
      "2  OSC-53015                  Required CVE fixes are installed   \n",
      "3  OSC-53505  Package signature checking is globally activated   \n",
      "4  OSC-16005                     All local filesystems are ZFS   \n",
      "\n",
      "                                         description  \n",
      "0  Run 'pkg verify' to check that\\n        all in...  \n",
      "1  Systems should be kept up to date to ensure\\n ...  \n",
      "2  For the set of packages present on the system ...  \n",
      "3  Package signature checking should be globally ...  \n",
      "4  ZFS is the default filesystem for Oracle Solar...  \n"
     ]
    }
   ],
   "source": [
    "for item in tailoring_dfs.keys():\n",
    "    print(tailoring_dfs[item].head())"
   ]
  },
  {
   "cell_type": "markdown",
   "metadata": {},
   "source": [
    "---\n",
    "Finally we can also use this API to get the list of rules set for the built-in profiles and pull into a Pandas dataframe:"
   ]
  },
  {
   "cell_type": "code",
   "execution_count": 32,
   "metadata": {},
   "outputs": [],
   "source": [
    "profile_description = json.loads(rad_rest_request('PUT', s, server_connection_info, \n",
    "                                                  '{}{}/_rad_method/get_descriptions'.format(compliance_benchmark_uri, 'solaris'), \n",
    "                                                  {'tailoring': 'Baseline'}).text)\n",
    "\n",
    "profile_df = pd.DataFrame(profile_description['payload'])"
   ]
  },
  {
   "cell_type": "markdown",
   "metadata": {},
   "source": [
    "Showing the newly created dataframe:"
   ]
  },
  {
   "cell_type": "code",
   "execution_count": 33,
   "metadata": {},
   "outputs": [
    {
     "data": {
      "text/html": [
       "<div>\n",
       "<style scoped>\n",
       "    .dataframe tbody tr th:only-of-type {\n",
       "        vertical-align: middle;\n",
       "    }\n",
       "\n",
       "    .dataframe tbody tr th {\n",
       "        vertical-align: top;\n",
       "    }\n",
       "\n",
       "    .dataframe thead th {\n",
       "        text-align: right;\n",
       "    }\n",
       "</style>\n",
       "<table border=\"1\" class=\"dataframe\">\n",
       "  <thead>\n",
       "    <tr style=\"text-align: right;\">\n",
       "      <th></th>\n",
       "      <th>ruleid</th>\n",
       "      <th>title</th>\n",
       "      <th>description</th>\n",
       "    </tr>\n",
       "  </thead>\n",
       "  <tbody>\n",
       "    <tr>\n",
       "      <th>0</th>\n",
       "      <td>OSC-54005</td>\n",
       "      <td>Package integrity is verified</td>\n",
       "      <td>Run 'pkg verify' to check that\\n        all in...</td>\n",
       "    </tr>\n",
       "    <tr>\n",
       "      <th>1</th>\n",
       "      <td>OSC-53005</td>\n",
       "      <td>The OS version is current</td>\n",
       "      <td>Systems should be kept up to date to ensure\\n ...</td>\n",
       "    </tr>\n",
       "    <tr>\n",
       "      <th>2</th>\n",
       "      <td>OSC-53015</td>\n",
       "      <td>Required CVE fixes are installed</td>\n",
       "      <td>For the set of packages present on the system ...</td>\n",
       "    </tr>\n",
       "    <tr>\n",
       "      <th>3</th>\n",
       "      <td>OSC-53505</td>\n",
       "      <td>Package signature checking is globally activated</td>\n",
       "      <td>Package signature checking should be globally ...</td>\n",
       "    </tr>\n",
       "    <tr>\n",
       "      <th>4</th>\n",
       "      <td>OSC-16005</td>\n",
       "      <td>All local filesystems are ZFS</td>\n",
       "      <td>ZFS is the default filesystem for Oracle Solar...</td>\n",
       "    </tr>\n",
       "    <tr>\n",
       "      <th>...</th>\n",
       "      <td>...</td>\n",
       "      <td>...</td>\n",
       "      <td>...</td>\n",
       "    </tr>\n",
       "    <tr>\n",
       "      <th>246</th>\n",
       "      <td>OSC-06110</td>\n",
       "      <td>Cluster authentication protocol is des and key...</td>\n",
       "      <td>Using the claccess command to check if authent...</td>\n",
       "    </tr>\n",
       "    <tr>\n",
       "      <th>247</th>\n",
       "      <td>OSC-06111</td>\n",
       "      <td>Cluster resource_security set to SECURE</td>\n",
       "      <td>Cluster resource_security property should be s...</td>\n",
       "    </tr>\n",
       "    <tr>\n",
       "      <th>248</th>\n",
       "      <td>OSC-06112</td>\n",
       "      <td>Cluster eventlog file must not be world-readable</td>\n",
       "      <td>Check the permissions of eventlog file. It mus...</td>\n",
       "    </tr>\n",
       "    <tr>\n",
       "      <th>249</th>\n",
       "      <td>OSC-06113</td>\n",
       "      <td>Cluster_check log files must not be world-read...</td>\n",
       "      <td>Check ownership of all the cluster_check log f...</td>\n",
       "    </tr>\n",
       "    <tr>\n",
       "      <th>250</th>\n",
       "      <td>OSC-06114</td>\n",
       "      <td>Cluster ql log files must not be world-readable</td>\n",
       "      <td>Check the ownership of all the ql log files. T...</td>\n",
       "    </tr>\n",
       "  </tbody>\n",
       "</table>\n",
       "<p>251 rows × 3 columns</p>\n",
       "</div>"
      ],
      "text/plain": [
       "        ruleid                                              title  \\\n",
       "0    OSC-54005                      Package integrity is verified   \n",
       "1    OSC-53005                          The OS version is current   \n",
       "2    OSC-53015                   Required CVE fixes are installed   \n",
       "3    OSC-53505   Package signature checking is globally activated   \n",
       "4    OSC-16005                      All local filesystems are ZFS   \n",
       "..         ...                                                ...   \n",
       "246  OSC-06110  Cluster authentication protocol is des and key...   \n",
       "247  OSC-06111            Cluster resource_security set to SECURE   \n",
       "248  OSC-06112   Cluster eventlog file must not be world-readable   \n",
       "249  OSC-06113  Cluster_check log files must not be world-read...   \n",
       "250  OSC-06114    Cluster ql log files must not be world-readable   \n",
       "\n",
       "                                           description  \n",
       "0    Run 'pkg verify' to check that\\n        all in...  \n",
       "1    Systems should be kept up to date to ensure\\n ...  \n",
       "2    For the set of packages present on the system ...  \n",
       "3    Package signature checking should be globally ...  \n",
       "4    ZFS is the default filesystem for Oracle Solar...  \n",
       "..                                                 ...  \n",
       "246  Using the claccess command to check if authent...  \n",
       "247  Cluster resource_security property should be s...  \n",
       "248  Check the permissions of eventlog file. It mus...  \n",
       "249  Check ownership of all the cluster_check log f...  \n",
       "250  Check the ownership of all the ql log files. T...  \n",
       "\n",
       "[251 rows x 3 columns]"
      ]
     },
     "execution_count": 33,
     "metadata": {},
     "output_type": "execute_result"
    }
   ],
   "source": [
    "profile_df"
   ]
  },
  {
   "cell_type": "markdown",
   "metadata": {},
   "source": [
    "And you can use `str.contains` to search for a specific thing inside the rule descriptions:"
   ]
  },
  {
   "cell_type": "code",
   "execution_count": 34,
   "metadata": {},
   "outputs": [
    {
     "name": "stdout",
     "output_type": "stream",
     "text": [
      "The rule validates that only approved ports are allowed to be\n",
      "        bound on non-loopback addresses. Any other ports that are being used,\n",
      "        but have not been excluded will be reported as a failure.\n",
      "        \n",
      "        \n",
      "        By default, there are several network services that can send and receive\n",
      "        network packets on a newly-installed Oracle Solaris system, including \n",
      "        sshd(8), rpcbind(8), nfsd(8), webui-service(7), and rad(8).\n",
      "        \n",
      "        \n",
      "        These services can be excluded based on certain values set in other rules\n",
      "        which includes the following:\n",
      "        \n",
      "        OSCV-72011 ssh service, which is currently set to enabled.\n",
      "        \n",
      "        OSCV-39510 nfs-server service, which is currently set to disabled.\n",
      "        \n",
      "        OSCV-98511 webui-server service, which is currently set to enabled.\n",
      "        \n",
      "        OSCV-99011 rad-remote service, which is currently set to enabled.\n",
      "        \n",
      "        OSCV-34010 lpd service, which is currently set to enabled.\n",
      "        \n",
      "        OSCV-324601 ldmd/xmpp_enabled property, which is currently set to true.\n",
      "        \n",
      "        OSCV-324602 ldmd/incoming_migration_enabled property, which is currently\n",
      "        set to true.\n",
      "        \n",
      "        Other ports known to the user as being used by approved services can be\n",
      "        excluded by tailoring OSCV-73505 which is currently set to none.\n",
      "        \n",
      "        \n",
      "        Also, rpcbind, if it is online, should be configured to listen only for\n",
      "        local connections.\n",
      "        \n",
      "        \n",
      "        See the sshd(8), rpcbind(8), nfsd(8), webui-service(7), and rad(8) man\n",
      "        pages.\n",
      "This rule validates that the LDAP client transport is configured to\n",
      "        use a valid TLS based LDAP protocol. See the ldapclient(8) man page for\n",
      "        more information.\n",
      "        \n",
      "        \n",
      "        Some examples of TLS based LDAP protocols include:\n",
      "        \n",
      "        \n",
      "        \n",
      "        The current value this policy is for validating that the LDAP\n",
      "        protocol being used is: tls:any\n",
      "        \n",
      "        \n",
      "        Relationship to other Rules:\n",
      "        \n",
      "        This rule is related to the OSC-32400 LDAP client rule and its\n",
      "        associated value setting OSCV-32400.\n",
      "        If the value for OSCV-32400 is set to disabled, then this rule\n",
      "        will always pass, as the policy for your system is NOT to use LDAP.\n",
      "        If the value for OSCV-32400 is set to enabled, this rule will pass\n",
      "        if the LDAP client transport is configured to use a valid TLS based\n",
      "        LDAP protocol.\n",
      "        \n",
      "        \n",
      "        Tailoring:\n",
      "        \n",
      "        The policy that this rule checks for is tailorable using the\n",
      "        compliance tailoring feature for the OSCV-32410 value.\n",
      "        The default value is set to \"tls:any\", which will match any\n",
      "        TLS-based LDAP protocol.\n",
      "        When tailoring you can also select among values that are\n",
      "        specific LDAP protcols, such as tls:simple or a number of\n",
      "        tls:sasl protocols.\n"
     ]
    }
   ],
   "source": [
    "for cell in profile_df[profile_df['description'].str.contains('oscv', case = False)]['description']:\n",
    "    print(cell)"
   ]
  },
  {
   "cell_type": "markdown",
   "metadata": {},
   "source": [
    "The end of this notebook"
   ]
  }
 ],
 "metadata": {
  "kernelspec": {
   "display_name": "oracle-solaris-rest",
   "language": "python",
   "name": "oracle-solaris-rest"
  },
  "language_info": {
   "codemirror_mode": {
    "name": "ipython",
    "version": 3
   },
   "file_extension": ".py",
   "mimetype": "text/x-python",
   "name": "python",
   "nbconvert_exporter": "python",
   "pygments_lexer": "ipython3",
   "version": "3.7.6"
  }
 },
 "nbformat": 4,
 "nbformat_minor": 4
}
